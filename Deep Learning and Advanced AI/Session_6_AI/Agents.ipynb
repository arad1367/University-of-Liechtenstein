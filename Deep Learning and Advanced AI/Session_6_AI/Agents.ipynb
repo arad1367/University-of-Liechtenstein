{
  "nbformat": 4,
  "nbformat_minor": 0,
  "metadata": {
    "colab": {
      "provenance": []
    },
    "kernelspec": {
      "name": "python3",
      "display_name": "Python 3"
    },
    "language_info": {
      "name": "python"
    },
    "widgets": {
      "application/vnd.jupyter.widget-state+json": {
        "d15040cf171f4f7eac7fb8ad67f1bfe7": {
          "model_module": "@jupyter-widgets/controls",
          "model_name": "VBoxModel",
          "model_module_version": "1.5.0",
          "state": {
            "_dom_classes": [],
            "_model_module": "@jupyter-widgets/controls",
            "_model_module_version": "1.5.0",
            "_model_name": "VBoxModel",
            "_view_count": null,
            "_view_module": "@jupyter-widgets/controls",
            "_view_module_version": "1.5.0",
            "_view_name": "VBoxView",
            "box_style": "",
            "children": [],
            "layout": "IPY_MODEL_667210a21eb14c1484acda5fb0895db2"
          }
        },
        "8cce0069dd8c453b993340b135e8a915": {
          "model_module": "@jupyter-widgets/controls",
          "model_name": "HTMLModel",
          "model_module_version": "1.5.0",
          "state": {
            "_dom_classes": [],
            "_model_module": "@jupyter-widgets/controls",
            "_model_module_version": "1.5.0",
            "_model_name": "HTMLModel",
            "_view_count": null,
            "_view_module": "@jupyter-widgets/controls",
            "_view_module_version": "1.5.0",
            "_view_name": "HTMLView",
            "description": "",
            "description_tooltip": null,
            "layout": "IPY_MODEL_ab89be8eb1334bfbba0d14c5bf4c558a",
            "placeholder": "​",
            "style": "IPY_MODEL_4a569d58480a423b97eb75b77136bf1a",
            "value": "<center> <img\nsrc=https://huggingface.co/front/assets/huggingface_logo-noborder.svg\nalt='Hugging Face'> <br> Copy a token from <a\nhref=\"https://huggingface.co/settings/tokens\" target=\"_blank\">your Hugging Face\ntokens page</a> and paste it below. <br> Immediately click login after copying\nyour token or it might be stored in plain text in this notebook file. </center>"
          }
        },
        "a70efad9ca4b4c41b5ce39905961f009": {
          "model_module": "@jupyter-widgets/controls",
          "model_name": "PasswordModel",
          "model_module_version": "1.5.0",
          "state": {
            "_dom_classes": [],
            "_model_module": "@jupyter-widgets/controls",
            "_model_module_version": "1.5.0",
            "_model_name": "PasswordModel",
            "_view_count": null,
            "_view_module": "@jupyter-widgets/controls",
            "_view_module_version": "1.5.0",
            "_view_name": "PasswordView",
            "continuous_update": true,
            "description": "Token:",
            "description_tooltip": null,
            "disabled": false,
            "layout": "IPY_MODEL_449c301ec9444cd3a544a303e77dfff0",
            "placeholder": "​",
            "style": "IPY_MODEL_8876e014685c409fae3ec9d0ff715683",
            "value": ""
          }
        },
        "3e77fef0b60e4a6f98657a4b41930b8d": {
          "model_module": "@jupyter-widgets/controls",
          "model_name": "CheckboxModel",
          "model_module_version": "1.5.0",
          "state": {
            "_dom_classes": [],
            "_model_module": "@jupyter-widgets/controls",
            "_model_module_version": "1.5.0",
            "_model_name": "CheckboxModel",
            "_view_count": null,
            "_view_module": "@jupyter-widgets/controls",
            "_view_module_version": "1.5.0",
            "_view_name": "CheckboxView",
            "description": "Add token as git credential?",
            "description_tooltip": null,
            "disabled": false,
            "indent": true,
            "layout": "IPY_MODEL_dc838d5bc46f47cda187ef9f4541cf63",
            "style": "IPY_MODEL_76c95138e8134597b34f5143aaaf722b",
            "value": true
          }
        },
        "488c3624b43e4aef8f0c0918add6de7b": {
          "model_module": "@jupyter-widgets/controls",
          "model_name": "ButtonModel",
          "model_module_version": "1.5.0",
          "state": {
            "_dom_classes": [],
            "_model_module": "@jupyter-widgets/controls",
            "_model_module_version": "1.5.0",
            "_model_name": "ButtonModel",
            "_view_count": null,
            "_view_module": "@jupyter-widgets/controls",
            "_view_module_version": "1.5.0",
            "_view_name": "ButtonView",
            "button_style": "",
            "description": "Login",
            "disabled": false,
            "icon": "",
            "layout": "IPY_MODEL_3add05877b9a4cfb898685a370110ba7",
            "style": "IPY_MODEL_bb2a727c86d24ad5b9d83d26561c174a",
            "tooltip": ""
          }
        },
        "d94f7e77e8d246549efed8dca5c72b04": {
          "model_module": "@jupyter-widgets/controls",
          "model_name": "HTMLModel",
          "model_module_version": "1.5.0",
          "state": {
            "_dom_classes": [],
            "_model_module": "@jupyter-widgets/controls",
            "_model_module_version": "1.5.0",
            "_model_name": "HTMLModel",
            "_view_count": null,
            "_view_module": "@jupyter-widgets/controls",
            "_view_module_version": "1.5.0",
            "_view_name": "HTMLView",
            "description": "",
            "description_tooltip": null,
            "layout": "IPY_MODEL_5291504fa9334a10ac1c43681a638672",
            "placeholder": "​",
            "style": "IPY_MODEL_22c14ab6706d4ba2a75069decd5c9573",
            "value": "\n<b>Pro Tip:</b> If you don't already have one, you can create a dedicated\n'notebooks' token with 'write' access, that you can then easily reuse for all\nnotebooks. </center>"
          }
        },
        "667210a21eb14c1484acda5fb0895db2": {
          "model_module": "@jupyter-widgets/base",
          "model_name": "LayoutModel",
          "model_module_version": "1.2.0",
          "state": {
            "_model_module": "@jupyter-widgets/base",
            "_model_module_version": "1.2.0",
            "_model_name": "LayoutModel",
            "_view_count": null,
            "_view_module": "@jupyter-widgets/base",
            "_view_module_version": "1.2.0",
            "_view_name": "LayoutView",
            "align_content": null,
            "align_items": "center",
            "align_self": null,
            "border": null,
            "bottom": null,
            "display": "flex",
            "flex": null,
            "flex_flow": "column",
            "grid_area": null,
            "grid_auto_columns": null,
            "grid_auto_flow": null,
            "grid_auto_rows": null,
            "grid_column": null,
            "grid_gap": null,
            "grid_row": null,
            "grid_template_areas": null,
            "grid_template_columns": null,
            "grid_template_rows": null,
            "height": null,
            "justify_content": null,
            "justify_items": null,
            "left": null,
            "margin": null,
            "max_height": null,
            "max_width": null,
            "min_height": null,
            "min_width": null,
            "object_fit": null,
            "object_position": null,
            "order": null,
            "overflow": null,
            "overflow_x": null,
            "overflow_y": null,
            "padding": null,
            "right": null,
            "top": null,
            "visibility": null,
            "width": "50%"
          }
        },
        "ab89be8eb1334bfbba0d14c5bf4c558a": {
          "model_module": "@jupyter-widgets/base",
          "model_name": "LayoutModel",
          "model_module_version": "1.2.0",
          "state": {
            "_model_module": "@jupyter-widgets/base",
            "_model_module_version": "1.2.0",
            "_model_name": "LayoutModel",
            "_view_count": null,
            "_view_module": "@jupyter-widgets/base",
            "_view_module_version": "1.2.0",
            "_view_name": "LayoutView",
            "align_content": null,
            "align_items": null,
            "align_self": null,
            "border": null,
            "bottom": null,
            "display": null,
            "flex": null,
            "flex_flow": null,
            "grid_area": null,
            "grid_auto_columns": null,
            "grid_auto_flow": null,
            "grid_auto_rows": null,
            "grid_column": null,
            "grid_gap": null,
            "grid_row": null,
            "grid_template_areas": null,
            "grid_template_columns": null,
            "grid_template_rows": null,
            "height": null,
            "justify_content": null,
            "justify_items": null,
            "left": null,
            "margin": null,
            "max_height": null,
            "max_width": null,
            "min_height": null,
            "min_width": null,
            "object_fit": null,
            "object_position": null,
            "order": null,
            "overflow": null,
            "overflow_x": null,
            "overflow_y": null,
            "padding": null,
            "right": null,
            "top": null,
            "visibility": null,
            "width": null
          }
        },
        "4a569d58480a423b97eb75b77136bf1a": {
          "model_module": "@jupyter-widgets/controls",
          "model_name": "DescriptionStyleModel",
          "model_module_version": "1.5.0",
          "state": {
            "_model_module": "@jupyter-widgets/controls",
            "_model_module_version": "1.5.0",
            "_model_name": "DescriptionStyleModel",
            "_view_count": null,
            "_view_module": "@jupyter-widgets/base",
            "_view_module_version": "1.2.0",
            "_view_name": "StyleView",
            "description_width": ""
          }
        },
        "449c301ec9444cd3a544a303e77dfff0": {
          "model_module": "@jupyter-widgets/base",
          "model_name": "LayoutModel",
          "model_module_version": "1.2.0",
          "state": {
            "_model_module": "@jupyter-widgets/base",
            "_model_module_version": "1.2.0",
            "_model_name": "LayoutModel",
            "_view_count": null,
            "_view_module": "@jupyter-widgets/base",
            "_view_module_version": "1.2.0",
            "_view_name": "LayoutView",
            "align_content": null,
            "align_items": null,
            "align_self": null,
            "border": null,
            "bottom": null,
            "display": null,
            "flex": null,
            "flex_flow": null,
            "grid_area": null,
            "grid_auto_columns": null,
            "grid_auto_flow": null,
            "grid_auto_rows": null,
            "grid_column": null,
            "grid_gap": null,
            "grid_row": null,
            "grid_template_areas": null,
            "grid_template_columns": null,
            "grid_template_rows": null,
            "height": null,
            "justify_content": null,
            "justify_items": null,
            "left": null,
            "margin": null,
            "max_height": null,
            "max_width": null,
            "min_height": null,
            "min_width": null,
            "object_fit": null,
            "object_position": null,
            "order": null,
            "overflow": null,
            "overflow_x": null,
            "overflow_y": null,
            "padding": null,
            "right": null,
            "top": null,
            "visibility": null,
            "width": null
          }
        },
        "8876e014685c409fae3ec9d0ff715683": {
          "model_module": "@jupyter-widgets/controls",
          "model_name": "DescriptionStyleModel",
          "model_module_version": "1.5.0",
          "state": {
            "_model_module": "@jupyter-widgets/controls",
            "_model_module_version": "1.5.0",
            "_model_name": "DescriptionStyleModel",
            "_view_count": null,
            "_view_module": "@jupyter-widgets/base",
            "_view_module_version": "1.2.0",
            "_view_name": "StyleView",
            "description_width": ""
          }
        },
        "dc838d5bc46f47cda187ef9f4541cf63": {
          "model_module": "@jupyter-widgets/base",
          "model_name": "LayoutModel",
          "model_module_version": "1.2.0",
          "state": {
            "_model_module": "@jupyter-widgets/base",
            "_model_module_version": "1.2.0",
            "_model_name": "LayoutModel",
            "_view_count": null,
            "_view_module": "@jupyter-widgets/base",
            "_view_module_version": "1.2.0",
            "_view_name": "LayoutView",
            "align_content": null,
            "align_items": null,
            "align_self": null,
            "border": null,
            "bottom": null,
            "display": null,
            "flex": null,
            "flex_flow": null,
            "grid_area": null,
            "grid_auto_columns": null,
            "grid_auto_flow": null,
            "grid_auto_rows": null,
            "grid_column": null,
            "grid_gap": null,
            "grid_row": null,
            "grid_template_areas": null,
            "grid_template_columns": null,
            "grid_template_rows": null,
            "height": null,
            "justify_content": null,
            "justify_items": null,
            "left": null,
            "margin": null,
            "max_height": null,
            "max_width": null,
            "min_height": null,
            "min_width": null,
            "object_fit": null,
            "object_position": null,
            "order": null,
            "overflow": null,
            "overflow_x": null,
            "overflow_y": null,
            "padding": null,
            "right": null,
            "top": null,
            "visibility": null,
            "width": null
          }
        },
        "76c95138e8134597b34f5143aaaf722b": {
          "model_module": "@jupyter-widgets/controls",
          "model_name": "DescriptionStyleModel",
          "model_module_version": "1.5.0",
          "state": {
            "_model_module": "@jupyter-widgets/controls",
            "_model_module_version": "1.5.0",
            "_model_name": "DescriptionStyleModel",
            "_view_count": null,
            "_view_module": "@jupyter-widgets/base",
            "_view_module_version": "1.2.0",
            "_view_name": "StyleView",
            "description_width": ""
          }
        },
        "3add05877b9a4cfb898685a370110ba7": {
          "model_module": "@jupyter-widgets/base",
          "model_name": "LayoutModel",
          "model_module_version": "1.2.0",
          "state": {
            "_model_module": "@jupyter-widgets/base",
            "_model_module_version": "1.2.0",
            "_model_name": "LayoutModel",
            "_view_count": null,
            "_view_module": "@jupyter-widgets/base",
            "_view_module_version": "1.2.0",
            "_view_name": "LayoutView",
            "align_content": null,
            "align_items": null,
            "align_self": null,
            "border": null,
            "bottom": null,
            "display": null,
            "flex": null,
            "flex_flow": null,
            "grid_area": null,
            "grid_auto_columns": null,
            "grid_auto_flow": null,
            "grid_auto_rows": null,
            "grid_column": null,
            "grid_gap": null,
            "grid_row": null,
            "grid_template_areas": null,
            "grid_template_columns": null,
            "grid_template_rows": null,
            "height": null,
            "justify_content": null,
            "justify_items": null,
            "left": null,
            "margin": null,
            "max_height": null,
            "max_width": null,
            "min_height": null,
            "min_width": null,
            "object_fit": null,
            "object_position": null,
            "order": null,
            "overflow": null,
            "overflow_x": null,
            "overflow_y": null,
            "padding": null,
            "right": null,
            "top": null,
            "visibility": null,
            "width": null
          }
        },
        "bb2a727c86d24ad5b9d83d26561c174a": {
          "model_module": "@jupyter-widgets/controls",
          "model_name": "ButtonStyleModel",
          "model_module_version": "1.5.0",
          "state": {
            "_model_module": "@jupyter-widgets/controls",
            "_model_module_version": "1.5.0",
            "_model_name": "ButtonStyleModel",
            "_view_count": null,
            "_view_module": "@jupyter-widgets/base",
            "_view_module_version": "1.2.0",
            "_view_name": "StyleView",
            "button_color": null,
            "font_weight": ""
          }
        },
        "5291504fa9334a10ac1c43681a638672": {
          "model_module": "@jupyter-widgets/base",
          "model_name": "LayoutModel",
          "model_module_version": "1.2.0",
          "state": {
            "_model_module": "@jupyter-widgets/base",
            "_model_module_version": "1.2.0",
            "_model_name": "LayoutModel",
            "_view_count": null,
            "_view_module": "@jupyter-widgets/base",
            "_view_module_version": "1.2.0",
            "_view_name": "LayoutView",
            "align_content": null,
            "align_items": null,
            "align_self": null,
            "border": null,
            "bottom": null,
            "display": null,
            "flex": null,
            "flex_flow": null,
            "grid_area": null,
            "grid_auto_columns": null,
            "grid_auto_flow": null,
            "grid_auto_rows": null,
            "grid_column": null,
            "grid_gap": null,
            "grid_row": null,
            "grid_template_areas": null,
            "grid_template_columns": null,
            "grid_template_rows": null,
            "height": null,
            "justify_content": null,
            "justify_items": null,
            "left": null,
            "margin": null,
            "max_height": null,
            "max_width": null,
            "min_height": null,
            "min_width": null,
            "object_fit": null,
            "object_position": null,
            "order": null,
            "overflow": null,
            "overflow_x": null,
            "overflow_y": null,
            "padding": null,
            "right": null,
            "top": null,
            "visibility": null,
            "width": null
          }
        },
        "22c14ab6706d4ba2a75069decd5c9573": {
          "model_module": "@jupyter-widgets/controls",
          "model_name": "DescriptionStyleModel",
          "model_module_version": "1.5.0",
          "state": {
            "_model_module": "@jupyter-widgets/controls",
            "_model_module_version": "1.5.0",
            "_model_name": "DescriptionStyleModel",
            "_view_count": null,
            "_view_module": "@jupyter-widgets/base",
            "_view_module_version": "1.2.0",
            "_view_name": "StyleView",
            "description_width": ""
          }
        },
        "6b67da8426dc40ffa6d50047eb1a5b56": {
          "model_module": "@jupyter-widgets/controls",
          "model_name": "LabelModel",
          "model_module_version": "1.5.0",
          "state": {
            "_dom_classes": [],
            "_model_module": "@jupyter-widgets/controls",
            "_model_module_version": "1.5.0",
            "_model_name": "LabelModel",
            "_view_count": null,
            "_view_module": "@jupyter-widgets/controls",
            "_view_module_version": "1.5.0",
            "_view_name": "LabelView",
            "description": "",
            "description_tooltip": null,
            "layout": "IPY_MODEL_c1cc466578cf4d108fc32813c91ff613",
            "placeholder": "​",
            "style": "IPY_MODEL_21e4e3123d4d43bebb5bc88bd620d2b4",
            "value": "Connecting..."
          }
        },
        "c1cc466578cf4d108fc32813c91ff613": {
          "model_module": "@jupyter-widgets/base",
          "model_name": "LayoutModel",
          "model_module_version": "1.2.0",
          "state": {
            "_model_module": "@jupyter-widgets/base",
            "_model_module_version": "1.2.0",
            "_model_name": "LayoutModel",
            "_view_count": null,
            "_view_module": "@jupyter-widgets/base",
            "_view_module_version": "1.2.0",
            "_view_name": "LayoutView",
            "align_content": null,
            "align_items": null,
            "align_self": null,
            "border": null,
            "bottom": null,
            "display": null,
            "flex": null,
            "flex_flow": null,
            "grid_area": null,
            "grid_auto_columns": null,
            "grid_auto_flow": null,
            "grid_auto_rows": null,
            "grid_column": null,
            "grid_gap": null,
            "grid_row": null,
            "grid_template_areas": null,
            "grid_template_columns": null,
            "grid_template_rows": null,
            "height": null,
            "justify_content": null,
            "justify_items": null,
            "left": null,
            "margin": null,
            "max_height": null,
            "max_width": null,
            "min_height": null,
            "min_width": null,
            "object_fit": null,
            "object_position": null,
            "order": null,
            "overflow": null,
            "overflow_x": null,
            "overflow_y": null,
            "padding": null,
            "right": null,
            "top": null,
            "visibility": null,
            "width": null
          }
        },
        "21e4e3123d4d43bebb5bc88bd620d2b4": {
          "model_module": "@jupyter-widgets/controls",
          "model_name": "DescriptionStyleModel",
          "model_module_version": "1.5.0",
          "state": {
            "_model_module": "@jupyter-widgets/controls",
            "_model_module_version": "1.5.0",
            "_model_name": "DescriptionStyleModel",
            "_view_count": null,
            "_view_module": "@jupyter-widgets/base",
            "_view_module_version": "1.2.0",
            "_view_name": "StyleView",
            "description_width": ""
          }
        }
      }
    }
  },
  "cells": [
    {
      "cell_type": "markdown",
      "source": [
        "# How To Build Agents?\n",
        "\n",
        "<img src=\"https://raw.githubusercontent.com/arad1367/UniLi_sources/main/IMG/logo.jpg\"\n",
        "     alt=\"University of Liechtenstein\"\n",
        "     width=\"350\"\n",
        "     height=\"auto\">\n",
        "\n",
        "### About This Tutorial\n",
        "\n",
        "This tutorial is prepared by **Dr. Pejman Ebrahimi** for the \"Deep Learning and Advanced AI Techniques\" course at the University of Liechtenstein.\n",
        "\n",
        "For more resources and notebooks related to this course, please visit Moodle or GitHub repository: [Course Materials](https://github.com/arad1367/University-of-Liechtenstein/tree/main/Deep%20Learning%20and%20Advanced%20AI).\n",
        "\n",
        "You can reach out to Dr. Pejman Ebrahimi via email: [pejman.ebrahimi@uni.li](mailto:pejman.ebrahimi@uni.li)."
      ],
      "metadata": {
        "id": "8bMPzA7hQj7A"
      }
    },
    {
      "cell_type": "markdown",
      "source": [
        "# 1. OpenAI Agents SDK\n",
        "\n",
        "> The OpenAI Agents SDK enables you to build agentic AI apps in a lightweight, easy-to-use package with very few abstractions. It's a production-ready upgrade of our previous experimentation for agents, Swarm. The Agents SDK has a very small set of primitives:\n",
        "\n",
        "- `Agents`, which are LLMs equipped with instructions and tools\n",
        "- `Handoffs`, which allow agents to delegate to other agents for specific tasks\n",
        "- `Guardrails`, which enable the inputs to agents to be validated\n",
        "In combination with Python, these primitives are powerful enough to express complex relationships between tools and agents, and allow you to build real-world applications without a steep learning curve. In addition, the SDK comes with built-in tracing that lets you visualize and debug your agentic flows, as well as evaluate them and even fine-tune models for your application."
      ],
      "metadata": {
        "id": "lUCnAAkPQuL5"
      }
    },
    {
      "cell_type": "markdown",
      "source": [
        "# Why use the Agents SDK?\n",
        "\n",
        "![sdk2.png](data:image/png;base64,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)"
      ],
      "metadata": {
        "id": "m9opbxzsRE1D"
      }
    },
    {
      "cell_type": "code",
      "execution_count": 1,
      "metadata": {
        "colab": {
          "base_uri": "https://localhost:8080/"
        },
        "id": "9ZdoaQsKQaXf",
        "outputId": "ed176ae6-29e1-4ac6-d929-0ce1ad71d711"
      },
      "outputs": [
        {
          "output_type": "stream",
          "name": "stdout",
          "text": [
            "Collecting openai-agents\n",
            "  Downloading openai_agents-0.0.14-py3-none-any.whl.metadata (8.2 kB)\n",
            "Collecting griffe<2,>=1.5.6 (from openai-agents)\n",
            "  Downloading griffe-1.7.3-py3-none-any.whl.metadata (5.0 kB)\n",
            "Collecting mcp<2,>=1.6.0 (from openai-agents)\n",
            "  Downloading mcp-1.8.0-py3-none-any.whl.metadata (25 kB)\n",
            "Requirement already satisfied: openai>=1.76.0 in /usr/local/lib/python3.11/dist-packages (from openai-agents) (1.76.2)\n",
            "Requirement already satisfied: pydantic<3,>=2.10 in /usr/local/lib/python3.11/dist-packages (from openai-agents) (2.11.4)\n",
            "Requirement already satisfied: requests<3,>=2.0 in /usr/local/lib/python3.11/dist-packages (from openai-agents) (2.32.3)\n",
            "Collecting types-requests<3,>=2.0 (from openai-agents)\n",
            "  Downloading types_requests-2.32.0.20250328-py3-none-any.whl.metadata (2.3 kB)\n",
            "Requirement already satisfied: typing-extensions<5,>=4.12.2 in /usr/local/lib/python3.11/dist-packages (from openai-agents) (4.13.2)\n",
            "Collecting colorama>=0.4 (from griffe<2,>=1.5.6->openai-agents)\n",
            "  Downloading colorama-0.4.6-py2.py3-none-any.whl.metadata (17 kB)\n",
            "Requirement already satisfied: anyio>=4.5 in /usr/local/lib/python3.11/dist-packages (from mcp<2,>=1.6.0->openai-agents) (4.9.0)\n",
            "Collecting httpx-sse>=0.4 (from mcp<2,>=1.6.0->openai-agents)\n",
            "  Downloading httpx_sse-0.4.0-py3-none-any.whl.metadata (9.0 kB)\n",
            "Requirement already satisfied: httpx>=0.27 in /usr/local/lib/python3.11/dist-packages (from mcp<2,>=1.6.0->openai-agents) (0.28.1)\n",
            "Collecting pydantic-settings>=2.5.2 (from mcp<2,>=1.6.0->openai-agents)\n",
            "  Downloading pydantic_settings-2.9.1-py3-none-any.whl.metadata (3.8 kB)\n",
            "Collecting python-multipart>=0.0.9 (from mcp<2,>=1.6.0->openai-agents)\n",
            "  Downloading python_multipart-0.0.20-py3-none-any.whl.metadata (1.8 kB)\n",
            "Collecting sse-starlette>=1.6.1 (from mcp<2,>=1.6.0->openai-agents)\n",
            "  Downloading sse_starlette-2.3.4-py3-none-any.whl.metadata (7.8 kB)\n",
            "Collecting starlette>=0.27 (from mcp<2,>=1.6.0->openai-agents)\n",
            "  Downloading starlette-0.46.2-py3-none-any.whl.metadata (6.2 kB)\n",
            "Collecting uvicorn>=0.23.1 (from mcp<2,>=1.6.0->openai-agents)\n",
            "  Downloading uvicorn-0.34.2-py3-none-any.whl.metadata (6.5 kB)\n",
            "Requirement already satisfied: distro<2,>=1.7.0 in /usr/local/lib/python3.11/dist-packages (from openai>=1.76.0->openai-agents) (1.9.0)\n",
            "Requirement already satisfied: jiter<1,>=0.4.0 in /usr/local/lib/python3.11/dist-packages (from openai>=1.76.0->openai-agents) (0.9.0)\n",
            "Requirement already satisfied: sniffio in /usr/local/lib/python3.11/dist-packages (from openai>=1.76.0->openai-agents) (1.3.1)\n",
            "Requirement already satisfied: tqdm>4 in /usr/local/lib/python3.11/dist-packages (from openai>=1.76.0->openai-agents) (4.67.1)\n",
            "Requirement already satisfied: annotated-types>=0.6.0 in /usr/local/lib/python3.11/dist-packages (from pydantic<3,>=2.10->openai-agents) (0.7.0)\n",
            "Requirement already satisfied: pydantic-core==2.33.2 in /usr/local/lib/python3.11/dist-packages (from pydantic<3,>=2.10->openai-agents) (2.33.2)\n",
            "Requirement already satisfied: typing-inspection>=0.4.0 in /usr/local/lib/python3.11/dist-packages (from pydantic<3,>=2.10->openai-agents) (0.4.0)\n",
            "Requirement already satisfied: charset-normalizer<4,>=2 in /usr/local/lib/python3.11/dist-packages (from requests<3,>=2.0->openai-agents) (3.4.1)\n",
            "Requirement already satisfied: idna<4,>=2.5 in /usr/local/lib/python3.11/dist-packages (from requests<3,>=2.0->openai-agents) (3.10)\n",
            "Requirement already satisfied: urllib3<3,>=1.21.1 in /usr/local/lib/python3.11/dist-packages (from requests<3,>=2.0->openai-agents) (2.4.0)\n",
            "Requirement already satisfied: certifi>=2017.4.17 in /usr/local/lib/python3.11/dist-packages (from requests<3,>=2.0->openai-agents) (2025.4.26)\n",
            "Requirement already satisfied: httpcore==1.* in /usr/local/lib/python3.11/dist-packages (from httpx>=0.27->mcp<2,>=1.6.0->openai-agents) (1.0.9)\n",
            "Requirement already satisfied: h11>=0.16 in /usr/local/lib/python3.11/dist-packages (from httpcore==1.*->httpx>=0.27->mcp<2,>=1.6.0->openai-agents) (0.16.0)\n",
            "Collecting python-dotenv>=0.21.0 (from pydantic-settings>=2.5.2->mcp<2,>=1.6.0->openai-agents)\n",
            "  Downloading python_dotenv-1.1.0-py3-none-any.whl.metadata (24 kB)\n",
            "Requirement already satisfied: click>=7.0 in /usr/local/lib/python3.11/dist-packages (from uvicorn>=0.23.1->mcp<2,>=1.6.0->openai-agents) (8.1.8)\n",
            "Downloading openai_agents-0.0.14-py3-none-any.whl (116 kB)\n",
            "\u001b[2K   \u001b[90m━━━━━━━━━━━━━━━━━━━━━━━━━━━━━━━━━━━━━━━━\u001b[0m \u001b[32m116.9/116.9 kB\u001b[0m \u001b[31m3.8 MB/s\u001b[0m eta \u001b[36m0:00:00\u001b[0m\n",
            "\u001b[?25hDownloading griffe-1.7.3-py3-none-any.whl (129 kB)\n",
            "\u001b[2K   \u001b[90m━━━━━━━━━━━━━━━━━━━━━━━━━━━━━━━━━━━━━━━━\u001b[0m \u001b[32m129.3/129.3 kB\u001b[0m \u001b[31m9.6 MB/s\u001b[0m eta \u001b[36m0:00:00\u001b[0m\n",
            "\u001b[?25hDownloading mcp-1.8.0-py3-none-any.whl (119 kB)\n",
            "\u001b[2K   \u001b[90m━━━━━━━━━━━━━━━━━━━━━━━━━━━━━━━━━━━━━━━━\u001b[0m \u001b[32m119.5/119.5 kB\u001b[0m \u001b[31m9.1 MB/s\u001b[0m eta \u001b[36m0:00:00\u001b[0m\n",
            "\u001b[?25hDownloading types_requests-2.32.0.20250328-py3-none-any.whl (20 kB)\n",
            "Downloading colorama-0.4.6-py2.py3-none-any.whl (25 kB)\n",
            "Downloading httpx_sse-0.4.0-py3-none-any.whl (7.8 kB)\n",
            "Downloading pydantic_settings-2.9.1-py3-none-any.whl (44 kB)\n",
            "\u001b[2K   \u001b[90m━━━━━━━━━━━━━━━━━━━━━━━━━━━━━━━━━━━━━━━━\u001b[0m \u001b[32m44.4/44.4 kB\u001b[0m \u001b[31m3.1 MB/s\u001b[0m eta \u001b[36m0:00:00\u001b[0m\n",
            "\u001b[?25hDownloading python_multipart-0.0.20-py3-none-any.whl (24 kB)\n",
            "Downloading sse_starlette-2.3.4-py3-none-any.whl (10 kB)\n",
            "Downloading starlette-0.46.2-py3-none-any.whl (72 kB)\n",
            "\u001b[2K   \u001b[90m━━━━━━━━━━━━━━━━━━━━━━━━━━━━━━━━━━━━━━━━\u001b[0m \u001b[32m72.0/72.0 kB\u001b[0m \u001b[31m6.1 MB/s\u001b[0m eta \u001b[36m0:00:00\u001b[0m\n",
            "\u001b[?25hDownloading uvicorn-0.34.2-py3-none-any.whl (62 kB)\n",
            "\u001b[2K   \u001b[90m━━━━━━━━━━━━━━━━━━━━━━━━━━━━━━━━━━━━━━━━\u001b[0m \u001b[32m62.5/62.5 kB\u001b[0m \u001b[31m4.6 MB/s\u001b[0m eta \u001b[36m0:00:00\u001b[0m\n",
            "\u001b[?25hDownloading python_dotenv-1.1.0-py3-none-any.whl (20 kB)\n",
            "Installing collected packages: uvicorn, types-requests, python-multipart, python-dotenv, httpx-sse, colorama, starlette, griffe, sse-starlette, pydantic-settings, mcp, openai-agents\n",
            "Successfully installed colorama-0.4.6 griffe-1.7.3 httpx-sse-0.4.0 mcp-1.8.0 openai-agents-0.0.14 pydantic-settings-2.9.1 python-dotenv-1.1.0 python-multipart-0.0.20 sse-starlette-2.3.4 starlette-0.46.2 types-requests-2.32.0.20250328 uvicorn-0.34.2\n"
          ]
        }
      ],
      "source": [
        "# Installation\n",
        "!pip install openai-agents"
      ]
    },
    {
      "cell_type": "code",
      "source": [
        "# In colab\n",
        "import os\n",
        "from google.colab import userdata\n",
        "\n",
        "api_key = userdata.get('OPENAI_API_KEY')\n",
        "if api_key:\n",
        "    os.environ[\"OPENAI_API_KEY\"] = api_key\n",
        "else:\n",
        "    raise ValueError(\"API key not found in userdata.\")\n"
      ],
      "metadata": {
        "id": "OpQNm1PoU_3e"
      },
      "execution_count": 23,
      "outputs": []
    },
    {
      "cell_type": "code",
      "source": [
        "# In VsCode\n",
        "\n",
        "# !export OPENAI_API_KEY=sk-...\n",
        "# or .env\n",
        "# from dotenv import load_dotenv\n",
        "\n",
        "# load_dotenv()"
      ],
      "metadata": {
        "id": "JSTYyi_MRhdD"
      },
      "execution_count": 8,
      "outputs": []
    },
    {
      "cell_type": "code",
      "source": [
        "# Flight customer service agent\n",
        "\n",
        "from __future__ import annotations as _annotations\n",
        "\n",
        "import asyncio\n",
        "import random\n",
        "import uuid\n",
        "\n",
        "from pydantic import BaseModel\n",
        "\n",
        "from agents import (\n",
        "    Agent,\n",
        "    HandoffOutputItem,\n",
        "    ItemHelpers,\n",
        "    MessageOutputItem,\n",
        "    RunContextWrapper,\n",
        "    Runner,\n",
        "    ToolCallItem,\n",
        "    ToolCallOutputItem,\n",
        "    TResponseInputItem,\n",
        "    function_tool,\n",
        "    handoff,\n",
        "    trace,\n",
        ")\n",
        "from agents.extensions.handoff_prompt import RECOMMENDED_PROMPT_PREFIX\n",
        "\n",
        "### CONTEXT\n",
        "class AirlineAgentContext(BaseModel):\n",
        "    passenger_name: str | None = None\n",
        "    confirmation_number: str | None = None\n",
        "    seat_number: str | None = None\n",
        "    flight_number: str | None = None\n",
        "\n",
        "\n",
        "### TOOLS\n",
        "\n",
        "\n",
        "@function_tool(\n",
        "    name_override=\"faq_lookup_tool\", description_override=\"Lookup frequently asked questions.\"\n",
        ")\n",
        "async def faq_lookup_tool(question: str) -> str:\n",
        "    if \"bag\" in question or \"baggage\" in question:\n",
        "        return (\n",
        "            \"You are allowed to bring one bag on the plane. \"\n",
        "            \"It must be under 50 pounds and 22 inches x 14 inches x 9 inches.\"\n",
        "        )\n",
        "    elif \"seats\" in question or \"plane\" in question:\n",
        "        return (\n",
        "            \"There are 120 seats on the plane. \"\n",
        "            \"There are 22 business class seats and 98 economy seats. \"\n",
        "            \"Exit rows are rows 4 and 16. \"\n",
        "            \"Rows 5-8 are Economy Plus, with extra legroom. \"\n",
        "        )\n",
        "    elif \"wifi\" in question:\n",
        "        return \"We have free wifi on the plane, join Airline-Wifi\"\n",
        "    return \"I'm sorry, I don't know the answer to that question.\"\n",
        "\n",
        "\n",
        "@function_tool\n",
        "async def update_seat(\n",
        "    context: RunContextWrapper[AirlineAgentContext], confirmation_number: str, new_seat: str\n",
        ") -> str:\n",
        "    \"\"\"\n",
        "    Update the seat for a given confirmation number.\n",
        "\n",
        "    Args:\n",
        "        confirmation_number: The confirmation number for the flight.\n",
        "        new_seat: The new seat to update to.\n",
        "    \"\"\"\n",
        "    # Update the context based on the customer's input\n",
        "    context.context.confirmation_number = confirmation_number\n",
        "    context.context.seat_number = new_seat\n",
        "    # Ensure that the flight number has been set by the incoming handoff\n",
        "    assert context.context.flight_number is not None, \"Flight number is required\"\n",
        "    return f\"Updated seat to {new_seat} for confirmation number {confirmation_number}\"\n",
        "\n",
        "\n",
        "### HOOKS\n",
        "\n",
        "\n",
        "async def on_seat_booking_handoff(context: RunContextWrapper[AirlineAgentContext]) -> None:\n",
        "    flight_number = f\"FLT-{random.randint(100, 999)}\"\n",
        "    context.context.flight_number = flight_number\n",
        "\n",
        "\n",
        "### AGENTS\n",
        "\n",
        "faq_agent = Agent[AirlineAgentContext](\n",
        "    name=\"FAQ Agent\",\n",
        "    handoff_description=\"A helpful agent that can answer questions about the airline.\",\n",
        "    instructions=f\"\"\"{RECOMMENDED_PROMPT_PREFIX}\n",
        "    You are an FAQ agent. If you are speaking to a customer, you probably were transferred to from the triage agent.\n",
        "    Use the following routine to support the customer.\n",
        "    # Routine\n",
        "    1. Identify the last question asked by the customer.\n",
        "    2. Use the faq lookup tool to answer the question. Do not rely on your own knowledge.\n",
        "    3. If you cannot answer the question, transfer back to the triage agent.\"\"\",\n",
        "    tools=[faq_lookup_tool],\n",
        ")\n",
        "\n",
        "seat_booking_agent = Agent[AirlineAgentContext](\n",
        "    name=\"Seat Booking Agent\",\n",
        "    handoff_description=\"A helpful agent that can update a seat on a flight.\",\n",
        "    instructions=f\"\"\"{RECOMMENDED_PROMPT_PREFIX}\n",
        "    You are a seat booking agent. If you are speaking to a customer, you probably were transferred to from the triage agent.\n",
        "    Use the following routine to support the customer.\n",
        "    # Routine\n",
        "    1. Ask for their confirmation number.\n",
        "    2. Ask the customer what their desired seat number is.\n",
        "    3. Use the update seat tool to update the seat on the flight.\n",
        "    If the customer asks a question that is not related to the routine, transfer back to the triage agent. \"\"\",\n",
        "    tools=[update_seat],\n",
        ")\n",
        "\n",
        "triage_agent = Agent[AirlineAgentContext](\n",
        "    name=\"Triage Agent\",\n",
        "    handoff_description=\"A triage agent that can delegate a customer's request to the appropriate agent.\",\n",
        "    instructions=(\n",
        "        f\"{RECOMMENDED_PROMPT_PREFIX} \"\n",
        "        \"You are a helpful triaging agent. You can use your tools to delegate questions to other appropriate agents.\"\n",
        "    ),\n",
        "    handoffs=[\n",
        "        faq_agent,\n",
        "        handoff(agent=seat_booking_agent, on_handoff=on_seat_booking_handoff),\n",
        "    ],\n",
        ")\n",
        "\n",
        "faq_agent.handoffs.append(triage_agent)\n",
        "seat_booking_agent.handoffs.append(triage_agent)\n",
        "\n",
        "\n",
        "### RUN\n",
        "\n",
        "\n",
        "async def main():\n",
        "    current_agent: Agent[AirlineAgentContext] = triage_agent\n",
        "    input_items: list[TResponseInputItem] = []\n",
        "    context = AirlineAgentContext()\n",
        "\n",
        "    # Normally, each input from the user would be an API request to your app, and you can wrap the request in a trace()\n",
        "    # Here, we'll just use a random UUID for the conversation ID\n",
        "    conversation_id = uuid.uuid4().hex[:16]\n",
        "\n",
        "    while True:\n",
        "        user_input = input(\"Enter your message: \")\n",
        "        with trace(\"Customer service\", group_id=conversation_id):\n",
        "            input_items.append({\"content\": user_input, \"role\": \"user\"})\n",
        "            result = await Runner.run(current_agent, input_items, context=context)\n",
        "\n",
        "            for new_item in result.new_items:\n",
        "                agent_name = new_item.agent.name\n",
        "                if isinstance(new_item, MessageOutputItem):\n",
        "                    print(f\"{agent_name}: {ItemHelpers.text_message_output(new_item)}\")\n",
        "                elif isinstance(new_item, HandoffOutputItem):\n",
        "                    print(\n",
        "                        f\"Handed off from {new_item.source_agent.name} to {new_item.target_agent.name}\"\n",
        "                    )\n",
        "                elif isinstance(new_item, ToolCallItem):\n",
        "                    print(f\"{agent_name}: Calling a tool\")\n",
        "                elif isinstance(new_item, ToolCallOutputItem):\n",
        "                    print(f\"{agent_name}: Tool call output: {new_item.output}\")\n",
        "                else:\n",
        "                    print(f\"{agent_name}: Skipping item: {new_item.__class__.__name__}\")\n",
        "            input_items = result.to_input_list()\n",
        "            current_agent = result.last_agent\n",
        "\n",
        "\n",
        "if __name__ == \"__main__\":\n",
        "    asyncio.run(main())"
      ],
      "metadata": {
        "id": "kKkGJkz3ZMyQ"
      },
      "execution_count": null,
      "outputs": []
    },
    {
      "cell_type": "markdown",
      "source": [
        "# 2. smolagent"
      ],
      "metadata": {
        "id": "Dfy2CXG4ZP-w"
      }
    },
    {
      "cell_type": "code",
      "source": [
        "!pip install smolagents[toolkit]"
      ],
      "metadata": {
        "colab": {
          "base_uri": "https://localhost:8080/"
        },
        "id": "wYqpF-wXcc1c",
        "outputId": "952f266d-6ef2-4fe9-e07f-c09a1f1523b4"
      },
      "execution_count": 31,
      "outputs": [
        {
          "output_type": "stream",
          "name": "stdout",
          "text": [
            "Requirement already satisfied: smolagents[toolkit] in /usr/local/lib/python3.11/dist-packages (1.15.0)\n",
            "Requirement already satisfied: huggingface-hub>=0.30.0 in /usr/local/lib/python3.11/dist-packages (from smolagents[toolkit]) (0.30.2)\n",
            "Requirement already satisfied: requests>=2.32.3 in /usr/local/lib/python3.11/dist-packages (from smolagents[toolkit]) (2.32.3)\n",
            "Requirement already satisfied: rich>=13.9.4 in /usr/local/lib/python3.11/dist-packages (from smolagents[toolkit]) (13.9.4)\n",
            "Requirement already satisfied: jinja2>=3.1.4 in /usr/local/lib/python3.11/dist-packages (from smolagents[toolkit]) (3.1.6)\n",
            "Requirement already satisfied: pillow>=10.0.1 in /usr/local/lib/python3.11/dist-packages (from smolagents[toolkit]) (11.2.1)\n",
            "Requirement already satisfied: python-dotenv in /usr/local/lib/python3.11/dist-packages (from smolagents[toolkit]) (1.1.0)\n",
            "Requirement already satisfied: duckduckgo-search>=6.3.7 in /usr/local/lib/python3.11/dist-packages (from smolagents[toolkit]) (8.0.1)\n",
            "Requirement already satisfied: markdownify>=0.14.1 in /usr/local/lib/python3.11/dist-packages (from smolagents[toolkit]) (1.1.0)\n",
            "Requirement already satisfied: click>=8.1.8 in /usr/local/lib/python3.11/dist-packages (from duckduckgo-search>=6.3.7->smolagents[toolkit]) (8.1.8)\n",
            "Requirement already satisfied: primp>=0.15.0 in /usr/local/lib/python3.11/dist-packages (from duckduckgo-search>=6.3.7->smolagents[toolkit]) (0.15.0)\n",
            "Requirement already satisfied: lxml>=5.3.0 in /usr/local/lib/python3.11/dist-packages (from duckduckgo-search>=6.3.7->smolagents[toolkit]) (5.4.0)\n",
            "Requirement already satisfied: filelock in /usr/local/lib/python3.11/dist-packages (from huggingface-hub>=0.30.0->smolagents[toolkit]) (3.18.0)\n",
            "Requirement already satisfied: fsspec>=2023.5.0 in /usr/local/lib/python3.11/dist-packages (from huggingface-hub>=0.30.0->smolagents[toolkit]) (2025.3.0)\n",
            "Requirement already satisfied: packaging>=20.9 in /usr/local/lib/python3.11/dist-packages (from huggingface-hub>=0.30.0->smolagents[toolkit]) (24.2)\n",
            "Requirement already satisfied: pyyaml>=5.1 in /usr/local/lib/python3.11/dist-packages (from huggingface-hub>=0.30.0->smolagents[toolkit]) (6.0.2)\n",
            "Requirement already satisfied: tqdm>=4.42.1 in /usr/local/lib/python3.11/dist-packages (from huggingface-hub>=0.30.0->smolagents[toolkit]) (4.67.1)\n",
            "Requirement already satisfied: typing-extensions>=3.7.4.3 in /usr/local/lib/python3.11/dist-packages (from huggingface-hub>=0.30.0->smolagents[toolkit]) (4.13.2)\n",
            "Requirement already satisfied: MarkupSafe>=2.0 in /usr/local/lib/python3.11/dist-packages (from jinja2>=3.1.4->smolagents[toolkit]) (3.0.2)\n",
            "Requirement already satisfied: beautifulsoup4<5,>=4.9 in /usr/local/lib/python3.11/dist-packages (from markdownify>=0.14.1->smolagents[toolkit]) (4.13.4)\n",
            "Requirement already satisfied: six<2,>=1.15 in /usr/local/lib/python3.11/dist-packages (from markdownify>=0.14.1->smolagents[toolkit]) (1.17.0)\n",
            "Requirement already satisfied: charset-normalizer<4,>=2 in /usr/local/lib/python3.11/dist-packages (from requests>=2.32.3->smolagents[toolkit]) (3.4.1)\n",
            "Requirement already satisfied: idna<4,>=2.5 in /usr/local/lib/python3.11/dist-packages (from requests>=2.32.3->smolagents[toolkit]) (3.10)\n",
            "Requirement already satisfied: urllib3<3,>=1.21.1 in /usr/local/lib/python3.11/dist-packages (from requests>=2.32.3->smolagents[toolkit]) (2.4.0)\n",
            "Requirement already satisfied: certifi>=2017.4.17 in /usr/local/lib/python3.11/dist-packages (from requests>=2.32.3->smolagents[toolkit]) (2025.4.26)\n",
            "Requirement already satisfied: markdown-it-py>=2.2.0 in /usr/local/lib/python3.11/dist-packages (from rich>=13.9.4->smolagents[toolkit]) (3.0.0)\n",
            "Requirement already satisfied: pygments<3.0.0,>=2.13.0 in /usr/local/lib/python3.11/dist-packages (from rich>=13.9.4->smolagents[toolkit]) (2.19.1)\n",
            "Requirement already satisfied: soupsieve>1.2 in /usr/local/lib/python3.11/dist-packages (from beautifulsoup4<5,>=4.9->markdownify>=0.14.1->smolagents[toolkit]) (2.7)\n",
            "Requirement already satisfied: mdurl~=0.1 in /usr/local/lib/python3.11/dist-packages (from markdown-it-py>=2.2.0->rich>=13.9.4->smolagents[toolkit]) (0.1.2)\n"
          ]
        }
      ]
    },
    {
      "cell_type": "code",
      "source": [
        "from huggingface_hub import login\n",
        "\n",
        "login()"
      ],
      "metadata": {
        "colab": {
          "base_uri": "https://localhost:8080/",
          "height": 17,
          "referenced_widgets": [
            "d15040cf171f4f7eac7fb8ad67f1bfe7",
            "8cce0069dd8c453b993340b135e8a915",
            "a70efad9ca4b4c41b5ce39905961f009",
            "3e77fef0b60e4a6f98657a4b41930b8d",
            "488c3624b43e4aef8f0c0918add6de7b",
            "d94f7e77e8d246549efed8dca5c72b04",
            "667210a21eb14c1484acda5fb0895db2",
            "ab89be8eb1334bfbba0d14c5bf4c558a",
            "4a569d58480a423b97eb75b77136bf1a",
            "449c301ec9444cd3a544a303e77dfff0",
            "8876e014685c409fae3ec9d0ff715683",
            "dc838d5bc46f47cda187ef9f4541cf63",
            "76c95138e8134597b34f5143aaaf722b",
            "3add05877b9a4cfb898685a370110ba7",
            "bb2a727c86d24ad5b9d83d26561c174a",
            "5291504fa9334a10ac1c43681a638672",
            "22c14ab6706d4ba2a75069decd5c9573",
            "6b67da8426dc40ffa6d50047eb1a5b56",
            "c1cc466578cf4d108fc32813c91ff613",
            "21e4e3123d4d43bebb5bc88bd620d2b4"
          ]
        },
        "id": "dxF7Os9RZaIw",
        "outputId": "2b4b1b6a-d670-4bb2-e12c-60ad4bea1186"
      },
      "execution_count": 32,
      "outputs": [
        {
          "output_type": "display_data",
          "data": {
            "text/plain": [
              "VBox(children=(HTML(value='<center> <img\\nsrc=https://huggingface.co/front/assets/huggingface_logo-noborder.sv…"
            ],
            "application/vnd.jupyter.widget-view+json": {
              "version_major": 2,
              "version_minor": 0,
              "model_id": "d15040cf171f4f7eac7fb8ad67f1bfe7"
            }
          },
          "metadata": {}
        }
      ]
    },
    {
      "cell_type": "code",
      "source": [
        "from smolagents import CodeAgent, DuckDuckGoSearchTool, HfApiModel\n",
        "\n",
        "agent = CodeAgent(tools=[DuckDuckGoSearchTool()], model=HfApiModel())\n",
        "\n",
        "agent.run(\"Which programming languages do I need to learn to become a great AI engineer in 2025?\")\n"
      ],
      "metadata": {
        "colab": {
          "base_uri": "https://localhost:8080/",
          "height": 1000
        },
        "id": "bMzRBhrHZaGR",
        "outputId": "9932ebe1-8044-4595-ac98-4ec3eb61b37a"
      },
      "execution_count": 33,
      "outputs": [
        {
          "output_type": "display_data",
          "data": {
            "text/plain": [
              "\u001b[38;2;212;183;2m╭─\u001b[0m\u001b[38;2;212;183;2m───────────────────────────────────────────────────\u001b[0m\u001b[38;2;212;183;2m \u001b[0m\u001b[1;38;2;212;183;2mNew run\u001b[0m\u001b[38;2;212;183;2m \u001b[0m\u001b[38;2;212;183;2m───────────────────────────────────────────────────\u001b[0m\u001b[38;2;212;183;2m─╮\u001b[0m\n",
              "\u001b[38;2;212;183;2m│\u001b[0m                                                                                                                 \u001b[38;2;212;183;2m│\u001b[0m\n",
              "\u001b[38;2;212;183;2m│\u001b[0m \u001b[1mWhich programming languages do I need to learn to become a great AI engineer in 2025?\u001b[0m                           \u001b[38;2;212;183;2m│\u001b[0m\n",
              "\u001b[38;2;212;183;2m│\u001b[0m                                                                                                                 \u001b[38;2;212;183;2m│\u001b[0m\n",
              "\u001b[38;2;212;183;2m╰─\u001b[0m\u001b[38;2;212;183;2m HfApiModel - Qwen/Qwen2.5-Coder-32B-Instruct \u001b[0m\u001b[38;2;212;183;2m─────────────────────────────────────────────────────────────────\u001b[0m\u001b[38;2;212;183;2m─╯\u001b[0m\n"
            ],
            "text/html": [
              "<pre style=\"white-space:pre;overflow-x:auto;line-height:normal;font-family:Menlo,'DejaVu Sans Mono',consolas,'Courier New',monospace\"><span style=\"color: #d4b702; text-decoration-color: #d4b702\">╭──────────────────────────────────────────────────── </span><span style=\"color: #d4b702; text-decoration-color: #d4b702; font-weight: bold\">New run</span><span style=\"color: #d4b702; text-decoration-color: #d4b702\"> ────────────────────────────────────────────────────╮</span>\n",
              "<span style=\"color: #d4b702; text-decoration-color: #d4b702\">│</span>                                                                                                                 <span style=\"color: #d4b702; text-decoration-color: #d4b702\">│</span>\n",
              "<span style=\"color: #d4b702; text-decoration-color: #d4b702\">│</span> <span style=\"font-weight: bold\">Which programming languages do I need to learn to become a great AI engineer in 2025?</span>                           <span style=\"color: #d4b702; text-decoration-color: #d4b702\">│</span>\n",
              "<span style=\"color: #d4b702; text-decoration-color: #d4b702\">│</span>                                                                                                                 <span style=\"color: #d4b702; text-decoration-color: #d4b702\">│</span>\n",
              "<span style=\"color: #d4b702; text-decoration-color: #d4b702\">╰─ HfApiModel - Qwen/Qwen2.5-Coder-32B-Instruct ──────────────────────────────────────────────────────────────────╯</span>\n",
              "</pre>\n"
            ]
          },
          "metadata": {}
        },
        {
          "output_type": "display_data",
          "data": {
            "text/plain": [
              "\u001b[38;2;212;183;2m━━━━━━━━━━━━━━━━━━━━━━━━━━━━━━━━━━━━━━━━━━━━━━━━━━━━━ \u001b[0m\u001b[1mStep \u001b[0m\u001b[1;36m1\u001b[0m\u001b[38;2;212;183;2m ━━━━━━━━━━━━━━━━━━━━━━━━━━━━━━━━━━━━━━━━━━━━━━━━━━━━━━\u001b[0m\n"
            ],
            "text/html": [
              "<pre style=\"white-space:pre;overflow-x:auto;line-height:normal;font-family:Menlo,'DejaVu Sans Mono',consolas,'Courier New',monospace\"><span style=\"color: #d4b702; text-decoration-color: #d4b702\">━━━━━━━━━━━━━━━━━━━━━━━━━━━━━━━━━━━━━━━━━━━━━━━━━━━━━ </span><span style=\"font-weight: bold\">Step </span><span style=\"color: #008080; text-decoration-color: #008080; font-weight: bold\">1</span><span style=\"color: #d4b702; text-decoration-color: #d4b702\"> ━━━━━━━━━━━━━━━━━━━━━━━━━━━━━━━━━━━━━━━━━━━━━━━━━━━━━━</span>\n",
              "</pre>\n"
            ]
          },
          "metadata": {}
        },
        {
          "output_type": "display_data",
          "data": {
            "text/plain": [
              " ─ \u001b[1mExecuting parsed code:\u001b[0m ──────────────────────────────────────────────────────────────────────────────────────── \n",
              "  \u001b[38;2;248;248;242;48;2;39;40;34msearch_results\u001b[0m\u001b[38;2;248;248;242;48;2;39;40;34m \u001b[0m\u001b[38;2;255;70;137;48;2;39;40;34m=\u001b[0m\u001b[38;2;248;248;242;48;2;39;40;34m \u001b[0m\u001b[38;2;248;248;242;48;2;39;40;34mweb_search\u001b[0m\u001b[38;2;248;248;242;48;2;39;40;34m(\u001b[0m\u001b[38;2;248;248;242;48;2;39;40;34mquery\u001b[0m\u001b[38;2;255;70;137;48;2;39;40;34m=\u001b[0m\u001b[38;2;230;219;116;48;2;39;40;34m\"\u001b[0m\u001b[38;2;230;219;116;48;2;39;40;34mprogramming languages for AI engineer 2025\u001b[0m\u001b[38;2;230;219;116;48;2;39;40;34m\"\u001b[0m\u001b[38;2;248;248;242;48;2;39;40;34m)\u001b[0m\u001b[48;2;39;40;34m                                \u001b[0m  \n",
              "  \u001b[38;2;248;248;242;48;2;39;40;34mprint\u001b[0m\u001b[38;2;248;248;242;48;2;39;40;34m(\u001b[0m\u001b[38;2;248;248;242;48;2;39;40;34msearch_results\u001b[0m\u001b[38;2;248;248;242;48;2;39;40;34m)\u001b[0m\u001b[48;2;39;40;34m                                                                                          \u001b[0m  \n",
              " ───────────────────────────────────────────────────────────────────────────────────────────────────────────────── \n"
            ],
            "text/html": [
              "<pre style=\"white-space:pre;overflow-x:auto;line-height:normal;font-family:Menlo,'DejaVu Sans Mono',consolas,'Courier New',monospace\"> ─ <span style=\"font-weight: bold\">Executing parsed code:</span> ──────────────────────────────────────────────────────────────────────────────────────── \n",
              "  <span style=\"color: #f8f8f2; text-decoration-color: #f8f8f2; background-color: #272822\">search_results </span><span style=\"color: #ff4689; text-decoration-color: #ff4689; background-color: #272822\">=</span><span style=\"color: #f8f8f2; text-decoration-color: #f8f8f2; background-color: #272822\"> web_search(query</span><span style=\"color: #ff4689; text-decoration-color: #ff4689; background-color: #272822\">=</span><span style=\"color: #e6db74; text-decoration-color: #e6db74; background-color: #272822\">\"programming languages for AI engineer 2025\"</span><span style=\"color: #f8f8f2; text-decoration-color: #f8f8f2; background-color: #272822\">)</span><span style=\"background-color: #272822\">                                </span>  \n",
              "  <span style=\"color: #f8f8f2; text-decoration-color: #f8f8f2; background-color: #272822\">print(search_results)</span><span style=\"background-color: #272822\">                                                                                          </span>  \n",
              " ───────────────────────────────────────────────────────────────────────────────────────────────────────────────── \n",
              "</pre>\n"
            ]
          },
          "metadata": {}
        },
        {
          "output_type": "display_data",
          "data": {
            "text/plain": [
              "\u001b[1mExecution logs:\u001b[0m\n",
              "## Search Results\n",
              "\n",
              "[Top 10 AI Programming Languages to Master in \n",
              "2025](https://www.pravaahconsulting.com/post/best-ai-programming-languages)\n",
              "Explore the leading programming languages shaping AI development in 2025. Stay ahead in the tech revolution by \n",
              "mastering these essential tools for innovation. Imagine a world where machines can learn, adapt, and interact with \n",
              "humans in ways that were once the realm of science fiction.\n",
              "\n",
              "[Top AI Programming Languages in 2025: A Comprehensive \n",
              "Guide](https://digiscorp.com/top-ai-programming-languages-in-2025-a-comprehensive-guide/)\n",
              "The choice of programming language directly impacts: Development Speed: How quickly you can build and test AI \n",
              "models.; Performance: The efficiency of algorithms and computations.; Flexibility: The ability to integrate with \n",
              "libraries and frameworks.; Community Support: Availability of resources and tools.; Each language offers unique \n",
              "advantages for different AI applications, such as machine ...\n",
              "\n",
              "[10 Best AI Programming Languages To Know in 2025 - \n",
              "Upwork](https://www.upwork.com/resources/best-ai-programming-language)\n",
              "However, other programming languages like Java, C++, and Haskell also play a fundamental role in creating AI \n",
              "systems. Read on as we discuss the top AI programming languages in detail and explain how to choose a suitable \n",
              "language for your next AI project. 1. Python. One of the most popular programming languages in AI development is \n",
              "Python. It ...\n",
              "\n",
              "[Top 10 AI Programming Languages to Know in 2025](https://www.appliedaicourse.com/blog/ai-programming-languages/)\n",
              "Artificial Intelligence (AI) programming has become central to technological advancements across industries. This \n",
              "article highlights the top 10 programming languages shaping the AI landscape in 2025. These languages are essential\n",
              "for tasks like machine learning, natural language processing, and robotics, offering diverse tools and frameworks \n",
              "to streamline AI development. Overview of the Best ...\n",
              "\n",
              "[Best AI Programming Languages to Use in 2025 - \n",
              "capitalnumbers.com](https://www.capitalnumbers.com/blog/best-ai-programming-languages/)\n",
              "Artificial Intelligence (AI) continues to transform industries, and selecting the right programming language is \n",
              "crucial for effective AI development in 2025.The top programming languages for AI this year include Python, \n",
              "renowned for its extensive libraries and ease of use; Java, valued for its scalability and performance; C++, \n",
              "preferred for high-performance applications; Julia, emerging for ...\n",
              "\n",
              "[Top 10 AI Programming Languages You Need to Know in \n",
              "2025](https://shivlab.com/blog/top-ai-programming-languages-comprehensive-guide/)\n",
              "The best AI languages offer efficiency, scalability, and support for machine learning frameworks. Here are the top \n",
              "10 AI programming languages to learn for future-ready AI development. 1. Python. Python is the most widely used \n",
              "programming language for artificial intelligence. It is known for its simplicity, readability, and extensive \n",
              "library ...\n",
              "\n",
              "[Top AI Programming Languages to Learn in 2025 - \n",
              "prodgrade.com](https://prodgrade.com/artificial-intelligence/ai-programming-languages-2025/)\n",
              "H2: Introduction to AI Programming Languages. H2: Top AI Programming Languages to Learn in 2025. H2: Natural \n",
              "Language Programming: The Future of AI Coding. H2: How to Choose the Right AI Programming Language for Your \n",
              "Project. H2: Trends in AI Programming Languages for 2025 and Beyond. H2: Conclusion. H2: FAQS\n",
              "\n",
              "[AI Programming Languages: Top 10 for 2025 - \n",
              "tuvoc.com](https://www.tuvoc.com/blog/top-10-ai-programming-languages-to-learn-for-a-successful-career-in-2025/)\n",
              "Discover the top 10 AI programming languages to learn in 2025 and boost your career. Artificial intelligence (AI) \n",
              "is more than just some buzzword now, it is actually driving the change and is enabling industries to make smarter \n",
              "decisions, boosting productivity levels, and even reducing costs (from operational costs to marginal costs).\n",
              "\n",
              "[2025's Top 10 AI Programming Languages You Can't \n",
              "Ignore](https://medium.com/lets-code-future/2025s-top-10-ai-programming-languages-you-can-t-ignore-31a8d054f1d2)\n",
              "This article is here to cut through the noise and give you a no-fluff, practical look at the top 10 AI programming \n",
              "languages developers are actually using in 2025. Key Takeaways\n",
              "\n",
              "[Top 10 AI Programming Languages for 2025 - \n",
              "careerty.net](https://www.careerty.net/top-10-programming-languages-for-ai-development-in-2025/)\n",
              "The world of Artificial Intelligence (AI) is rapidly evolving, and with it, the demand for skilled programmers \n",
              "proficient in the right languages. Choosing the optimal programming language for your AI development journey in \n",
              "2025 and beyond is crucial for success. This comprehensive guide delves into the top 10 programming languages \n",
              "poised to ...\n",
              "\n",
              "Out: None\n"
            ],
            "text/html": [
              "<pre style=\"white-space:pre;overflow-x:auto;line-height:normal;font-family:Menlo,'DejaVu Sans Mono',consolas,'Courier New',monospace\"><span style=\"font-weight: bold\">Execution logs:</span>\n",
              "## Search Results\n",
              "\n",
              "[Top 10 AI Programming Languages to Master in \n",
              "2025](https://www.pravaahconsulting.com/post/best-ai-programming-languages)\n",
              "Explore the leading programming languages shaping AI development in 2025. Stay ahead in the tech revolution by \n",
              "mastering these essential tools for innovation. Imagine a world where machines can learn, adapt, and interact with \n",
              "humans in ways that were once the realm of science fiction.\n",
              "\n",
              "[Top AI Programming Languages in 2025: A Comprehensive \n",
              "Guide](https://digiscorp.com/top-ai-programming-languages-in-2025-a-comprehensive-guide/)\n",
              "The choice of programming language directly impacts: Development Speed: How quickly you can build and test AI \n",
              "models.; Performance: The efficiency of algorithms and computations.; Flexibility: The ability to integrate with \n",
              "libraries and frameworks.; Community Support: Availability of resources and tools.; Each language offers unique \n",
              "advantages for different AI applications, such as machine ...\n",
              "\n",
              "[10 Best AI Programming Languages To Know in 2025 - \n",
              "Upwork](https://www.upwork.com/resources/best-ai-programming-language)\n",
              "However, other programming languages like Java, C++, and Haskell also play a fundamental role in creating AI \n",
              "systems. Read on as we discuss the top AI programming languages in detail and explain how to choose a suitable \n",
              "language for your next AI project. 1. Python. One of the most popular programming languages in AI development is \n",
              "Python. It ...\n",
              "\n",
              "[Top 10 AI Programming Languages to Know in 2025](https://www.appliedaicourse.com/blog/ai-programming-languages/)\n",
              "Artificial Intelligence (AI) programming has become central to technological advancements across industries. This \n",
              "article highlights the top 10 programming languages shaping the AI landscape in 2025. These languages are essential\n",
              "for tasks like machine learning, natural language processing, and robotics, offering diverse tools and frameworks \n",
              "to streamline AI development. Overview of the Best ...\n",
              "\n",
              "[Best AI Programming Languages to Use in 2025 - \n",
              "capitalnumbers.com](https://www.capitalnumbers.com/blog/best-ai-programming-languages/)\n",
              "Artificial Intelligence (AI) continues to transform industries, and selecting the right programming language is \n",
              "crucial for effective AI development in 2025.The top programming languages for AI this year include Python, \n",
              "renowned for its extensive libraries and ease of use; Java, valued for its scalability and performance; C++, \n",
              "preferred for high-performance applications; Julia, emerging for ...\n",
              "\n",
              "[Top 10 AI Programming Languages You Need to Know in \n",
              "2025](https://shivlab.com/blog/top-ai-programming-languages-comprehensive-guide/)\n",
              "The best AI languages offer efficiency, scalability, and support for machine learning frameworks. Here are the top \n",
              "10 AI programming languages to learn for future-ready AI development. 1. Python. Python is the most widely used \n",
              "programming language for artificial intelligence. It is known for its simplicity, readability, and extensive \n",
              "library ...\n",
              "\n",
              "[Top AI Programming Languages to Learn in 2025 - \n",
              "prodgrade.com](https://prodgrade.com/artificial-intelligence/ai-programming-languages-2025/)\n",
              "H2: Introduction to AI Programming Languages. H2: Top AI Programming Languages to Learn in 2025. H2: Natural \n",
              "Language Programming: The Future of AI Coding. H2: How to Choose the Right AI Programming Language for Your \n",
              "Project. H2: Trends in AI Programming Languages for 2025 and Beyond. H2: Conclusion. H2: FAQS\n",
              "\n",
              "[AI Programming Languages: Top 10 for 2025 - \n",
              "tuvoc.com](https://www.tuvoc.com/blog/top-10-ai-programming-languages-to-learn-for-a-successful-career-in-2025/)\n",
              "Discover the top 10 AI programming languages to learn in 2025 and boost your career. Artificial intelligence (AI) \n",
              "is more than just some buzzword now, it is actually driving the change and is enabling industries to make smarter \n",
              "decisions, boosting productivity levels, and even reducing costs (from operational costs to marginal costs).\n",
              "\n",
              "[2025's Top 10 AI Programming Languages You Can't \n",
              "Ignore](https://medium.com/lets-code-future/2025s-top-10-ai-programming-languages-you-can-t-ignore-31a8d054f1d2)\n",
              "This article is here to cut through the noise and give you a no-fluff, practical look at the top 10 AI programming \n",
              "languages developers are actually using in 2025. Key Takeaways\n",
              "\n",
              "[Top 10 AI Programming Languages for 2025 - \n",
              "careerty.net](https://www.careerty.net/top-10-programming-languages-for-ai-development-in-2025/)\n",
              "The world of Artificial Intelligence (AI) is rapidly evolving, and with it, the demand for skilled programmers \n",
              "proficient in the right languages. Choosing the optimal programming language for your AI development journey in \n",
              "2025 and beyond is crucial for success. This comprehensive guide delves into the top 10 programming languages \n",
              "poised to ...\n",
              "\n",
              "Out: None\n",
              "</pre>\n"
            ]
          },
          "metadata": {}
        },
        {
          "output_type": "display_data",
          "data": {
            "text/plain": [
              "\u001b[2m[Step 1: Duration 6.01 seconds| Input tokens: 2,058 | Output tokens: 90]\u001b[0m\n"
            ],
            "text/html": [
              "<pre style=\"white-space:pre;overflow-x:auto;line-height:normal;font-family:Menlo,'DejaVu Sans Mono',consolas,'Courier New',monospace\"><span style=\"color: #7f7f7f; text-decoration-color: #7f7f7f\">[Step 1: Duration 6.01 seconds| Input tokens: 2,058 | Output tokens: 90]</span>\n",
              "</pre>\n"
            ]
          },
          "metadata": {}
        },
        {
          "output_type": "display_data",
          "data": {
            "text/plain": [
              "\u001b[38;2;212;183;2m━━━━━━━━━━━━━━━━━━━━━━━━━━━━━━━━━━━━━━━━━━━━━━━━━━━━━ \u001b[0m\u001b[1mStep \u001b[0m\u001b[1;36m2\u001b[0m\u001b[38;2;212;183;2m ━━━━━━━━━━━━━━━━━━━━━━━━━━━━━━━━━━━━━━━━━━━━━━━━━━━━━━\u001b[0m\n"
            ],
            "text/html": [
              "<pre style=\"white-space:pre;overflow-x:auto;line-height:normal;font-family:Menlo,'DejaVu Sans Mono',consolas,'Courier New',monospace\"><span style=\"color: #d4b702; text-decoration-color: #d4b702\">━━━━━━━━━━━━━━━━━━━━━━━━━━━━━━━━━━━━━━━━━━━━━━━━━━━━━ </span><span style=\"font-weight: bold\">Step </span><span style=\"color: #008080; text-decoration-color: #008080; font-weight: bold\">2</span><span style=\"color: #d4b702; text-decoration-color: #d4b702\"> ━━━━━━━━━━━━━━━━━━━━━━━━━━━━━━━━━━━━━━━━━━━━━━━━━━━━━━</span>\n",
              "</pre>\n"
            ]
          },
          "metadata": {}
        },
        {
          "output_type": "display_data",
          "data": {
            "text/plain": [
              " ─ \u001b[1mExecuting parsed code:\u001b[0m ──────────────────────────────────────────────────────────────────────────────────────── \n",
              "  \u001b[38;2;255;70;137;48;2;39;40;34mimport\u001b[0m\u001b[38;2;248;248;242;48;2;39;40;34m \u001b[0m\u001b[38;2;248;248;242;48;2;39;40;34mre\u001b[0m\u001b[48;2;39;40;34m                                                                                                      \u001b[0m  \n",
              "  \u001b[38;2;255;70;137;48;2;39;40;34mfrom\u001b[0m\u001b[38;2;248;248;242;48;2;39;40;34m \u001b[0m\u001b[38;2;248;248;242;48;2;39;40;34mcollections\u001b[0m\u001b[38;2;248;248;242;48;2;39;40;34m \u001b[0m\u001b[38;2;255;70;137;48;2;39;40;34mimport\u001b[0m\u001b[38;2;248;248;242;48;2;39;40;34m \u001b[0m\u001b[38;2;248;248;242;48;2;39;40;34mCounter\u001b[0m\u001b[48;2;39;40;34m                                                                                \u001b[0m  \n",
              "  \u001b[48;2;39;40;34m                                                                                                               \u001b[0m  \n",
              "  \u001b[38;2;149;144;119;48;2;39;40;34m# Define possible programming languages to look for\u001b[0m\u001b[48;2;39;40;34m                                                            \u001b[0m  \n",
              "  \u001b[38;2;248;248;242;48;2;39;40;34mlanguages\u001b[0m\u001b[38;2;248;248;242;48;2;39;40;34m \u001b[0m\u001b[38;2;255;70;137;48;2;39;40;34m=\u001b[0m\u001b[38;2;248;248;242;48;2;39;40;34m \u001b[0m\u001b[38;2;248;248;242;48;2;39;40;34m[\u001b[0m\u001b[38;2;230;219;116;48;2;39;40;34m'\u001b[0m\u001b[38;2;230;219;116;48;2;39;40;34mpython\u001b[0m\u001b[38;2;230;219;116;48;2;39;40;34m'\u001b[0m\u001b[38;2;248;248;242;48;2;39;40;34m,\u001b[0m\u001b[38;2;248;248;242;48;2;39;40;34m \u001b[0m\u001b[38;2;230;219;116;48;2;39;40;34m'\u001b[0m\u001b[38;2;230;219;116;48;2;39;40;34mjava\u001b[0m\u001b[38;2;230;219;116;48;2;39;40;34m'\u001b[0m\u001b[38;2;248;248;242;48;2;39;40;34m,\u001b[0m\u001b[38;2;248;248;242;48;2;39;40;34m \u001b[0m\u001b[38;2;230;219;116;48;2;39;40;34m'\u001b[0m\u001b[38;2;230;219;116;48;2;39;40;34mc++\u001b[0m\u001b[38;2;230;219;116;48;2;39;40;34m'\u001b[0m\u001b[38;2;248;248;242;48;2;39;40;34m,\u001b[0m\u001b[38;2;248;248;242;48;2;39;40;34m \u001b[0m\u001b[38;2;230;219;116;48;2;39;40;34m'\u001b[0m\u001b[38;2;230;219;116;48;2;39;40;34mjulia\u001b[0m\u001b[38;2;230;219;116;48;2;39;40;34m'\u001b[0m\u001b[38;2;248;248;242;48;2;39;40;34m,\u001b[0m\u001b[38;2;248;248;242;48;2;39;40;34m \u001b[0m\u001b[38;2;230;219;116;48;2;39;40;34m'\u001b[0m\u001b[38;2;230;219;116;48;2;39;40;34mr\u001b[0m\u001b[38;2;230;219;116;48;2;39;40;34m'\u001b[0m\u001b[38;2;248;248;242;48;2;39;40;34m,\u001b[0m\u001b[38;2;248;248;242;48;2;39;40;34m \u001b[0m\u001b[38;2;230;219;116;48;2;39;40;34m'\u001b[0m\u001b[38;2;230;219;116;48;2;39;40;34mscala\u001b[0m\u001b[38;2;230;219;116;48;2;39;40;34m'\u001b[0m\u001b[38;2;248;248;242;48;2;39;40;34m,\u001b[0m\u001b[38;2;248;248;242;48;2;39;40;34m \u001b[0m\u001b[38;2;230;219;116;48;2;39;40;34m'\u001b[0m\u001b[38;2;230;219;116;48;2;39;40;34mgo\u001b[0m\u001b[38;2;230;219;116;48;2;39;40;34m'\u001b[0m\u001b[38;2;248;248;242;48;2;39;40;34m,\u001b[0m\u001b[38;2;248;248;242;48;2;39;40;34m \u001b[0m\u001b[38;2;230;219;116;48;2;39;40;34m'\u001b[0m\u001b[38;2;230;219;116;48;2;39;40;34mruby\u001b[0m\u001b[38;2;230;219;116;48;2;39;40;34m'\u001b[0m\u001b[38;2;248;248;242;48;2;39;40;34m,\u001b[0m\u001b[38;2;248;248;242;48;2;39;40;34m \u001b[0m\u001b[38;2;230;219;116;48;2;39;40;34m'\u001b[0m\u001b[38;2;230;219;116;48;2;39;40;34mrust\u001b[0m\u001b[38;2;230;219;116;48;2;39;40;34m'\u001b[0m\u001b[38;2;248;248;242;48;2;39;40;34m,\u001b[0m\u001b[38;2;248;248;242;48;2;39;40;34m \u001b[0m\u001b[38;2;230;219;116;48;2;39;40;34m'\u001b[0m\u001b[38;2;230;219;116;48;2;39;40;34mtypescript\u001b[0m\u001b[38;2;230;219;116;48;2;39;40;34m'\u001b[0m\u001b[38;2;248;248;242;48;2;39;40;34m,\u001b[0m\u001b[38;2;248;248;242;48;2;39;40;34m \u001b[0m\u001b[38;2;230;219;116;48;2;39;40;34m'\u001b[0m\u001b[38;2;230;219;116;48;2;39;40;34mjavascript\u001b[0m\u001b[38;2;230;219;116;48;2;39;40;34m'\u001b[0m\u001b[38;2;248;248;242;48;2;39;40;34m,\u001b[0m\u001b[38;2;248;248;242;48;2;39;40;34m \u001b[0m  \n",
              "  \u001b[38;2;230;219;116;48;2;39;40;34m'\u001b[0m\u001b[38;2;230;219;116;48;2;39;40;34mkotlin\u001b[0m\u001b[38;2;230;219;116;48;2;39;40;34m'\u001b[0m\u001b[38;2;248;248;242;48;2;39;40;34m]\u001b[0m\u001b[48;2;39;40;34m                                                                                                      \u001b[0m  \n",
              "  \u001b[48;2;39;40;34m                                                                                                               \u001b[0m  \n",
              "  \u001b[38;2;149;144;119;48;2;39;40;34m# Combine all search results into a single string\u001b[0m\u001b[48;2;39;40;34m                                                              \u001b[0m  \n",
              "  \u001b[38;2;248;248;242;48;2;39;40;34msearch_results_str\u001b[0m\u001b[38;2;248;248;242;48;2;39;40;34m \u001b[0m\u001b[38;2;255;70;137;48;2;39;40;34m=\u001b[0m\u001b[38;2;248;248;242;48;2;39;40;34m \u001b[0m\u001b[38;2;230;219;116;48;2;39;40;34m'\u001b[0m\u001b[38;2;174;129;255;48;2;39;40;34m\\n\u001b[0m\u001b[38;2;230;219;116;48;2;39;40;34m'\u001b[0m\u001b[38;2;255;70;137;48;2;39;40;34m.\u001b[0m\u001b[38;2;248;248;242;48;2;39;40;34mjoin\u001b[0m\u001b[38;2;248;248;242;48;2;39;40;34m(\u001b[0m\u001b[38;2;248;248;242;48;2;39;40;34msearch_results\u001b[0m\u001b[38;2;248;248;242;48;2;39;40;34m)\u001b[0m\u001b[48;2;39;40;34m                                                                 \u001b[0m  \n",
              "  \u001b[48;2;39;40;34m                                                                                                               \u001b[0m  \n",
              "  \u001b[38;2;149;144;119;48;2;39;40;34m# Convert to lowercase for uniformity\u001b[0m\u001b[48;2;39;40;34m                                                                          \u001b[0m  \n",
              "  \u001b[38;2;248;248;242;48;2;39;40;34msearch_results_str\u001b[0m\u001b[38;2;248;248;242;48;2;39;40;34m \u001b[0m\u001b[38;2;255;70;137;48;2;39;40;34m=\u001b[0m\u001b[38;2;248;248;242;48;2;39;40;34m \u001b[0m\u001b[38;2;248;248;242;48;2;39;40;34msearch_results_str\u001b[0m\u001b[38;2;255;70;137;48;2;39;40;34m.\u001b[0m\u001b[38;2;248;248;242;48;2;39;40;34mlower\u001b[0m\u001b[38;2;248;248;242;48;2;39;40;34m(\u001b[0m\u001b[38;2;248;248;242;48;2;39;40;34m)\u001b[0m\u001b[48;2;39;40;34m                                                                \u001b[0m  \n",
              "  \u001b[48;2;39;40;34m                                                                                                               \u001b[0m  \n",
              "  \u001b[38;2;149;144;119;48;2;39;40;34m# Use regular expressions to find mentions of each language\u001b[0m\u001b[48;2;39;40;34m                                                    \u001b[0m  \n",
              "  \u001b[38;2;248;248;242;48;2;39;40;34mlanguage_counter\u001b[0m\u001b[38;2;248;248;242;48;2;39;40;34m \u001b[0m\u001b[38;2;255;70;137;48;2;39;40;34m=\u001b[0m\u001b[38;2;248;248;242;48;2;39;40;34m \u001b[0m\u001b[38;2;248;248;242;48;2;39;40;34mCounter\u001b[0m\u001b[38;2;248;248;242;48;2;39;40;34m(\u001b[0m\u001b[38;2;248;248;242;48;2;39;40;34m)\u001b[0m\u001b[48;2;39;40;34m                                                                                   \u001b[0m  \n",
              "  \u001b[38;2;102;217;239;48;2;39;40;34mfor\u001b[0m\u001b[38;2;248;248;242;48;2;39;40;34m \u001b[0m\u001b[38;2;248;248;242;48;2;39;40;34mlanguage\u001b[0m\u001b[38;2;248;248;242;48;2;39;40;34m \u001b[0m\u001b[38;2;255;70;137;48;2;39;40;34min\u001b[0m\u001b[38;2;248;248;242;48;2;39;40;34m \u001b[0m\u001b[38;2;248;248;242;48;2;39;40;34mlanguages\u001b[0m\u001b[38;2;248;248;242;48;2;39;40;34m:\u001b[0m\u001b[48;2;39;40;34m                                                                                     \u001b[0m  \n",
              "  \u001b[38;2;248;248;242;48;2;39;40;34m    \u001b[0m\u001b[38;2;248;248;242;48;2;39;40;34mmatches\u001b[0m\u001b[38;2;248;248;242;48;2;39;40;34m \u001b[0m\u001b[38;2;255;70;137;48;2;39;40;34m=\u001b[0m\u001b[38;2;248;248;242;48;2;39;40;34m \u001b[0m\u001b[38;2;248;248;242;48;2;39;40;34mre\u001b[0m\u001b[38;2;255;70;137;48;2;39;40;34m.\u001b[0m\u001b[38;2;248;248;242;48;2;39;40;34mfindall\u001b[0m\u001b[38;2;248;248;242;48;2;39;40;34m(\u001b[0m\u001b[38;2;230;219;116;48;2;39;40;34mr\u001b[0m\u001b[38;2;230;219;116;48;2;39;40;34m'\u001b[0m\u001b[38;2;230;219;116;48;2;39;40;34m\\\u001b[0m\u001b[38;2;230;219;116;48;2;39;40;34mb\u001b[0m\u001b[38;2;230;219;116;48;2;39;40;34m'\u001b[0m\u001b[38;2;248;248;242;48;2;39;40;34m \u001b[0m\u001b[38;2;255;70;137;48;2;39;40;34m+\u001b[0m\u001b[38;2;248;248;242;48;2;39;40;34m \u001b[0m\u001b[38;2;248;248;242;48;2;39;40;34mlanguage\u001b[0m\u001b[38;2;248;248;242;48;2;39;40;34m \u001b[0m\u001b[38;2;255;70;137;48;2;39;40;34m+\u001b[0m\u001b[38;2;248;248;242;48;2;39;40;34m \u001b[0m\u001b[38;2;230;219;116;48;2;39;40;34mr\u001b[0m\u001b[38;2;230;219;116;48;2;39;40;34m'\u001b[0m\u001b[38;2;230;219;116;48;2;39;40;34m\\\u001b[0m\u001b[38;2;230;219;116;48;2;39;40;34mb\u001b[0m\u001b[38;2;230;219;116;48;2;39;40;34m'\u001b[0m\u001b[38;2;248;248;242;48;2;39;40;34m,\u001b[0m\u001b[38;2;248;248;242;48;2;39;40;34m \u001b[0m\u001b[38;2;248;248;242;48;2;39;40;34msearch_results_str\u001b[0m\u001b[38;2;248;248;242;48;2;39;40;34m)\u001b[0m\u001b[48;2;39;40;34m                                         \u001b[0m  \n",
              "  \u001b[38;2;248;248;242;48;2;39;40;34m    \u001b[0m\u001b[38;2;248;248;242;48;2;39;40;34mlanguage_counter\u001b[0m\u001b[38;2;248;248;242;48;2;39;40;34m[\u001b[0m\u001b[38;2;248;248;242;48;2;39;40;34mlanguage\u001b[0m\u001b[38;2;248;248;242;48;2;39;40;34m]\u001b[0m\u001b[38;2;248;248;242;48;2;39;40;34m \u001b[0m\u001b[38;2;255;70;137;48;2;39;40;34m+\u001b[0m\u001b[38;2;255;70;137;48;2;39;40;34m=\u001b[0m\u001b[38;2;248;248;242;48;2;39;40;34m \u001b[0m\u001b[38;2;248;248;242;48;2;39;40;34mlen\u001b[0m\u001b[38;2;248;248;242;48;2;39;40;34m(\u001b[0m\u001b[38;2;248;248;242;48;2;39;40;34mmatches\u001b[0m\u001b[38;2;248;248;242;48;2;39;40;34m)\u001b[0m\u001b[48;2;39;40;34m                                                                 \u001b[0m  \n",
              "  \u001b[48;2;39;40;34m                                                                                                               \u001b[0m  \n",
              "  \u001b[38;2;149;144;119;48;2;39;40;34m# Print the sorted list of languages by frequency\u001b[0m\u001b[48;2;39;40;34m                                                              \u001b[0m  \n",
              "  \u001b[38;2;248;248;242;48;2;39;40;34mprint\u001b[0m\u001b[38;2;248;248;242;48;2;39;40;34m(\u001b[0m\u001b[38;2;248;248;242;48;2;39;40;34mdict\u001b[0m\u001b[38;2;248;248;242;48;2;39;40;34m(\u001b[0m\u001b[38;2;248;248;242;48;2;39;40;34mlanguage_counter\u001b[0m\u001b[38;2;248;248;242;48;2;39;40;34m)\u001b[0m\u001b[38;2;248;248;242;48;2;39;40;34m)\u001b[0m\u001b[48;2;39;40;34m                                                                                  \u001b[0m  \n",
              " ───────────────────────────────────────────────────────────────────────────────────────────────────────────────── \n"
            ],
            "text/html": [
              "<pre style=\"white-space:pre;overflow-x:auto;line-height:normal;font-family:Menlo,'DejaVu Sans Mono',consolas,'Courier New',monospace\"> ─ <span style=\"font-weight: bold\">Executing parsed code:</span> ──────────────────────────────────────────────────────────────────────────────────────── \n",
              "  <span style=\"color: #ff4689; text-decoration-color: #ff4689; background-color: #272822\">import</span><span style=\"color: #f8f8f2; text-decoration-color: #f8f8f2; background-color: #272822\"> re</span><span style=\"background-color: #272822\">                                                                                                      </span>  \n",
              "  <span style=\"color: #ff4689; text-decoration-color: #ff4689; background-color: #272822\">from</span><span style=\"color: #f8f8f2; text-decoration-color: #f8f8f2; background-color: #272822\"> collections </span><span style=\"color: #ff4689; text-decoration-color: #ff4689; background-color: #272822\">import</span><span style=\"color: #f8f8f2; text-decoration-color: #f8f8f2; background-color: #272822\"> Counter</span><span style=\"background-color: #272822\">                                                                                </span>  \n",
              "  <span style=\"background-color: #272822\">                                                                                                               </span>  \n",
              "  <span style=\"color: #959077; text-decoration-color: #959077; background-color: #272822\"># Define possible programming languages to look for</span><span style=\"background-color: #272822\">                                                            </span>  \n",
              "  <span style=\"color: #f8f8f2; text-decoration-color: #f8f8f2; background-color: #272822\">languages </span><span style=\"color: #ff4689; text-decoration-color: #ff4689; background-color: #272822\">=</span><span style=\"color: #f8f8f2; text-decoration-color: #f8f8f2; background-color: #272822\"> [</span><span style=\"color: #e6db74; text-decoration-color: #e6db74; background-color: #272822\">'python'</span><span style=\"color: #f8f8f2; text-decoration-color: #f8f8f2; background-color: #272822\">, </span><span style=\"color: #e6db74; text-decoration-color: #e6db74; background-color: #272822\">'java'</span><span style=\"color: #f8f8f2; text-decoration-color: #f8f8f2; background-color: #272822\">, </span><span style=\"color: #e6db74; text-decoration-color: #e6db74; background-color: #272822\">'c++'</span><span style=\"color: #f8f8f2; text-decoration-color: #f8f8f2; background-color: #272822\">, </span><span style=\"color: #e6db74; text-decoration-color: #e6db74; background-color: #272822\">'julia'</span><span style=\"color: #f8f8f2; text-decoration-color: #f8f8f2; background-color: #272822\">, </span><span style=\"color: #e6db74; text-decoration-color: #e6db74; background-color: #272822\">'r'</span><span style=\"color: #f8f8f2; text-decoration-color: #f8f8f2; background-color: #272822\">, </span><span style=\"color: #e6db74; text-decoration-color: #e6db74; background-color: #272822\">'scala'</span><span style=\"color: #f8f8f2; text-decoration-color: #f8f8f2; background-color: #272822\">, </span><span style=\"color: #e6db74; text-decoration-color: #e6db74; background-color: #272822\">'go'</span><span style=\"color: #f8f8f2; text-decoration-color: #f8f8f2; background-color: #272822\">, </span><span style=\"color: #e6db74; text-decoration-color: #e6db74; background-color: #272822\">'ruby'</span><span style=\"color: #f8f8f2; text-decoration-color: #f8f8f2; background-color: #272822\">, </span><span style=\"color: #e6db74; text-decoration-color: #e6db74; background-color: #272822\">'rust'</span><span style=\"color: #f8f8f2; text-decoration-color: #f8f8f2; background-color: #272822\">, </span><span style=\"color: #e6db74; text-decoration-color: #e6db74; background-color: #272822\">'typescript'</span><span style=\"color: #f8f8f2; text-decoration-color: #f8f8f2; background-color: #272822\">, </span><span style=\"color: #e6db74; text-decoration-color: #e6db74; background-color: #272822\">'javascript'</span><span style=\"color: #f8f8f2; text-decoration-color: #f8f8f2; background-color: #272822\">, </span>  \n",
              "  <span style=\"color: #e6db74; text-decoration-color: #e6db74; background-color: #272822\">'kotlin'</span><span style=\"color: #f8f8f2; text-decoration-color: #f8f8f2; background-color: #272822\">]</span><span style=\"background-color: #272822\">                                                                                                      </span>  \n",
              "  <span style=\"background-color: #272822\">                                                                                                               </span>  \n",
              "  <span style=\"color: #959077; text-decoration-color: #959077; background-color: #272822\"># Combine all search results into a single string</span><span style=\"background-color: #272822\">                                                              </span>  \n",
              "  <span style=\"color: #f8f8f2; text-decoration-color: #f8f8f2; background-color: #272822\">search_results_str </span><span style=\"color: #ff4689; text-decoration-color: #ff4689; background-color: #272822\">=</span><span style=\"color: #f8f8f2; text-decoration-color: #f8f8f2; background-color: #272822\"> </span><span style=\"color: #e6db74; text-decoration-color: #e6db74; background-color: #272822\">'</span><span style=\"color: #ae81ff; text-decoration-color: #ae81ff; background-color: #272822\">\\n</span><span style=\"color: #e6db74; text-decoration-color: #e6db74; background-color: #272822\">'</span><span style=\"color: #ff4689; text-decoration-color: #ff4689; background-color: #272822\">.</span><span style=\"color: #f8f8f2; text-decoration-color: #f8f8f2; background-color: #272822\">join(search_results)</span><span style=\"background-color: #272822\">                                                                 </span>  \n",
              "  <span style=\"background-color: #272822\">                                                                                                               </span>  \n",
              "  <span style=\"color: #959077; text-decoration-color: #959077; background-color: #272822\"># Convert to lowercase for uniformity</span><span style=\"background-color: #272822\">                                                                          </span>  \n",
              "  <span style=\"color: #f8f8f2; text-decoration-color: #f8f8f2; background-color: #272822\">search_results_str </span><span style=\"color: #ff4689; text-decoration-color: #ff4689; background-color: #272822\">=</span><span style=\"color: #f8f8f2; text-decoration-color: #f8f8f2; background-color: #272822\"> search_results_str</span><span style=\"color: #ff4689; text-decoration-color: #ff4689; background-color: #272822\">.</span><span style=\"color: #f8f8f2; text-decoration-color: #f8f8f2; background-color: #272822\">lower()</span><span style=\"background-color: #272822\">                                                                </span>  \n",
              "  <span style=\"background-color: #272822\">                                                                                                               </span>  \n",
              "  <span style=\"color: #959077; text-decoration-color: #959077; background-color: #272822\"># Use regular expressions to find mentions of each language</span><span style=\"background-color: #272822\">                                                    </span>  \n",
              "  <span style=\"color: #f8f8f2; text-decoration-color: #f8f8f2; background-color: #272822\">language_counter </span><span style=\"color: #ff4689; text-decoration-color: #ff4689; background-color: #272822\">=</span><span style=\"color: #f8f8f2; text-decoration-color: #f8f8f2; background-color: #272822\"> Counter()</span><span style=\"background-color: #272822\">                                                                                   </span>  \n",
              "  <span style=\"color: #66d9ef; text-decoration-color: #66d9ef; background-color: #272822\">for</span><span style=\"color: #f8f8f2; text-decoration-color: #f8f8f2; background-color: #272822\"> language </span><span style=\"color: #ff4689; text-decoration-color: #ff4689; background-color: #272822\">in</span><span style=\"color: #f8f8f2; text-decoration-color: #f8f8f2; background-color: #272822\"> languages:</span><span style=\"background-color: #272822\">                                                                                     </span>  \n",
              "  <span style=\"color: #f8f8f2; text-decoration-color: #f8f8f2; background-color: #272822\">    matches </span><span style=\"color: #ff4689; text-decoration-color: #ff4689; background-color: #272822\">=</span><span style=\"color: #f8f8f2; text-decoration-color: #f8f8f2; background-color: #272822\"> re</span><span style=\"color: #ff4689; text-decoration-color: #ff4689; background-color: #272822\">.</span><span style=\"color: #f8f8f2; text-decoration-color: #f8f8f2; background-color: #272822\">findall(</span><span style=\"color: #e6db74; text-decoration-color: #e6db74; background-color: #272822\">r'\\b'</span><span style=\"color: #f8f8f2; text-decoration-color: #f8f8f2; background-color: #272822\"> </span><span style=\"color: #ff4689; text-decoration-color: #ff4689; background-color: #272822\">+</span><span style=\"color: #f8f8f2; text-decoration-color: #f8f8f2; background-color: #272822\"> language </span><span style=\"color: #ff4689; text-decoration-color: #ff4689; background-color: #272822\">+</span><span style=\"color: #f8f8f2; text-decoration-color: #f8f8f2; background-color: #272822\"> </span><span style=\"color: #e6db74; text-decoration-color: #e6db74; background-color: #272822\">r'\\b'</span><span style=\"color: #f8f8f2; text-decoration-color: #f8f8f2; background-color: #272822\">, search_results_str)</span><span style=\"background-color: #272822\">                                         </span>  \n",
              "  <span style=\"color: #f8f8f2; text-decoration-color: #f8f8f2; background-color: #272822\">    language_counter[language] </span><span style=\"color: #ff4689; text-decoration-color: #ff4689; background-color: #272822\">+=</span><span style=\"color: #f8f8f2; text-decoration-color: #f8f8f2; background-color: #272822\"> len(matches)</span><span style=\"background-color: #272822\">                                                                 </span>  \n",
              "  <span style=\"background-color: #272822\">                                                                                                               </span>  \n",
              "  <span style=\"color: #959077; text-decoration-color: #959077; background-color: #272822\"># Print the sorted list of languages by frequency</span><span style=\"background-color: #272822\">                                                              </span>  \n",
              "  <span style=\"color: #f8f8f2; text-decoration-color: #f8f8f2; background-color: #272822\">print(dict(language_counter))</span><span style=\"background-color: #272822\">                                                                                  </span>  \n",
              " ───────────────────────────────────────────────────────────────────────────────────────────────────────────────── \n",
              "</pre>\n"
            ]
          },
          "metadata": {}
        },
        {
          "output_type": "display_data",
          "data": {
            "text/plain": [
              "\u001b[1mExecution logs:\u001b[0m\n",
              "{'python': 0, 'java': 0, 'c++': 128, 'julia': 0, 'r': 256, 'scala': 0, 'go': 0, 'ruby': 0, 'rust': 0, 'typescript':\n",
              "0, 'javascript': 0, 'kotlin': 0}\n",
              "\n",
              "Out: None\n"
            ],
            "text/html": [
              "<pre style=\"white-space:pre;overflow-x:auto;line-height:normal;font-family:Menlo,'DejaVu Sans Mono',consolas,'Courier New',monospace\"><span style=\"font-weight: bold\">Execution logs:</span>\n",
              "{'python': 0, 'java': 0, 'c++': 128, 'julia': 0, 'r': 256, 'scala': 0, 'go': 0, 'ruby': 0, 'rust': 0, 'typescript':\n",
              "0, 'javascript': 0, 'kotlin': 0}\n",
              "\n",
              "Out: None\n",
              "</pre>\n"
            ]
          },
          "metadata": {}
        },
        {
          "output_type": "display_data",
          "data": {
            "text/plain": [
              "\u001b[2m[Step 2: Duration 14.20 seconds| Input tokens: 5,355 | Output tokens: 312]\u001b[0m\n"
            ],
            "text/html": [
              "<pre style=\"white-space:pre;overflow-x:auto;line-height:normal;font-family:Menlo,'DejaVu Sans Mono',consolas,'Courier New',monospace\"><span style=\"color: #7f7f7f; text-decoration-color: #7f7f7f\">[Step 2: Duration 14.20 seconds| Input tokens: 5,355 | Output tokens: 312]</span>\n",
              "</pre>\n"
            ]
          },
          "metadata": {}
        },
        {
          "output_type": "display_data",
          "data": {
            "text/plain": [
              "\u001b[38;2;212;183;2m━━━━━━━━━━━━━━━━━━━━━━━━━━━━━━━━━━━━━━━━━━━━━━━━━━━━━ \u001b[0m\u001b[1mStep \u001b[0m\u001b[1;36m3\u001b[0m\u001b[38;2;212;183;2m ━━━━━━━━━━━━━━━━━━━━━━━━━━━━━━━━━━━━━━━━━━━━━━━━━━━━━━\u001b[0m\n"
            ],
            "text/html": [
              "<pre style=\"white-space:pre;overflow-x:auto;line-height:normal;font-family:Menlo,'DejaVu Sans Mono',consolas,'Courier New',monospace\"><span style=\"color: #d4b702; text-decoration-color: #d4b702\">━━━━━━━━━━━━━━━━━━━━━━━━━━━━━━━━━━━━━━━━━━━━━━━━━━━━━ </span><span style=\"font-weight: bold\">Step </span><span style=\"color: #008080; text-decoration-color: #008080; font-weight: bold\">3</span><span style=\"color: #d4b702; text-decoration-color: #d4b702\"> ━━━━━━━━━━━━━━━━━━━━━━━━━━━━━━━━━━━━━━━━━━━━━━━━━━━━━━</span>\n",
              "</pre>\n"
            ]
          },
          "metadata": {}
        },
        {
          "output_type": "display_data",
          "data": {
            "text/plain": [
              " ─ \u001b[1mExecuting parsed code:\u001b[0m ──────────────────────────────────────────────────────────────────────────────────────── \n",
              "  \u001b[38;2;255;70;137;48;2;39;40;34mimport\u001b[0m\u001b[38;2;248;248;242;48;2;39;40;34m \u001b[0m\u001b[38;2;248;248;242;48;2;39;40;34mre\u001b[0m\u001b[48;2;39;40;34m                                                                                                      \u001b[0m  \n",
              "  \u001b[38;2;255;70;137;48;2;39;40;34mfrom\u001b[0m\u001b[38;2;248;248;242;48;2;39;40;34m \u001b[0m\u001b[38;2;248;248;242;48;2;39;40;34mcollections\u001b[0m\u001b[38;2;248;248;242;48;2;39;40;34m \u001b[0m\u001b[38;2;255;70;137;48;2;39;40;34mimport\u001b[0m\u001b[38;2;248;248;242;48;2;39;40;34m \u001b[0m\u001b[38;2;248;248;242;48;2;39;40;34mCounter\u001b[0m\u001b[48;2;39;40;34m                                                                                \u001b[0m  \n",
              "  \u001b[48;2;39;40;34m                                                                                                               \u001b[0m  \n",
              "  \u001b[38;2;149;144;119;48;2;39;40;34m# Define possible programming languages to look for\u001b[0m\u001b[48;2;39;40;34m                                                            \u001b[0m  \n",
              "  \u001b[38;2;248;248;242;48;2;39;40;34mlanguages\u001b[0m\u001b[38;2;248;248;242;48;2;39;40;34m \u001b[0m\u001b[38;2;255;70;137;48;2;39;40;34m=\u001b[0m\u001b[38;2;248;248;242;48;2;39;40;34m \u001b[0m\u001b[38;2;248;248;242;48;2;39;40;34m[\u001b[0m\u001b[38;2;230;219;116;48;2;39;40;34m'\u001b[0m\u001b[38;2;230;219;116;48;2;39;40;34mpython\u001b[0m\u001b[38;2;230;219;116;48;2;39;40;34m'\u001b[0m\u001b[38;2;248;248;242;48;2;39;40;34m,\u001b[0m\u001b[38;2;248;248;242;48;2;39;40;34m \u001b[0m\u001b[38;2;230;219;116;48;2;39;40;34m'\u001b[0m\u001b[38;2;230;219;116;48;2;39;40;34mjava\u001b[0m\u001b[38;2;230;219;116;48;2;39;40;34m'\u001b[0m\u001b[38;2;248;248;242;48;2;39;40;34m,\u001b[0m\u001b[38;2;248;248;242;48;2;39;40;34m \u001b[0m\u001b[38;2;230;219;116;48;2;39;40;34m'\u001b[0m\u001b[38;2;230;219;116;48;2;39;40;34mc++\u001b[0m\u001b[38;2;230;219;116;48;2;39;40;34m'\u001b[0m\u001b[38;2;248;248;242;48;2;39;40;34m,\u001b[0m\u001b[38;2;248;248;242;48;2;39;40;34m \u001b[0m\u001b[38;2;230;219;116;48;2;39;40;34m'\u001b[0m\u001b[38;2;230;219;116;48;2;39;40;34mjulia\u001b[0m\u001b[38;2;230;219;116;48;2;39;40;34m'\u001b[0m\u001b[38;2;248;248;242;48;2;39;40;34m,\u001b[0m\u001b[38;2;248;248;242;48;2;39;40;34m \u001b[0m\u001b[38;2;230;219;116;48;2;39;40;34m'\u001b[0m\u001b[38;2;230;219;116;48;2;39;40;34mr\u001b[0m\u001b[38;2;230;219;116;48;2;39;40;34m'\u001b[0m\u001b[38;2;248;248;242;48;2;39;40;34m,\u001b[0m\u001b[38;2;248;248;242;48;2;39;40;34m \u001b[0m\u001b[38;2;230;219;116;48;2;39;40;34m'\u001b[0m\u001b[38;2;230;219;116;48;2;39;40;34mscala\u001b[0m\u001b[38;2;230;219;116;48;2;39;40;34m'\u001b[0m\u001b[38;2;248;248;242;48;2;39;40;34m,\u001b[0m\u001b[38;2;248;248;242;48;2;39;40;34m \u001b[0m\u001b[38;2;230;219;116;48;2;39;40;34m'\u001b[0m\u001b[38;2;230;219;116;48;2;39;40;34mgo\u001b[0m\u001b[38;2;230;219;116;48;2;39;40;34m'\u001b[0m\u001b[38;2;248;248;242;48;2;39;40;34m,\u001b[0m\u001b[38;2;248;248;242;48;2;39;40;34m \u001b[0m\u001b[38;2;230;219;116;48;2;39;40;34m'\u001b[0m\u001b[38;2;230;219;116;48;2;39;40;34mruby\u001b[0m\u001b[38;2;230;219;116;48;2;39;40;34m'\u001b[0m\u001b[38;2;248;248;242;48;2;39;40;34m,\u001b[0m\u001b[38;2;248;248;242;48;2;39;40;34m \u001b[0m\u001b[38;2;230;219;116;48;2;39;40;34m'\u001b[0m\u001b[38;2;230;219;116;48;2;39;40;34mrust\u001b[0m\u001b[38;2;230;219;116;48;2;39;40;34m'\u001b[0m\u001b[38;2;248;248;242;48;2;39;40;34m,\u001b[0m\u001b[38;2;248;248;242;48;2;39;40;34m \u001b[0m\u001b[38;2;230;219;116;48;2;39;40;34m'\u001b[0m\u001b[38;2;230;219;116;48;2;39;40;34mtypescript\u001b[0m\u001b[38;2;230;219;116;48;2;39;40;34m'\u001b[0m\u001b[38;2;248;248;242;48;2;39;40;34m,\u001b[0m\u001b[38;2;248;248;242;48;2;39;40;34m \u001b[0m\u001b[38;2;230;219;116;48;2;39;40;34m'\u001b[0m\u001b[38;2;230;219;116;48;2;39;40;34mjavascript\u001b[0m\u001b[38;2;230;219;116;48;2;39;40;34m'\u001b[0m\u001b[38;2;248;248;242;48;2;39;40;34m,\u001b[0m\u001b[38;2;248;248;242;48;2;39;40;34m \u001b[0m  \n",
              "  \u001b[38;2;230;219;116;48;2;39;40;34m'\u001b[0m\u001b[38;2;230;219;116;48;2;39;40;34mkotlin\u001b[0m\u001b[38;2;230;219;116;48;2;39;40;34m'\u001b[0m\u001b[38;2;248;248;242;48;2;39;40;34m]\u001b[0m\u001b[48;2;39;40;34m                                                                                                      \u001b[0m  \n",
              "  \u001b[48;2;39;40;34m                                                                                                               \u001b[0m  \n",
              "  \u001b[38;2;149;144;119;48;2;39;40;34m# Combine all search results into a single string\u001b[0m\u001b[48;2;39;40;34m                                                              \u001b[0m  \n",
              "  \u001b[38;2;248;248;242;48;2;39;40;34msearch_results_str\u001b[0m\u001b[38;2;248;248;242;48;2;39;40;34m \u001b[0m\u001b[38;2;255;70;137;48;2;39;40;34m=\u001b[0m\u001b[38;2;248;248;242;48;2;39;40;34m \u001b[0m\u001b[38;2;230;219;116;48;2;39;40;34m'\u001b[0m\u001b[38;2;174;129;255;48;2;39;40;34m\\n\u001b[0m\u001b[38;2;230;219;116;48;2;39;40;34m'\u001b[0m\u001b[38;2;255;70;137;48;2;39;40;34m.\u001b[0m\u001b[38;2;248;248;242;48;2;39;40;34mjoin\u001b[0m\u001b[38;2;248;248;242;48;2;39;40;34m(\u001b[0m\u001b[38;2;248;248;242;48;2;39;40;34msearch_results\u001b[0m\u001b[38;2;248;248;242;48;2;39;40;34m)\u001b[0m\u001b[48;2;39;40;34m                                                                 \u001b[0m  \n",
              "  \u001b[48;2;39;40;34m                                                                                                               \u001b[0m  \n",
              "  \u001b[38;2;149;144;119;48;2;39;40;34m# Convert to lowercase for uniformity\u001b[0m\u001b[48;2;39;40;34m                                                                          \u001b[0m  \n",
              "  \u001b[38;2;248;248;242;48;2;39;40;34msearch_results_str\u001b[0m\u001b[38;2;248;248;242;48;2;39;40;34m \u001b[0m\u001b[38;2;255;70;137;48;2;39;40;34m=\u001b[0m\u001b[38;2;248;248;242;48;2;39;40;34m \u001b[0m\u001b[38;2;248;248;242;48;2;39;40;34msearch_results_str\u001b[0m\u001b[38;2;255;70;137;48;2;39;40;34m.\u001b[0m\u001b[38;2;248;248;242;48;2;39;40;34mlower\u001b[0m\u001b[38;2;248;248;242;48;2;39;40;34m(\u001b[0m\u001b[38;2;248;248;242;48;2;39;40;34m)\u001b[0m\u001b[48;2;39;40;34m                                                                \u001b[0m  \n",
              "  \u001b[48;2;39;40;34m                                                                                                               \u001b[0m  \n",
              "  \u001b[38;2;149;144;119;48;2;39;40;34m# Use regular expressions to find mentions of each language with improved pattern matching\u001b[0m\u001b[48;2;39;40;34m                     \u001b[0m  \n",
              "  \u001b[38;2;248;248;242;48;2;39;40;34mlanguage_counter\u001b[0m\u001b[38;2;248;248;242;48;2;39;40;34m \u001b[0m\u001b[38;2;255;70;137;48;2;39;40;34m=\u001b[0m\u001b[38;2;248;248;242;48;2;39;40;34m \u001b[0m\u001b[38;2;248;248;242;48;2;39;40;34mCounter\u001b[0m\u001b[38;2;248;248;242;48;2;39;40;34m(\u001b[0m\u001b[38;2;248;248;242;48;2;39;40;34m)\u001b[0m\u001b[48;2;39;40;34m                                                                                   \u001b[0m  \n",
              "  \u001b[38;2;102;217;239;48;2;39;40;34mfor\u001b[0m\u001b[38;2;248;248;242;48;2;39;40;34m \u001b[0m\u001b[38;2;248;248;242;48;2;39;40;34mlanguage\u001b[0m\u001b[38;2;248;248;242;48;2;39;40;34m \u001b[0m\u001b[38;2;255;70;137;48;2;39;40;34min\u001b[0m\u001b[38;2;248;248;242;48;2;39;40;34m \u001b[0m\u001b[38;2;248;248;242;48;2;39;40;34mlanguages\u001b[0m\u001b[38;2;248;248;242;48;2;39;40;34m:\u001b[0m\u001b[48;2;39;40;34m                                                                                     \u001b[0m  \n",
              "  \u001b[38;2;248;248;242;48;2;39;40;34m    \u001b[0m\u001b[38;2;149;144;119;48;2;39;40;34m# Handle special cases like 'c++'\u001b[0m\u001b[48;2;39;40;34m                                                                          \u001b[0m  \n",
              "  \u001b[38;2;248;248;242;48;2;39;40;34m    \u001b[0m\u001b[38;2;102;217;239;48;2;39;40;34mif\u001b[0m\u001b[38;2;248;248;242;48;2;39;40;34m \u001b[0m\u001b[38;2;248;248;242;48;2;39;40;34mlanguage\u001b[0m\u001b[38;2;248;248;242;48;2;39;40;34m \u001b[0m\u001b[38;2;255;70;137;48;2;39;40;34m==\u001b[0m\u001b[38;2;248;248;242;48;2;39;40;34m \u001b[0m\u001b[38;2;230;219;116;48;2;39;40;34m'\u001b[0m\u001b[38;2;230;219;116;48;2;39;40;34mc++\u001b[0m\u001b[38;2;230;219;116;48;2;39;40;34m'\u001b[0m\u001b[38;2;248;248;242;48;2;39;40;34m:\u001b[0m\u001b[48;2;39;40;34m                                                                                      \u001b[0m  \n",
              "  \u001b[38;2;248;248;242;48;2;39;40;34m        \u001b[0m\u001b[38;2;248;248;242;48;2;39;40;34mmatches\u001b[0m\u001b[38;2;248;248;242;48;2;39;40;34m \u001b[0m\u001b[38;2;255;70;137;48;2;39;40;34m=\u001b[0m\u001b[38;2;248;248;242;48;2;39;40;34m \u001b[0m\u001b[38;2;248;248;242;48;2;39;40;34mre\u001b[0m\u001b[38;2;255;70;137;48;2;39;40;34m.\u001b[0m\u001b[38;2;248;248;242;48;2;39;40;34mfindall\u001b[0m\u001b[38;2;248;248;242;48;2;39;40;34m(\u001b[0m\u001b[38;2;230;219;116;48;2;39;40;34mr\u001b[0m\u001b[38;2;230;219;116;48;2;39;40;34m'\u001b[0m\u001b[38;2;230;219;116;48;2;39;40;34m\\\u001b[0m\u001b[38;2;230;219;116;48;2;39;40;34mb\u001b[0m\u001b[38;2;230;219;116;48;2;39;40;34m'\u001b[0m\u001b[38;2;248;248;242;48;2;39;40;34m \u001b[0m\u001b[38;2;255;70;137;48;2;39;40;34m+\u001b[0m\u001b[38;2;248;248;242;48;2;39;40;34m \u001b[0m\u001b[38;2;248;248;242;48;2;39;40;34mre\u001b[0m\u001b[38;2;255;70;137;48;2;39;40;34m.\u001b[0m\u001b[38;2;248;248;242;48;2;39;40;34mescape\u001b[0m\u001b[38;2;248;248;242;48;2;39;40;34m(\u001b[0m\u001b[38;2;248;248;242;48;2;39;40;34mlanguage\u001b[0m\u001b[38;2;248;248;242;48;2;39;40;34m)\u001b[0m\u001b[38;2;248;248;242;48;2;39;40;34m \u001b[0m\u001b[38;2;255;70;137;48;2;39;40;34m+\u001b[0m\u001b[38;2;248;248;242;48;2;39;40;34m \u001b[0m\u001b[38;2;230;219;116;48;2;39;40;34mr\u001b[0m\u001b[38;2;230;219;116;48;2;39;40;34m'\u001b[0m\u001b[38;2;230;219;116;48;2;39;40;34m\\\u001b[0m\u001b[38;2;230;219;116;48;2;39;40;34mb\u001b[0m\u001b[38;2;230;219;116;48;2;39;40;34m'\u001b[0m\u001b[38;2;248;248;242;48;2;39;40;34m,\u001b[0m\u001b[38;2;248;248;242;48;2;39;40;34m \u001b[0m\u001b[38;2;248;248;242;48;2;39;40;34msearch_results_str\u001b[0m\u001b[38;2;248;248;242;48;2;39;40;34m)\u001b[0m\u001b[48;2;39;40;34m                          \u001b[0m  \n",
              "  \u001b[38;2;248;248;242;48;2;39;40;34m    \u001b[0m\u001b[38;2;102;217;239;48;2;39;40;34melse\u001b[0m\u001b[38;2;248;248;242;48;2;39;40;34m:\u001b[0m\u001b[48;2;39;40;34m                                                                                                      \u001b[0m  \n",
              "  \u001b[38;2;248;248;242;48;2;39;40;34m        \u001b[0m\u001b[38;2;248;248;242;48;2;39;40;34mmatches\u001b[0m\u001b[38;2;248;248;242;48;2;39;40;34m \u001b[0m\u001b[38;2;255;70;137;48;2;39;40;34m=\u001b[0m\u001b[38;2;248;248;242;48;2;39;40;34m \u001b[0m\u001b[38;2;248;248;242;48;2;39;40;34mre\u001b[0m\u001b[38;2;255;70;137;48;2;39;40;34m.\u001b[0m\u001b[38;2;248;248;242;48;2;39;40;34mfindall\u001b[0m\u001b[38;2;248;248;242;48;2;39;40;34m(\u001b[0m\u001b[38;2;230;219;116;48;2;39;40;34mr\u001b[0m\u001b[38;2;230;219;116;48;2;39;40;34m'\u001b[0m\u001b[38;2;230;219;116;48;2;39;40;34m\\\u001b[0m\u001b[38;2;230;219;116;48;2;39;40;34mb\u001b[0m\u001b[38;2;230;219;116;48;2;39;40;34m'\u001b[0m\u001b[38;2;248;248;242;48;2;39;40;34m \u001b[0m\u001b[38;2;255;70;137;48;2;39;40;34m+\u001b[0m\u001b[38;2;248;248;242;48;2;39;40;34m \u001b[0m\u001b[38;2;248;248;242;48;2;39;40;34mlanguage\u001b[0m\u001b[38;2;248;248;242;48;2;39;40;34m \u001b[0m\u001b[38;2;255;70;137;48;2;39;40;34m+\u001b[0m\u001b[38;2;248;248;242;48;2;39;40;34m \u001b[0m\u001b[38;2;230;219;116;48;2;39;40;34mr\u001b[0m\u001b[38;2;230;219;116;48;2;39;40;34m'\u001b[0m\u001b[38;2;230;219;116;48;2;39;40;34m\\\u001b[0m\u001b[38;2;230;219;116;48;2;39;40;34mb\u001b[0m\u001b[38;2;230;219;116;48;2;39;40;34m'\u001b[0m\u001b[38;2;248;248;242;48;2;39;40;34m,\u001b[0m\u001b[38;2;248;248;242;48;2;39;40;34m \u001b[0m\u001b[38;2;248;248;242;48;2;39;40;34msearch_results_str\u001b[0m\u001b[38;2;248;248;242;48;2;39;40;34m)\u001b[0m\u001b[48;2;39;40;34m                                     \u001b[0m  \n",
              "  \u001b[38;2;248;248;242;48;2;39;40;34m    \u001b[0m\u001b[38;2;248;248;242;48;2;39;40;34mlanguage_counter\u001b[0m\u001b[38;2;248;248;242;48;2;39;40;34m[\u001b[0m\u001b[38;2;248;248;242;48;2;39;40;34mlanguage\u001b[0m\u001b[38;2;248;248;242;48;2;39;40;34m]\u001b[0m\u001b[38;2;248;248;242;48;2;39;40;34m \u001b[0m\u001b[38;2;255;70;137;48;2;39;40;34m+\u001b[0m\u001b[38;2;255;70;137;48;2;39;40;34m=\u001b[0m\u001b[38;2;248;248;242;48;2;39;40;34m \u001b[0m\u001b[38;2;248;248;242;48;2;39;40;34mlen\u001b[0m\u001b[38;2;248;248;242;48;2;39;40;34m(\u001b[0m\u001b[38;2;248;248;242;48;2;39;40;34mmatches\u001b[0m\u001b[38;2;248;248;242;48;2;39;40;34m)\u001b[0m\u001b[48;2;39;40;34m                                                                 \u001b[0m  \n",
              "  \u001b[48;2;39;40;34m                                                                                                               \u001b[0m  \n",
              "  \u001b[38;2;149;144;119;48;2;39;40;34m# Print the sorted list of languages by frequency\u001b[0m\u001b[48;2;39;40;34m                                                              \u001b[0m  \n",
              "  \u001b[38;2;248;248;242;48;2;39;40;34mprint\u001b[0m\u001b[38;2;248;248;242;48;2;39;40;34m(\u001b[0m\u001b[38;2;248;248;242;48;2;39;40;34mdict\u001b[0m\u001b[38;2;248;248;242;48;2;39;40;34m(\u001b[0m\u001b[38;2;248;248;242;48;2;39;40;34mlanguage_counter\u001b[0m\u001b[38;2;248;248;242;48;2;39;40;34m)\u001b[0m\u001b[38;2;248;248;242;48;2;39;40;34m)\u001b[0m\u001b[48;2;39;40;34m                                                                                  \u001b[0m  \n",
              " ───────────────────────────────────────────────────────────────────────────────────────────────────────────────── \n"
            ],
            "text/html": [
              "<pre style=\"white-space:pre;overflow-x:auto;line-height:normal;font-family:Menlo,'DejaVu Sans Mono',consolas,'Courier New',monospace\"> ─ <span style=\"font-weight: bold\">Executing parsed code:</span> ──────────────────────────────────────────────────────────────────────────────────────── \n",
              "  <span style=\"color: #ff4689; text-decoration-color: #ff4689; background-color: #272822\">import</span><span style=\"color: #f8f8f2; text-decoration-color: #f8f8f2; background-color: #272822\"> re</span><span style=\"background-color: #272822\">                                                                                                      </span>  \n",
              "  <span style=\"color: #ff4689; text-decoration-color: #ff4689; background-color: #272822\">from</span><span style=\"color: #f8f8f2; text-decoration-color: #f8f8f2; background-color: #272822\"> collections </span><span style=\"color: #ff4689; text-decoration-color: #ff4689; background-color: #272822\">import</span><span style=\"color: #f8f8f2; text-decoration-color: #f8f8f2; background-color: #272822\"> Counter</span><span style=\"background-color: #272822\">                                                                                </span>  \n",
              "  <span style=\"background-color: #272822\">                                                                                                               </span>  \n",
              "  <span style=\"color: #959077; text-decoration-color: #959077; background-color: #272822\"># Define possible programming languages to look for</span><span style=\"background-color: #272822\">                                                            </span>  \n",
              "  <span style=\"color: #f8f8f2; text-decoration-color: #f8f8f2; background-color: #272822\">languages </span><span style=\"color: #ff4689; text-decoration-color: #ff4689; background-color: #272822\">=</span><span style=\"color: #f8f8f2; text-decoration-color: #f8f8f2; background-color: #272822\"> [</span><span style=\"color: #e6db74; text-decoration-color: #e6db74; background-color: #272822\">'python'</span><span style=\"color: #f8f8f2; text-decoration-color: #f8f8f2; background-color: #272822\">, </span><span style=\"color: #e6db74; text-decoration-color: #e6db74; background-color: #272822\">'java'</span><span style=\"color: #f8f8f2; text-decoration-color: #f8f8f2; background-color: #272822\">, </span><span style=\"color: #e6db74; text-decoration-color: #e6db74; background-color: #272822\">'c++'</span><span style=\"color: #f8f8f2; text-decoration-color: #f8f8f2; background-color: #272822\">, </span><span style=\"color: #e6db74; text-decoration-color: #e6db74; background-color: #272822\">'julia'</span><span style=\"color: #f8f8f2; text-decoration-color: #f8f8f2; background-color: #272822\">, </span><span style=\"color: #e6db74; text-decoration-color: #e6db74; background-color: #272822\">'r'</span><span style=\"color: #f8f8f2; text-decoration-color: #f8f8f2; background-color: #272822\">, </span><span style=\"color: #e6db74; text-decoration-color: #e6db74; background-color: #272822\">'scala'</span><span style=\"color: #f8f8f2; text-decoration-color: #f8f8f2; background-color: #272822\">, </span><span style=\"color: #e6db74; text-decoration-color: #e6db74; background-color: #272822\">'go'</span><span style=\"color: #f8f8f2; text-decoration-color: #f8f8f2; background-color: #272822\">, </span><span style=\"color: #e6db74; text-decoration-color: #e6db74; background-color: #272822\">'ruby'</span><span style=\"color: #f8f8f2; text-decoration-color: #f8f8f2; background-color: #272822\">, </span><span style=\"color: #e6db74; text-decoration-color: #e6db74; background-color: #272822\">'rust'</span><span style=\"color: #f8f8f2; text-decoration-color: #f8f8f2; background-color: #272822\">, </span><span style=\"color: #e6db74; text-decoration-color: #e6db74; background-color: #272822\">'typescript'</span><span style=\"color: #f8f8f2; text-decoration-color: #f8f8f2; background-color: #272822\">, </span><span style=\"color: #e6db74; text-decoration-color: #e6db74; background-color: #272822\">'javascript'</span><span style=\"color: #f8f8f2; text-decoration-color: #f8f8f2; background-color: #272822\">, </span>  \n",
              "  <span style=\"color: #e6db74; text-decoration-color: #e6db74; background-color: #272822\">'kotlin'</span><span style=\"color: #f8f8f2; text-decoration-color: #f8f8f2; background-color: #272822\">]</span><span style=\"background-color: #272822\">                                                                                                      </span>  \n",
              "  <span style=\"background-color: #272822\">                                                                                                               </span>  \n",
              "  <span style=\"color: #959077; text-decoration-color: #959077; background-color: #272822\"># Combine all search results into a single string</span><span style=\"background-color: #272822\">                                                              </span>  \n",
              "  <span style=\"color: #f8f8f2; text-decoration-color: #f8f8f2; background-color: #272822\">search_results_str </span><span style=\"color: #ff4689; text-decoration-color: #ff4689; background-color: #272822\">=</span><span style=\"color: #f8f8f2; text-decoration-color: #f8f8f2; background-color: #272822\"> </span><span style=\"color: #e6db74; text-decoration-color: #e6db74; background-color: #272822\">'</span><span style=\"color: #ae81ff; text-decoration-color: #ae81ff; background-color: #272822\">\\n</span><span style=\"color: #e6db74; text-decoration-color: #e6db74; background-color: #272822\">'</span><span style=\"color: #ff4689; text-decoration-color: #ff4689; background-color: #272822\">.</span><span style=\"color: #f8f8f2; text-decoration-color: #f8f8f2; background-color: #272822\">join(search_results)</span><span style=\"background-color: #272822\">                                                                 </span>  \n",
              "  <span style=\"background-color: #272822\">                                                                                                               </span>  \n",
              "  <span style=\"color: #959077; text-decoration-color: #959077; background-color: #272822\"># Convert to lowercase for uniformity</span><span style=\"background-color: #272822\">                                                                          </span>  \n",
              "  <span style=\"color: #f8f8f2; text-decoration-color: #f8f8f2; background-color: #272822\">search_results_str </span><span style=\"color: #ff4689; text-decoration-color: #ff4689; background-color: #272822\">=</span><span style=\"color: #f8f8f2; text-decoration-color: #f8f8f2; background-color: #272822\"> search_results_str</span><span style=\"color: #ff4689; text-decoration-color: #ff4689; background-color: #272822\">.</span><span style=\"color: #f8f8f2; text-decoration-color: #f8f8f2; background-color: #272822\">lower()</span><span style=\"background-color: #272822\">                                                                </span>  \n",
              "  <span style=\"background-color: #272822\">                                                                                                               </span>  \n",
              "  <span style=\"color: #959077; text-decoration-color: #959077; background-color: #272822\"># Use regular expressions to find mentions of each language with improved pattern matching</span><span style=\"background-color: #272822\">                     </span>  \n",
              "  <span style=\"color: #f8f8f2; text-decoration-color: #f8f8f2; background-color: #272822\">language_counter </span><span style=\"color: #ff4689; text-decoration-color: #ff4689; background-color: #272822\">=</span><span style=\"color: #f8f8f2; text-decoration-color: #f8f8f2; background-color: #272822\"> Counter()</span><span style=\"background-color: #272822\">                                                                                   </span>  \n",
              "  <span style=\"color: #66d9ef; text-decoration-color: #66d9ef; background-color: #272822\">for</span><span style=\"color: #f8f8f2; text-decoration-color: #f8f8f2; background-color: #272822\"> language </span><span style=\"color: #ff4689; text-decoration-color: #ff4689; background-color: #272822\">in</span><span style=\"color: #f8f8f2; text-decoration-color: #f8f8f2; background-color: #272822\"> languages:</span><span style=\"background-color: #272822\">                                                                                     </span>  \n",
              "  <span style=\"color: #f8f8f2; text-decoration-color: #f8f8f2; background-color: #272822\">    </span><span style=\"color: #959077; text-decoration-color: #959077; background-color: #272822\"># Handle special cases like 'c++'</span><span style=\"background-color: #272822\">                                                                          </span>  \n",
              "  <span style=\"color: #f8f8f2; text-decoration-color: #f8f8f2; background-color: #272822\">    </span><span style=\"color: #66d9ef; text-decoration-color: #66d9ef; background-color: #272822\">if</span><span style=\"color: #f8f8f2; text-decoration-color: #f8f8f2; background-color: #272822\"> language </span><span style=\"color: #ff4689; text-decoration-color: #ff4689; background-color: #272822\">==</span><span style=\"color: #f8f8f2; text-decoration-color: #f8f8f2; background-color: #272822\"> </span><span style=\"color: #e6db74; text-decoration-color: #e6db74; background-color: #272822\">'c++'</span><span style=\"color: #f8f8f2; text-decoration-color: #f8f8f2; background-color: #272822\">:</span><span style=\"background-color: #272822\">                                                                                      </span>  \n",
              "  <span style=\"color: #f8f8f2; text-decoration-color: #f8f8f2; background-color: #272822\">        matches </span><span style=\"color: #ff4689; text-decoration-color: #ff4689; background-color: #272822\">=</span><span style=\"color: #f8f8f2; text-decoration-color: #f8f8f2; background-color: #272822\"> re</span><span style=\"color: #ff4689; text-decoration-color: #ff4689; background-color: #272822\">.</span><span style=\"color: #f8f8f2; text-decoration-color: #f8f8f2; background-color: #272822\">findall(</span><span style=\"color: #e6db74; text-decoration-color: #e6db74; background-color: #272822\">r'\\b'</span><span style=\"color: #f8f8f2; text-decoration-color: #f8f8f2; background-color: #272822\"> </span><span style=\"color: #ff4689; text-decoration-color: #ff4689; background-color: #272822\">+</span><span style=\"color: #f8f8f2; text-decoration-color: #f8f8f2; background-color: #272822\"> re</span><span style=\"color: #ff4689; text-decoration-color: #ff4689; background-color: #272822\">.</span><span style=\"color: #f8f8f2; text-decoration-color: #f8f8f2; background-color: #272822\">escape(language) </span><span style=\"color: #ff4689; text-decoration-color: #ff4689; background-color: #272822\">+</span><span style=\"color: #f8f8f2; text-decoration-color: #f8f8f2; background-color: #272822\"> </span><span style=\"color: #e6db74; text-decoration-color: #e6db74; background-color: #272822\">r'\\b'</span><span style=\"color: #f8f8f2; text-decoration-color: #f8f8f2; background-color: #272822\">, search_results_str)</span><span style=\"background-color: #272822\">                          </span>  \n",
              "  <span style=\"color: #f8f8f2; text-decoration-color: #f8f8f2; background-color: #272822\">    </span><span style=\"color: #66d9ef; text-decoration-color: #66d9ef; background-color: #272822\">else</span><span style=\"color: #f8f8f2; text-decoration-color: #f8f8f2; background-color: #272822\">:</span><span style=\"background-color: #272822\">                                                                                                      </span>  \n",
              "  <span style=\"color: #f8f8f2; text-decoration-color: #f8f8f2; background-color: #272822\">        matches </span><span style=\"color: #ff4689; text-decoration-color: #ff4689; background-color: #272822\">=</span><span style=\"color: #f8f8f2; text-decoration-color: #f8f8f2; background-color: #272822\"> re</span><span style=\"color: #ff4689; text-decoration-color: #ff4689; background-color: #272822\">.</span><span style=\"color: #f8f8f2; text-decoration-color: #f8f8f2; background-color: #272822\">findall(</span><span style=\"color: #e6db74; text-decoration-color: #e6db74; background-color: #272822\">r'\\b'</span><span style=\"color: #f8f8f2; text-decoration-color: #f8f8f2; background-color: #272822\"> </span><span style=\"color: #ff4689; text-decoration-color: #ff4689; background-color: #272822\">+</span><span style=\"color: #f8f8f2; text-decoration-color: #f8f8f2; background-color: #272822\"> language </span><span style=\"color: #ff4689; text-decoration-color: #ff4689; background-color: #272822\">+</span><span style=\"color: #f8f8f2; text-decoration-color: #f8f8f2; background-color: #272822\"> </span><span style=\"color: #e6db74; text-decoration-color: #e6db74; background-color: #272822\">r'\\b'</span><span style=\"color: #f8f8f2; text-decoration-color: #f8f8f2; background-color: #272822\">, search_results_str)</span><span style=\"background-color: #272822\">                                     </span>  \n",
              "  <span style=\"color: #f8f8f2; text-decoration-color: #f8f8f2; background-color: #272822\">    language_counter[language] </span><span style=\"color: #ff4689; text-decoration-color: #ff4689; background-color: #272822\">+=</span><span style=\"color: #f8f8f2; text-decoration-color: #f8f8f2; background-color: #272822\"> len(matches)</span><span style=\"background-color: #272822\">                                                                 </span>  \n",
              "  <span style=\"background-color: #272822\">                                                                                                               </span>  \n",
              "  <span style=\"color: #959077; text-decoration-color: #959077; background-color: #272822\"># Print the sorted list of languages by frequency</span><span style=\"background-color: #272822\">                                                              </span>  \n",
              "  <span style=\"color: #f8f8f2; text-decoration-color: #f8f8f2; background-color: #272822\">print(dict(language_counter))</span><span style=\"background-color: #272822\">                                                                                  </span>  \n",
              " ───────────────────────────────────────────────────────────────────────────────────────────────────────────────── \n",
              "</pre>\n"
            ]
          },
          "metadata": {}
        },
        {
          "output_type": "display_data",
          "data": {
            "text/plain": [
              "\u001b[1mExecution logs:\u001b[0m\n",
              "{'python': 0, 'java': 0, 'c++': 0, 'julia': 0, 'r': 256, 'scala': 0, 'go': 0, 'ruby': 0, 'rust': 0, 'typescript': \n",
              "0, 'javascript': 0, 'kotlin': 0}\n",
              "\n",
              "Out: None\n"
            ],
            "text/html": [
              "<pre style=\"white-space:pre;overflow-x:auto;line-height:normal;font-family:Menlo,'DejaVu Sans Mono',consolas,'Courier New',monospace\"><span style=\"font-weight: bold\">Execution logs:</span>\n",
              "{'python': 0, 'java': 0, 'c++': 0, 'julia': 0, 'r': 256, 'scala': 0, 'go': 0, 'ruby': 0, 'rust': 0, 'typescript': \n",
              "0, 'javascript': 0, 'kotlin': 0}\n",
              "\n",
              "Out: None\n",
              "</pre>\n"
            ]
          },
          "metadata": {}
        },
        {
          "output_type": "display_data",
          "data": {
            "text/plain": [
              "\u001b[2m[Step 3: Duration 14.69 seconds| Input tokens: 9,188 | Output tokens: 606]\u001b[0m\n"
            ],
            "text/html": [
              "<pre style=\"white-space:pre;overflow-x:auto;line-height:normal;font-family:Menlo,'DejaVu Sans Mono',consolas,'Courier New',monospace\"><span style=\"color: #7f7f7f; text-decoration-color: #7f7f7f\">[Step 3: Duration 14.69 seconds| Input tokens: 9,188 | Output tokens: 606]</span>\n",
              "</pre>\n"
            ]
          },
          "metadata": {}
        },
        {
          "output_type": "display_data",
          "data": {
            "text/plain": [
              "\u001b[38;2;212;183;2m━━━━━━━━━━━━━━━━━━━━━━━━━━━━━━━━━━━━━━━━━━━━━━━━━━━━━ \u001b[0m\u001b[1mStep \u001b[0m\u001b[1;36m4\u001b[0m\u001b[38;2;212;183;2m ━━━━━━━━━━━━━━━━━━━━━━━━━━━━━━━━━━━━━━━━━━━━━━━━━━━━━━\u001b[0m\n"
            ],
            "text/html": [
              "<pre style=\"white-space:pre;overflow-x:auto;line-height:normal;font-family:Menlo,'DejaVu Sans Mono',consolas,'Courier New',monospace\"><span style=\"color: #d4b702; text-decoration-color: #d4b702\">━━━━━━━━━━━━━━━━━━━━━━━━━━━━━━━━━━━━━━━━━━━━━━━━━━━━━ </span><span style=\"font-weight: bold\">Step </span><span style=\"color: #008080; text-decoration-color: #008080; font-weight: bold\">4</span><span style=\"color: #d4b702; text-decoration-color: #d4b702\"> ━━━━━━━━━━━━━━━━━━━━━━━━━━━━━━━━━━━━━━━━━━━━━━━━━━━━━━</span>\n",
              "</pre>\n"
            ]
          },
          "metadata": {}
        },
        {
          "output_type": "display_data",
          "data": {
            "text/plain": [
              " ─ \u001b[1mExecuting parsed code:\u001b[0m ──────────────────────────────────────────────────────────────────────────────────────── \n",
              "  \u001b[38;2;149;144;119;48;2;39;40;34m# Define possible programming languages to look for\u001b[0m\u001b[48;2;39;40;34m                                                            \u001b[0m  \n",
              "  \u001b[38;2;248;248;242;48;2;39;40;34mlanguages\u001b[0m\u001b[38;2;248;248;242;48;2;39;40;34m \u001b[0m\u001b[38;2;255;70;137;48;2;39;40;34m=\u001b[0m\u001b[38;2;248;248;242;48;2;39;40;34m \u001b[0m\u001b[38;2;248;248;242;48;2;39;40;34m[\u001b[0m\u001b[38;2;230;219;116;48;2;39;40;34m'\u001b[0m\u001b[38;2;230;219;116;48;2;39;40;34mpython\u001b[0m\u001b[38;2;230;219;116;48;2;39;40;34m'\u001b[0m\u001b[38;2;248;248;242;48;2;39;40;34m,\u001b[0m\u001b[38;2;248;248;242;48;2;39;40;34m \u001b[0m\u001b[38;2;230;219;116;48;2;39;40;34m'\u001b[0m\u001b[38;2;230;219;116;48;2;39;40;34mjava\u001b[0m\u001b[38;2;230;219;116;48;2;39;40;34m'\u001b[0m\u001b[38;2;248;248;242;48;2;39;40;34m,\u001b[0m\u001b[38;2;248;248;242;48;2;39;40;34m \u001b[0m\u001b[38;2;230;219;116;48;2;39;40;34m'\u001b[0m\u001b[38;2;230;219;116;48;2;39;40;34mc++\u001b[0m\u001b[38;2;230;219;116;48;2;39;40;34m'\u001b[0m\u001b[38;2;248;248;242;48;2;39;40;34m,\u001b[0m\u001b[38;2;248;248;242;48;2;39;40;34m \u001b[0m\u001b[38;2;230;219;116;48;2;39;40;34m'\u001b[0m\u001b[38;2;230;219;116;48;2;39;40;34mjulia\u001b[0m\u001b[38;2;230;219;116;48;2;39;40;34m'\u001b[0m\u001b[38;2;248;248;242;48;2;39;40;34m,\u001b[0m\u001b[38;2;248;248;242;48;2;39;40;34m \u001b[0m\u001b[38;2;230;219;116;48;2;39;40;34m'\u001b[0m\u001b[38;2;230;219;116;48;2;39;40;34mr\u001b[0m\u001b[38;2;230;219;116;48;2;39;40;34m'\u001b[0m\u001b[38;2;248;248;242;48;2;39;40;34m,\u001b[0m\u001b[38;2;248;248;242;48;2;39;40;34m \u001b[0m\u001b[38;2;230;219;116;48;2;39;40;34m'\u001b[0m\u001b[38;2;230;219;116;48;2;39;40;34mscala\u001b[0m\u001b[38;2;230;219;116;48;2;39;40;34m'\u001b[0m\u001b[38;2;248;248;242;48;2;39;40;34m,\u001b[0m\u001b[38;2;248;248;242;48;2;39;40;34m \u001b[0m\u001b[38;2;230;219;116;48;2;39;40;34m'\u001b[0m\u001b[38;2;230;219;116;48;2;39;40;34mgo\u001b[0m\u001b[38;2;230;219;116;48;2;39;40;34m'\u001b[0m\u001b[38;2;248;248;242;48;2;39;40;34m,\u001b[0m\u001b[38;2;248;248;242;48;2;39;40;34m \u001b[0m\u001b[38;2;230;219;116;48;2;39;40;34m'\u001b[0m\u001b[38;2;230;219;116;48;2;39;40;34mruby\u001b[0m\u001b[38;2;230;219;116;48;2;39;40;34m'\u001b[0m\u001b[38;2;248;248;242;48;2;39;40;34m,\u001b[0m\u001b[38;2;248;248;242;48;2;39;40;34m \u001b[0m\u001b[38;2;230;219;116;48;2;39;40;34m'\u001b[0m\u001b[38;2;230;219;116;48;2;39;40;34mrust\u001b[0m\u001b[38;2;230;219;116;48;2;39;40;34m'\u001b[0m\u001b[38;2;248;248;242;48;2;39;40;34m,\u001b[0m\u001b[38;2;248;248;242;48;2;39;40;34m \u001b[0m\u001b[38;2;230;219;116;48;2;39;40;34m'\u001b[0m\u001b[38;2;230;219;116;48;2;39;40;34mtypescript\u001b[0m\u001b[38;2;230;219;116;48;2;39;40;34m'\u001b[0m\u001b[38;2;248;248;242;48;2;39;40;34m,\u001b[0m\u001b[38;2;248;248;242;48;2;39;40;34m \u001b[0m\u001b[38;2;230;219;116;48;2;39;40;34m'\u001b[0m\u001b[38;2;230;219;116;48;2;39;40;34mjavascript\u001b[0m\u001b[38;2;230;219;116;48;2;39;40;34m'\u001b[0m\u001b[38;2;248;248;242;48;2;39;40;34m,\u001b[0m\u001b[38;2;248;248;242;48;2;39;40;34m \u001b[0m  \n",
              "  \u001b[38;2;230;219;116;48;2;39;40;34m'\u001b[0m\u001b[38;2;230;219;116;48;2;39;40;34mkotlin\u001b[0m\u001b[38;2;230;219;116;48;2;39;40;34m'\u001b[0m\u001b[38;2;248;248;242;48;2;39;40;34m]\u001b[0m\u001b[48;2;39;40;34m                                                                                                      \u001b[0m  \n",
              "  \u001b[48;2;39;40;34m                                                                                                               \u001b[0m  \n",
              "  \u001b[38;2;149;144;119;48;2;39;40;34m# Combine all search results into a single string and convert to lowercase for uniformity\u001b[0m\u001b[48;2;39;40;34m                      \u001b[0m  \n",
              "  \u001b[38;2;248;248;242;48;2;39;40;34msearch_results_str\u001b[0m\u001b[38;2;248;248;242;48;2;39;40;34m \u001b[0m\u001b[38;2;255;70;137;48;2;39;40;34m=\u001b[0m\u001b[38;2;248;248;242;48;2;39;40;34m \u001b[0m\u001b[38;2;230;219;116;48;2;39;40;34m'\u001b[0m\u001b[38;2;174;129;255;48;2;39;40;34m\\n\u001b[0m\u001b[38;2;230;219;116;48;2;39;40;34m'\u001b[0m\u001b[38;2;255;70;137;48;2;39;40;34m.\u001b[0m\u001b[38;2;248;248;242;48;2;39;40;34mjoin\u001b[0m\u001b[38;2;248;248;242;48;2;39;40;34m(\u001b[0m\u001b[38;2;248;248;242;48;2;39;40;34msearch_results\u001b[0m\u001b[38;2;248;248;242;48;2;39;40;34m)\u001b[0m\u001b[38;2;255;70;137;48;2;39;40;34m.\u001b[0m\u001b[38;2;248;248;242;48;2;39;40;34mlower\u001b[0m\u001b[38;2;248;248;242;48;2;39;40;34m(\u001b[0m\u001b[38;2;248;248;242;48;2;39;40;34m)\u001b[0m\u001b[48;2;39;40;34m                                                         \u001b[0m  \n",
              "  \u001b[48;2;39;40;34m                                                                                                               \u001b[0m  \n",
              "  \u001b[38;2;149;144;119;48;2;39;40;34m# Initialize a counter for languages\u001b[0m\u001b[48;2;39;40;34m                                                                           \u001b[0m  \n",
              "  \u001b[38;2;248;248;242;48;2;39;40;34mlanguage_counter\u001b[0m\u001b[38;2;248;248;242;48;2;39;40;34m \u001b[0m\u001b[38;2;255;70;137;48;2;39;40;34m=\u001b[0m\u001b[38;2;248;248;242;48;2;39;40;34m \u001b[0m\u001b[38;2;248;248;242;48;2;39;40;34m{\u001b[0m\u001b[38;2;248;248;242;48;2;39;40;34mlanguage\u001b[0m\u001b[38;2;248;248;242;48;2;39;40;34m:\u001b[0m\u001b[38;2;248;248;242;48;2;39;40;34m \u001b[0m\u001b[38;2;174;129;255;48;2;39;40;34m0\u001b[0m\u001b[38;2;248;248;242;48;2;39;40;34m \u001b[0m\u001b[38;2;102;217;239;48;2;39;40;34mfor\u001b[0m\u001b[38;2;248;248;242;48;2;39;40;34m \u001b[0m\u001b[38;2;248;248;242;48;2;39;40;34mlanguage\u001b[0m\u001b[38;2;248;248;242;48;2;39;40;34m \u001b[0m\u001b[38;2;255;70;137;48;2;39;40;34min\u001b[0m\u001b[38;2;248;248;242;48;2;39;40;34m \u001b[0m\u001b[38;2;248;248;242;48;2;39;40;34mlanguages\u001b[0m\u001b[38;2;248;248;242;48;2;39;40;34m}\u001b[0m\u001b[48;2;39;40;34m                                                     \u001b[0m  \n",
              "  \u001b[48;2;39;40;34m                                                                                                               \u001b[0m  \n",
              "  \u001b[38;2;149;144;119;48;2;39;40;34m# Count mentions of each language\u001b[0m\u001b[48;2;39;40;34m                                                                              \u001b[0m  \n",
              "  \u001b[38;2;102;217;239;48;2;39;40;34mfor\u001b[0m\u001b[38;2;248;248;242;48;2;39;40;34m \u001b[0m\u001b[38;2;248;248;242;48;2;39;40;34mlanguage\u001b[0m\u001b[38;2;248;248;242;48;2;39;40;34m \u001b[0m\u001b[38;2;255;70;137;48;2;39;40;34min\u001b[0m\u001b[38;2;248;248;242;48;2;39;40;34m \u001b[0m\u001b[38;2;248;248;242;48;2;39;40;34mlanguages\u001b[0m\u001b[38;2;248;248;242;48;2;39;40;34m:\u001b[0m\u001b[48;2;39;40;34m                                                                                     \u001b[0m  \n",
              "  \u001b[38;2;248;248;242;48;2;39;40;34m    \u001b[0m\u001b[38;2;102;217;239;48;2;39;40;34mif\u001b[0m\u001b[38;2;248;248;242;48;2;39;40;34m \u001b[0m\u001b[38;2;248;248;242;48;2;39;40;34mlanguage\u001b[0m\u001b[38;2;248;248;242;48;2;39;40;34m \u001b[0m\u001b[38;2;255;70;137;48;2;39;40;34m==\u001b[0m\u001b[38;2;248;248;242;48;2;39;40;34m \u001b[0m\u001b[38;2;230;219;116;48;2;39;40;34m'\u001b[0m\u001b[38;2;230;219;116;48;2;39;40;34mc++\u001b[0m\u001b[38;2;230;219;116;48;2;39;40;34m'\u001b[0m\u001b[38;2;248;248;242;48;2;39;40;34m:\u001b[0m\u001b[48;2;39;40;34m                                                                                      \u001b[0m  \n",
              "  \u001b[38;2;248;248;242;48;2;39;40;34m        \u001b[0m\u001b[38;2;248;248;242;48;2;39;40;34mlanguage_counter\u001b[0m\u001b[38;2;248;248;242;48;2;39;40;34m[\u001b[0m\u001b[38;2;248;248;242;48;2;39;40;34mlanguage\u001b[0m\u001b[38;2;248;248;242;48;2;39;40;34m]\u001b[0m\u001b[38;2;248;248;242;48;2;39;40;34m \u001b[0m\u001b[38;2;255;70;137;48;2;39;40;34m+\u001b[0m\u001b[38;2;255;70;137;48;2;39;40;34m=\u001b[0m\u001b[38;2;248;248;242;48;2;39;40;34m \u001b[0m\u001b[38;2;248;248;242;48;2;39;40;34msearch_results_str\u001b[0m\u001b[38;2;255;70;137;48;2;39;40;34m.\u001b[0m\u001b[38;2;248;248;242;48;2;39;40;34mcount\u001b[0m\u001b[38;2;248;248;242;48;2;39;40;34m(\u001b[0m\u001b[38;2;230;219;116;48;2;39;40;34m'\u001b[0m\u001b[38;2;230;219;116;48;2;39;40;34mc++\u001b[0m\u001b[38;2;230;219;116;48;2;39;40;34m'\u001b[0m\u001b[38;2;248;248;242;48;2;39;40;34m)\u001b[0m\u001b[48;2;39;40;34m                                          \u001b[0m  \n",
              "  \u001b[38;2;248;248;242;48;2;39;40;34m    \u001b[0m\u001b[38;2;102;217;239;48;2;39;40;34melse\u001b[0m\u001b[38;2;248;248;242;48;2;39;40;34m:\u001b[0m\u001b[48;2;39;40;34m                                                                                                      \u001b[0m  \n",
              "  \u001b[38;2;248;248;242;48;2;39;40;34m        \u001b[0m\u001b[38;2;248;248;242;48;2;39;40;34mlanguage_counter\u001b[0m\u001b[38;2;248;248;242;48;2;39;40;34m[\u001b[0m\u001b[38;2;248;248;242;48;2;39;40;34mlanguage\u001b[0m\u001b[38;2;248;248;242;48;2;39;40;34m]\u001b[0m\u001b[38;2;248;248;242;48;2;39;40;34m \u001b[0m\u001b[38;2;255;70;137;48;2;39;40;34m+\u001b[0m\u001b[38;2;255;70;137;48;2;39;40;34m=\u001b[0m\u001b[38;2;248;248;242;48;2;39;40;34m \u001b[0m\u001b[38;2;248;248;242;48;2;39;40;34msearch_results_str\u001b[0m\u001b[38;2;255;70;137;48;2;39;40;34m.\u001b[0m\u001b[38;2;248;248;242;48;2;39;40;34mcount\u001b[0m\u001b[38;2;248;248;242;48;2;39;40;34m(\u001b[0m\u001b[38;2;248;248;242;48;2;39;40;34mlanguage\u001b[0m\u001b[38;2;248;248;242;48;2;39;40;34m)\u001b[0m\u001b[48;2;39;40;34m                                       \u001b[0m  \n",
              "  \u001b[48;2;39;40;34m                                                                                                               \u001b[0m  \n",
              "  \u001b[38;2;149;144;119;48;2;39;40;34m# Print the sorted list of languages by frequency\u001b[0m\u001b[48;2;39;40;34m                                                              \u001b[0m  \n",
              "  \u001b[38;2;248;248;242;48;2;39;40;34mprint\u001b[0m\u001b[38;2;248;248;242;48;2;39;40;34m(\u001b[0m\u001b[38;2;248;248;242;48;2;39;40;34mdict\u001b[0m\u001b[38;2;248;248;242;48;2;39;40;34m(\u001b[0m\u001b[38;2;248;248;242;48;2;39;40;34mlanguage_counter\u001b[0m\u001b[38;2;248;248;242;48;2;39;40;34m)\u001b[0m\u001b[38;2;248;248;242;48;2;39;40;34m)\u001b[0m\u001b[48;2;39;40;34m                                                                                  \u001b[0m  \n",
              " ───────────────────────────────────────────────────────────────────────────────────────────────────────────────── \n"
            ],
            "text/html": [
              "<pre style=\"white-space:pre;overflow-x:auto;line-height:normal;font-family:Menlo,'DejaVu Sans Mono',consolas,'Courier New',monospace\"> ─ <span style=\"font-weight: bold\">Executing parsed code:</span> ──────────────────────────────────────────────────────────────────────────────────────── \n",
              "  <span style=\"color: #959077; text-decoration-color: #959077; background-color: #272822\"># Define possible programming languages to look for</span><span style=\"background-color: #272822\">                                                            </span>  \n",
              "  <span style=\"color: #f8f8f2; text-decoration-color: #f8f8f2; background-color: #272822\">languages </span><span style=\"color: #ff4689; text-decoration-color: #ff4689; background-color: #272822\">=</span><span style=\"color: #f8f8f2; text-decoration-color: #f8f8f2; background-color: #272822\"> [</span><span style=\"color: #e6db74; text-decoration-color: #e6db74; background-color: #272822\">'python'</span><span style=\"color: #f8f8f2; text-decoration-color: #f8f8f2; background-color: #272822\">, </span><span style=\"color: #e6db74; text-decoration-color: #e6db74; background-color: #272822\">'java'</span><span style=\"color: #f8f8f2; text-decoration-color: #f8f8f2; background-color: #272822\">, </span><span style=\"color: #e6db74; text-decoration-color: #e6db74; background-color: #272822\">'c++'</span><span style=\"color: #f8f8f2; text-decoration-color: #f8f8f2; background-color: #272822\">, </span><span style=\"color: #e6db74; text-decoration-color: #e6db74; background-color: #272822\">'julia'</span><span style=\"color: #f8f8f2; text-decoration-color: #f8f8f2; background-color: #272822\">, </span><span style=\"color: #e6db74; text-decoration-color: #e6db74; background-color: #272822\">'r'</span><span style=\"color: #f8f8f2; text-decoration-color: #f8f8f2; background-color: #272822\">, </span><span style=\"color: #e6db74; text-decoration-color: #e6db74; background-color: #272822\">'scala'</span><span style=\"color: #f8f8f2; text-decoration-color: #f8f8f2; background-color: #272822\">, </span><span style=\"color: #e6db74; text-decoration-color: #e6db74; background-color: #272822\">'go'</span><span style=\"color: #f8f8f2; text-decoration-color: #f8f8f2; background-color: #272822\">, </span><span style=\"color: #e6db74; text-decoration-color: #e6db74; background-color: #272822\">'ruby'</span><span style=\"color: #f8f8f2; text-decoration-color: #f8f8f2; background-color: #272822\">, </span><span style=\"color: #e6db74; text-decoration-color: #e6db74; background-color: #272822\">'rust'</span><span style=\"color: #f8f8f2; text-decoration-color: #f8f8f2; background-color: #272822\">, </span><span style=\"color: #e6db74; text-decoration-color: #e6db74; background-color: #272822\">'typescript'</span><span style=\"color: #f8f8f2; text-decoration-color: #f8f8f2; background-color: #272822\">, </span><span style=\"color: #e6db74; text-decoration-color: #e6db74; background-color: #272822\">'javascript'</span><span style=\"color: #f8f8f2; text-decoration-color: #f8f8f2; background-color: #272822\">, </span>  \n",
              "  <span style=\"color: #e6db74; text-decoration-color: #e6db74; background-color: #272822\">'kotlin'</span><span style=\"color: #f8f8f2; text-decoration-color: #f8f8f2; background-color: #272822\">]</span><span style=\"background-color: #272822\">                                                                                                      </span>  \n",
              "  <span style=\"background-color: #272822\">                                                                                                               </span>  \n",
              "  <span style=\"color: #959077; text-decoration-color: #959077; background-color: #272822\"># Combine all search results into a single string and convert to lowercase for uniformity</span><span style=\"background-color: #272822\">                      </span>  \n",
              "  <span style=\"color: #f8f8f2; text-decoration-color: #f8f8f2; background-color: #272822\">search_results_str </span><span style=\"color: #ff4689; text-decoration-color: #ff4689; background-color: #272822\">=</span><span style=\"color: #f8f8f2; text-decoration-color: #f8f8f2; background-color: #272822\"> </span><span style=\"color: #e6db74; text-decoration-color: #e6db74; background-color: #272822\">'</span><span style=\"color: #ae81ff; text-decoration-color: #ae81ff; background-color: #272822\">\\n</span><span style=\"color: #e6db74; text-decoration-color: #e6db74; background-color: #272822\">'</span><span style=\"color: #ff4689; text-decoration-color: #ff4689; background-color: #272822\">.</span><span style=\"color: #f8f8f2; text-decoration-color: #f8f8f2; background-color: #272822\">join(search_results)</span><span style=\"color: #ff4689; text-decoration-color: #ff4689; background-color: #272822\">.</span><span style=\"color: #f8f8f2; text-decoration-color: #f8f8f2; background-color: #272822\">lower()</span><span style=\"background-color: #272822\">                                                         </span>  \n",
              "  <span style=\"background-color: #272822\">                                                                                                               </span>  \n",
              "  <span style=\"color: #959077; text-decoration-color: #959077; background-color: #272822\"># Initialize a counter for languages</span><span style=\"background-color: #272822\">                                                                           </span>  \n",
              "  <span style=\"color: #f8f8f2; text-decoration-color: #f8f8f2; background-color: #272822\">language_counter </span><span style=\"color: #ff4689; text-decoration-color: #ff4689; background-color: #272822\">=</span><span style=\"color: #f8f8f2; text-decoration-color: #f8f8f2; background-color: #272822\"> {language: </span><span style=\"color: #ae81ff; text-decoration-color: #ae81ff; background-color: #272822\">0</span><span style=\"color: #f8f8f2; text-decoration-color: #f8f8f2; background-color: #272822\"> </span><span style=\"color: #66d9ef; text-decoration-color: #66d9ef; background-color: #272822\">for</span><span style=\"color: #f8f8f2; text-decoration-color: #f8f8f2; background-color: #272822\"> language </span><span style=\"color: #ff4689; text-decoration-color: #ff4689; background-color: #272822\">in</span><span style=\"color: #f8f8f2; text-decoration-color: #f8f8f2; background-color: #272822\"> languages}</span><span style=\"background-color: #272822\">                                                     </span>  \n",
              "  <span style=\"background-color: #272822\">                                                                                                               </span>  \n",
              "  <span style=\"color: #959077; text-decoration-color: #959077; background-color: #272822\"># Count mentions of each language</span><span style=\"background-color: #272822\">                                                                              </span>  \n",
              "  <span style=\"color: #66d9ef; text-decoration-color: #66d9ef; background-color: #272822\">for</span><span style=\"color: #f8f8f2; text-decoration-color: #f8f8f2; background-color: #272822\"> language </span><span style=\"color: #ff4689; text-decoration-color: #ff4689; background-color: #272822\">in</span><span style=\"color: #f8f8f2; text-decoration-color: #f8f8f2; background-color: #272822\"> languages:</span><span style=\"background-color: #272822\">                                                                                     </span>  \n",
              "  <span style=\"color: #f8f8f2; text-decoration-color: #f8f8f2; background-color: #272822\">    </span><span style=\"color: #66d9ef; text-decoration-color: #66d9ef; background-color: #272822\">if</span><span style=\"color: #f8f8f2; text-decoration-color: #f8f8f2; background-color: #272822\"> language </span><span style=\"color: #ff4689; text-decoration-color: #ff4689; background-color: #272822\">==</span><span style=\"color: #f8f8f2; text-decoration-color: #f8f8f2; background-color: #272822\"> </span><span style=\"color: #e6db74; text-decoration-color: #e6db74; background-color: #272822\">'c++'</span><span style=\"color: #f8f8f2; text-decoration-color: #f8f8f2; background-color: #272822\">:</span><span style=\"background-color: #272822\">                                                                                      </span>  \n",
              "  <span style=\"color: #f8f8f2; text-decoration-color: #f8f8f2; background-color: #272822\">        language_counter[language] </span><span style=\"color: #ff4689; text-decoration-color: #ff4689; background-color: #272822\">+=</span><span style=\"color: #f8f8f2; text-decoration-color: #f8f8f2; background-color: #272822\"> search_results_str</span><span style=\"color: #ff4689; text-decoration-color: #ff4689; background-color: #272822\">.</span><span style=\"color: #f8f8f2; text-decoration-color: #f8f8f2; background-color: #272822\">count(</span><span style=\"color: #e6db74; text-decoration-color: #e6db74; background-color: #272822\">'c++'</span><span style=\"color: #f8f8f2; text-decoration-color: #f8f8f2; background-color: #272822\">)</span><span style=\"background-color: #272822\">                                          </span>  \n",
              "  <span style=\"color: #f8f8f2; text-decoration-color: #f8f8f2; background-color: #272822\">    </span><span style=\"color: #66d9ef; text-decoration-color: #66d9ef; background-color: #272822\">else</span><span style=\"color: #f8f8f2; text-decoration-color: #f8f8f2; background-color: #272822\">:</span><span style=\"background-color: #272822\">                                                                                                      </span>  \n",
              "  <span style=\"color: #f8f8f2; text-decoration-color: #f8f8f2; background-color: #272822\">        language_counter[language] </span><span style=\"color: #ff4689; text-decoration-color: #ff4689; background-color: #272822\">+=</span><span style=\"color: #f8f8f2; text-decoration-color: #f8f8f2; background-color: #272822\"> search_results_str</span><span style=\"color: #ff4689; text-decoration-color: #ff4689; background-color: #272822\">.</span><span style=\"color: #f8f8f2; text-decoration-color: #f8f8f2; background-color: #272822\">count(language)</span><span style=\"background-color: #272822\">                                       </span>  \n",
              "  <span style=\"background-color: #272822\">                                                                                                               </span>  \n",
              "  <span style=\"color: #959077; text-decoration-color: #959077; background-color: #272822\"># Print the sorted list of languages by frequency</span><span style=\"background-color: #272822\">                                                              </span>  \n",
              "  <span style=\"color: #f8f8f2; text-decoration-color: #f8f8f2; background-color: #272822\">print(dict(language_counter))</span><span style=\"background-color: #272822\">                                                                                  </span>  \n",
              " ───────────────────────────────────────────────────────────────────────────────────────────────────────────────── \n",
              "</pre>\n"
            ]
          },
          "metadata": {}
        },
        {
          "output_type": "display_data",
          "data": {
            "text/plain": [
              "\u001b[1mExecution logs:\u001b[0m\n",
              "{'python': 0, 'java': 0, 'c++': 0, 'julia': 0, 'r': 256, 'scala': 0, 'go': 0, 'ruby': 0, 'rust': 0, 'typescript': \n",
              "0, 'javascript': 0, 'kotlin': 0}\n",
              "\n",
              "Out: None\n"
            ],
            "text/html": [
              "<pre style=\"white-space:pre;overflow-x:auto;line-height:normal;font-family:Menlo,'DejaVu Sans Mono',consolas,'Courier New',monospace\"><span style=\"font-weight: bold\">Execution logs:</span>\n",
              "{'python': 0, 'java': 0, 'c++': 0, 'julia': 0, 'r': 256, 'scala': 0, 'go': 0, 'ruby': 0, 'rust': 0, 'typescript': \n",
              "0, 'javascript': 0, 'kotlin': 0}\n",
              "\n",
              "Out: None\n",
              "</pre>\n"
            ]
          },
          "metadata": {}
        },
        {
          "output_type": "display_data",
          "data": {
            "text/plain": [
              "\u001b[2m[Step 4: Duration 14.20 seconds| Input tokens: 13,682 | Output tokens: 862]\u001b[0m\n"
            ],
            "text/html": [
              "<pre style=\"white-space:pre;overflow-x:auto;line-height:normal;font-family:Menlo,'DejaVu Sans Mono',consolas,'Courier New',monospace\"><span style=\"color: #7f7f7f; text-decoration-color: #7f7f7f\">[Step 4: Duration 14.20 seconds| Input tokens: 13,682 | Output tokens: 862]</span>\n",
              "</pre>\n"
            ]
          },
          "metadata": {}
        },
        {
          "output_type": "display_data",
          "data": {
            "text/plain": [
              "\u001b[38;2;212;183;2m━━━━━━━━━━━━━━━━━━━━━━━━━━━━━━━━━━━━━━━━━━━━━━━━━━━━━ \u001b[0m\u001b[1mStep \u001b[0m\u001b[1;36m5\u001b[0m\u001b[38;2;212;183;2m ━━━━━━━━━━━━━━━━━━━━━━━━━━━━━━━━━━━━━━━━━━━━━━━━━━━━━━\u001b[0m\n"
            ],
            "text/html": [
              "<pre style=\"white-space:pre;overflow-x:auto;line-height:normal;font-family:Menlo,'DejaVu Sans Mono',consolas,'Courier New',monospace\"><span style=\"color: #d4b702; text-decoration-color: #d4b702\">━━━━━━━━━━━━━━━━━━━━━━━━━━━━━━━━━━━━━━━━━━━━━━━━━━━━━ </span><span style=\"font-weight: bold\">Step </span><span style=\"color: #008080; text-decoration-color: #008080; font-weight: bold\">5</span><span style=\"color: #d4b702; text-decoration-color: #d4b702\"> ━━━━━━━━━━━━━━━━━━━━━━━━━━━━━━━━━━━━━━━━━━━━━━━━━━━━━━</span>\n",
              "</pre>\n"
            ]
          },
          "metadata": {}
        },
        {
          "output_type": "display_data",
          "data": {
            "text/plain": [
              " ─ \u001b[1mExecuting parsed code:\u001b[0m ──────────────────────────────────────────────────────────────────────────────────────── \n",
              "  \u001b[38;2;248;248;242;48;2;39;40;34msearch_results\u001b[0m\u001b[38;2;248;248;242;48;2;39;40;34m \u001b[0m\u001b[38;2;255;70;137;48;2;39;40;34m=\u001b[0m\u001b[38;2;248;248;242;48;2;39;40;34m \u001b[0m\u001b[38;2;248;248;242;48;2;39;40;34mweb_search\u001b[0m\u001b[38;2;248;248;242;48;2;39;40;34m(\u001b[0m\u001b[38;2;248;248;242;48;2;39;40;34mquery\u001b[0m\u001b[38;2;255;70;137;48;2;39;40;34m=\u001b[0m\u001b[38;2;230;219;116;48;2;39;40;34m\"\u001b[0m\u001b[38;2;230;219;116;48;2;39;40;34mprogramming languages for AI engineer 2025 with focus\u001b[0m\u001b[38;2;230;219;116;48;2;39;40;34m\"\u001b[0m\u001b[38;2;248;248;242;48;2;39;40;34m)\u001b[0m\u001b[48;2;39;40;34m                     \u001b[0m  \n",
              "  \u001b[38;2;248;248;242;48;2;39;40;34mprint\u001b[0m\u001b[38;2;248;248;242;48;2;39;40;34m(\u001b[0m\u001b[38;2;248;248;242;48;2;39;40;34msearch_results\u001b[0m\u001b[38;2;248;248;242;48;2;39;40;34m)\u001b[0m\u001b[48;2;39;40;34m                                                                                          \u001b[0m  \n",
              " ───────────────────────────────────────────────────────────────────────────────────────────────────────────────── \n"
            ],
            "text/html": [
              "<pre style=\"white-space:pre;overflow-x:auto;line-height:normal;font-family:Menlo,'DejaVu Sans Mono',consolas,'Courier New',monospace\"> ─ <span style=\"font-weight: bold\">Executing parsed code:</span> ──────────────────────────────────────────────────────────────────────────────────────── \n",
              "  <span style=\"color: #f8f8f2; text-decoration-color: #f8f8f2; background-color: #272822\">search_results </span><span style=\"color: #ff4689; text-decoration-color: #ff4689; background-color: #272822\">=</span><span style=\"color: #f8f8f2; text-decoration-color: #f8f8f2; background-color: #272822\"> web_search(query</span><span style=\"color: #ff4689; text-decoration-color: #ff4689; background-color: #272822\">=</span><span style=\"color: #e6db74; text-decoration-color: #e6db74; background-color: #272822\">\"programming languages for AI engineer 2025 with focus\"</span><span style=\"color: #f8f8f2; text-decoration-color: #f8f8f2; background-color: #272822\">)</span><span style=\"background-color: #272822\">                     </span>  \n",
              "  <span style=\"color: #f8f8f2; text-decoration-color: #f8f8f2; background-color: #272822\">print(search_results)</span><span style=\"background-color: #272822\">                                                                                          </span>  \n",
              " ───────────────────────────────────────────────────────────────────────────────────────────────────────────────── \n",
              "</pre>\n"
            ]
          },
          "metadata": {}
        },
        {
          "output_type": "display_data",
          "data": {
            "text/plain": [
              "\u001b[1mExecution logs:\u001b[0m\n",
              "## Search Results\n",
              "\n",
              "[Top 10 AI Programming Languages to Know in 2025](https://www.appliedaicourse.com/blog/ai-programming-languages/)\n",
              "Artificial Intelligence (AI) programming has become central to technological advancements across industries. This \n",
              "article highlights the top 10 programming languages shaping the AI landscape in 2025. These languages are essential\n",
              "for tasks like machine learning, natural language processing, and robotics, offering diverse tools and frameworks \n",
              "to streamline AI development. Overview of the Best ...\n",
              "\n",
              "[Top 10 AI Programming Languages to Master in \n",
              "2025](https://www.pravaahconsulting.com/post/best-ai-programming-languages)\n",
              "Explore the leading programming languages shaping AI development in 2025. Stay ahead in the tech revolution by \n",
              "mastering these essential tools for innovation. Imagine a world where machines can learn, adapt, and interact with \n",
              "humans in ways that were once the realm of science fiction.\n",
              "\n",
              "[Top AI Programming Languages in 2025: A Comprehensive \n",
              "Guide](https://digiscorp.com/top-ai-programming-languages-in-2025-a-comprehensive-guide/)\n",
              "The choice of programming language directly impacts: Development Speed: How quickly you can build and test AI \n",
              "models.; Performance: The efficiency of algorithms and computations.; Flexibility: The ability to integrate with \n",
              "libraries and frameworks.; Community Support: Availability of resources and tools.; Each language offers unique \n",
              "advantages for different AI applications, such as machine ...\n",
              "\n",
              "[10 Best AI Programming Languages To Know in 2025 - \n",
              "Upwork](https://www.upwork.com/resources/best-ai-programming-language)\n",
              "However, other programming languages like Java, C++, and Haskell also play a fundamental role in creating AI \n",
              "systems. Read on as we discuss the top AI programming languages in detail and explain how to choose a suitable \n",
              "language for your next AI project. 1. Python. One of the most popular programming languages in AI development is \n",
              "Python. It ...\n",
              "\n",
              "[Best AI Programming Languages to Use in 2025 - \n",
              "capitalnumbers.com](https://www.capitalnumbers.com/blog/best-ai-programming-languages/)\n",
              "Artificial Intelligence (AI) continues to transform industries, and selecting the right programming language is \n",
              "crucial for effective AI development in 2025.The top programming languages for AI this year include Python, \n",
              "renowned for its extensive libraries and ease of use; Java, valued for its scalability and performance; C++, \n",
              "preferred for high-performance applications; Julia, emerging for ...\n",
              "\n",
              "[Top 10 AI Programming Languages You Need to Know in 2025 - Zealous \n",
              "System](https://www.zealousys.com/blog/top-ai-programming-languages/)\n",
              "In conclusion, mastering these top 10 AI programming languages is essential for anyone looking to be an expert in \n",
              "artificial intelligence in 2025 and beyond. Whether you're a data scientist, machine learning engineer, or AI \n",
              "researcher, familiarity with these languages will empower you to tackle a wide range of AI challenges and drive ...\n",
              "\n",
              "[Top 10 AI Programming Languages You Need to Know in \n",
              "2025](https://shivlab.com/blog/top-ai-programming-languages-comprehensive-guide/)\n",
              "The best AI languages offer efficiency, scalability, and support for machine learning frameworks. Here are the top \n",
              "10 AI programming languages to learn for future-ready AI development. 1. Python. Python is the most widely used \n",
              "programming language for artificial intelligence. It is known for its simplicity, readability, and extensive \n",
              "library ...\n",
              "\n",
              "[Top Programming Languages for Career Growth 2025 - \n",
              "coders.dev](https://www.coders.dev/blog/best-programming-languages-in-2025-.html)\n",
              "Discover the best programming languages to learn in 2025 that offer strong job prospects, high salaries, and \n",
              "future-proof skills for developers of all levels. ... Focus on your Major Objectives and Leave the Rest to Us \n",
              "Dedicated Teams: ... engineering, and AI. It combines the speed of languages like C with the simplicity of Python, \n",
              "allowing ...\n",
              "\n",
              "[AI Programming Languages: Top 10 for 2025 - \n",
              "tuvoc.com](https://www.tuvoc.com/blog/top-10-ai-programming-languages-to-learn-for-a-successful-career-in-2025/)\n",
              "Discover the top 10 AI programming languages to learn in 2025 and boost your career. Artificial intelligence (AI) \n",
              "is more than just some buzzword now, it is actually driving the change and is enabling industries to make smarter \n",
              "decisions, boosting productivity levels, and even reducing costs (from operational costs to marginal costs).\n",
              "\n",
              "[2025's Top 10 AI Programming Languages You Can't \n",
              "Ignore](https://medium.com/lets-code-future/2025s-top-10-ai-programming-languages-you-can-t-ignore-31a8d054f1d2)\n",
              "This article is here to cut through the noise and give you a no-fluff, practical look at the top 10 AI programming \n",
              "languages developers are actually using in 2025. Key Takeaways\n",
              "\n",
              "Out: None\n"
            ],
            "text/html": [
              "<pre style=\"white-space:pre;overflow-x:auto;line-height:normal;font-family:Menlo,'DejaVu Sans Mono',consolas,'Courier New',monospace\"><span style=\"font-weight: bold\">Execution logs:</span>\n",
              "## Search Results\n",
              "\n",
              "[Top 10 AI Programming Languages to Know in 2025](https://www.appliedaicourse.com/blog/ai-programming-languages/)\n",
              "Artificial Intelligence (AI) programming has become central to technological advancements across industries. This \n",
              "article highlights the top 10 programming languages shaping the AI landscape in 2025. These languages are essential\n",
              "for tasks like machine learning, natural language processing, and robotics, offering diverse tools and frameworks \n",
              "to streamline AI development. Overview of the Best ...\n",
              "\n",
              "[Top 10 AI Programming Languages to Master in \n",
              "2025](https://www.pravaahconsulting.com/post/best-ai-programming-languages)\n",
              "Explore the leading programming languages shaping AI development in 2025. Stay ahead in the tech revolution by \n",
              "mastering these essential tools for innovation. Imagine a world where machines can learn, adapt, and interact with \n",
              "humans in ways that were once the realm of science fiction.\n",
              "\n",
              "[Top AI Programming Languages in 2025: A Comprehensive \n",
              "Guide](https://digiscorp.com/top-ai-programming-languages-in-2025-a-comprehensive-guide/)\n",
              "The choice of programming language directly impacts: Development Speed: How quickly you can build and test AI \n",
              "models.; Performance: The efficiency of algorithms and computations.; Flexibility: The ability to integrate with \n",
              "libraries and frameworks.; Community Support: Availability of resources and tools.; Each language offers unique \n",
              "advantages for different AI applications, such as machine ...\n",
              "\n",
              "[10 Best AI Programming Languages To Know in 2025 - \n",
              "Upwork](https://www.upwork.com/resources/best-ai-programming-language)\n",
              "However, other programming languages like Java, C++, and Haskell also play a fundamental role in creating AI \n",
              "systems. Read on as we discuss the top AI programming languages in detail and explain how to choose a suitable \n",
              "language for your next AI project. 1. Python. One of the most popular programming languages in AI development is \n",
              "Python. It ...\n",
              "\n",
              "[Best AI Programming Languages to Use in 2025 - \n",
              "capitalnumbers.com](https://www.capitalnumbers.com/blog/best-ai-programming-languages/)\n",
              "Artificial Intelligence (AI) continues to transform industries, and selecting the right programming language is \n",
              "crucial for effective AI development in 2025.The top programming languages for AI this year include Python, \n",
              "renowned for its extensive libraries and ease of use; Java, valued for its scalability and performance; C++, \n",
              "preferred for high-performance applications; Julia, emerging for ...\n",
              "\n",
              "[Top 10 AI Programming Languages You Need to Know in 2025 - Zealous \n",
              "System](https://www.zealousys.com/blog/top-ai-programming-languages/)\n",
              "In conclusion, mastering these top 10 AI programming languages is essential for anyone looking to be an expert in \n",
              "artificial intelligence in 2025 and beyond. Whether you're a data scientist, machine learning engineer, or AI \n",
              "researcher, familiarity with these languages will empower you to tackle a wide range of AI challenges and drive ...\n",
              "\n",
              "[Top 10 AI Programming Languages You Need to Know in \n",
              "2025](https://shivlab.com/blog/top-ai-programming-languages-comprehensive-guide/)\n",
              "The best AI languages offer efficiency, scalability, and support for machine learning frameworks. Here are the top \n",
              "10 AI programming languages to learn for future-ready AI development. 1. Python. Python is the most widely used \n",
              "programming language for artificial intelligence. It is known for its simplicity, readability, and extensive \n",
              "library ...\n",
              "\n",
              "[Top Programming Languages for Career Growth 2025 - \n",
              "coders.dev](https://www.coders.dev/blog/best-programming-languages-in-2025-.html)\n",
              "Discover the best programming languages to learn in 2025 that offer strong job prospects, high salaries, and \n",
              "future-proof skills for developers of all levels. ... Focus on your Major Objectives and Leave the Rest to Us \n",
              "Dedicated Teams: ... engineering, and AI. It combines the speed of languages like C with the simplicity of Python, \n",
              "allowing ...\n",
              "\n",
              "[AI Programming Languages: Top 10 for 2025 - \n",
              "tuvoc.com](https://www.tuvoc.com/blog/top-10-ai-programming-languages-to-learn-for-a-successful-career-in-2025/)\n",
              "Discover the top 10 AI programming languages to learn in 2025 and boost your career. Artificial intelligence (AI) \n",
              "is more than just some buzzword now, it is actually driving the change and is enabling industries to make smarter \n",
              "decisions, boosting productivity levels, and even reducing costs (from operational costs to marginal costs).\n",
              "\n",
              "[2025's Top 10 AI Programming Languages You Can't \n",
              "Ignore](https://medium.com/lets-code-future/2025s-top-10-ai-programming-languages-you-can-t-ignore-31a8d054f1d2)\n",
              "This article is here to cut through the noise and give you a no-fluff, practical look at the top 10 AI programming \n",
              "languages developers are actually using in 2025. Key Takeaways\n",
              "\n",
              "Out: None\n",
              "</pre>\n"
            ]
          },
          "metadata": {}
        },
        {
          "output_type": "display_data",
          "data": {
            "text/plain": [
              "\u001b[2m[Step 5: Duration 8.79 seconds| Input tokens: 18,747 | Output tokens: 1,003]\u001b[0m\n"
            ],
            "text/html": [
              "<pre style=\"white-space:pre;overflow-x:auto;line-height:normal;font-family:Menlo,'DejaVu Sans Mono',consolas,'Courier New',monospace\"><span style=\"color: #7f7f7f; text-decoration-color: #7f7f7f\">[Step 5: Duration 8.79 seconds| Input tokens: 18,747 | Output tokens: 1,003]</span>\n",
              "</pre>\n"
            ]
          },
          "metadata": {}
        },
        {
          "output_type": "display_data",
          "data": {
            "text/plain": [
              "\u001b[38;2;212;183;2m━━━━━━━━━━━━━━━━━━━━━━━━━━━━━━━━━━━━━━━━━━━━━━━━━━━━━ \u001b[0m\u001b[1mStep \u001b[0m\u001b[1;36m6\u001b[0m\u001b[38;2;212;183;2m ━━━━━━━━━━━━━━━━━━━━━━━━━━━━━━━━━━━━━━━━━━━━━━━━━━━━━━\u001b[0m\n"
            ],
            "text/html": [
              "<pre style=\"white-space:pre;overflow-x:auto;line-height:normal;font-family:Menlo,'DejaVu Sans Mono',consolas,'Courier New',monospace\"><span style=\"color: #d4b702; text-decoration-color: #d4b702\">━━━━━━━━━━━━━━━━━━━━━━━━━━━━━━━━━━━━━━━━━━━━━━━━━━━━━ </span><span style=\"font-weight: bold\">Step </span><span style=\"color: #008080; text-decoration-color: #008080; font-weight: bold\">6</span><span style=\"color: #d4b702; text-decoration-color: #d4b702\"> ━━━━━━━━━━━━━━━━━━━━━━━━━━━━━━━━━━━━━━━━━━━━━━━━━━━━━━</span>\n",
              "</pre>\n"
            ]
          },
          "metadata": {}
        },
        {
          "output_type": "display_data",
          "data": {
            "text/plain": [
              " ─ \u001b[1mExecuting parsed code:\u001b[0m ──────────────────────────────────────────────────────────────────────────────────────── \n",
              "  \u001b[38;2;255;70;137;48;2;39;40;34mimport\u001b[0m\u001b[38;2;248;248;242;48;2;39;40;34m \u001b[0m\u001b[38;2;248;248;242;48;2;39;40;34mre\u001b[0m\u001b[48;2;39;40;34m                                                                                                      \u001b[0m  \n",
              "  \u001b[38;2;255;70;137;48;2;39;40;34mfrom\u001b[0m\u001b[38;2;248;248;242;48;2;39;40;34m \u001b[0m\u001b[38;2;248;248;242;48;2;39;40;34mcollections\u001b[0m\u001b[38;2;248;248;242;48;2;39;40;34m \u001b[0m\u001b[38;2;255;70;137;48;2;39;40;34mimport\u001b[0m\u001b[38;2;248;248;242;48;2;39;40;34m \u001b[0m\u001b[38;2;248;248;242;48;2;39;40;34mCounter\u001b[0m\u001b[48;2;39;40;34m                                                                                \u001b[0m  \n",
              "  \u001b[48;2;39;40;34m                                                                                                               \u001b[0m  \n",
              "  \u001b[38;2;149;144;119;48;2;39;40;34m# Define possible programming languages to look for\u001b[0m\u001b[48;2;39;40;34m                                                            \u001b[0m  \n",
              "  \u001b[38;2;248;248;242;48;2;39;40;34mlanguages\u001b[0m\u001b[38;2;248;248;242;48;2;39;40;34m \u001b[0m\u001b[38;2;255;70;137;48;2;39;40;34m=\u001b[0m\u001b[38;2;248;248;242;48;2;39;40;34m \u001b[0m\u001b[38;2;248;248;242;48;2;39;40;34m[\u001b[0m\u001b[38;2;230;219;116;48;2;39;40;34m'\u001b[0m\u001b[38;2;230;219;116;48;2;39;40;34mpython\u001b[0m\u001b[38;2;230;219;116;48;2;39;40;34m'\u001b[0m\u001b[38;2;248;248;242;48;2;39;40;34m,\u001b[0m\u001b[38;2;248;248;242;48;2;39;40;34m \u001b[0m\u001b[38;2;230;219;116;48;2;39;40;34m'\u001b[0m\u001b[38;2;230;219;116;48;2;39;40;34mjava\u001b[0m\u001b[38;2;230;219;116;48;2;39;40;34m'\u001b[0m\u001b[38;2;248;248;242;48;2;39;40;34m,\u001b[0m\u001b[38;2;248;248;242;48;2;39;40;34m \u001b[0m\u001b[38;2;230;219;116;48;2;39;40;34m'\u001b[0m\u001b[38;2;230;219;116;48;2;39;40;34mc++\u001b[0m\u001b[38;2;230;219;116;48;2;39;40;34m'\u001b[0m\u001b[38;2;248;248;242;48;2;39;40;34m,\u001b[0m\u001b[38;2;248;248;242;48;2;39;40;34m \u001b[0m\u001b[38;2;230;219;116;48;2;39;40;34m'\u001b[0m\u001b[38;2;230;219;116;48;2;39;40;34mjulia\u001b[0m\u001b[38;2;230;219;116;48;2;39;40;34m'\u001b[0m\u001b[38;2;248;248;242;48;2;39;40;34m,\u001b[0m\u001b[38;2;248;248;242;48;2;39;40;34m \u001b[0m\u001b[38;2;230;219;116;48;2;39;40;34m'\u001b[0m\u001b[38;2;230;219;116;48;2;39;40;34mr\u001b[0m\u001b[38;2;230;219;116;48;2;39;40;34m'\u001b[0m\u001b[38;2;248;248;242;48;2;39;40;34m,\u001b[0m\u001b[38;2;248;248;242;48;2;39;40;34m \u001b[0m\u001b[38;2;230;219;116;48;2;39;40;34m'\u001b[0m\u001b[38;2;230;219;116;48;2;39;40;34mscala\u001b[0m\u001b[38;2;230;219;116;48;2;39;40;34m'\u001b[0m\u001b[38;2;248;248;242;48;2;39;40;34m,\u001b[0m\u001b[38;2;248;248;242;48;2;39;40;34m \u001b[0m\u001b[38;2;230;219;116;48;2;39;40;34m'\u001b[0m\u001b[38;2;230;219;116;48;2;39;40;34mgo\u001b[0m\u001b[38;2;230;219;116;48;2;39;40;34m'\u001b[0m\u001b[38;2;248;248;242;48;2;39;40;34m,\u001b[0m\u001b[38;2;248;248;242;48;2;39;40;34m \u001b[0m\u001b[38;2;230;219;116;48;2;39;40;34m'\u001b[0m\u001b[38;2;230;219;116;48;2;39;40;34mruby\u001b[0m\u001b[38;2;230;219;116;48;2;39;40;34m'\u001b[0m\u001b[38;2;248;248;242;48;2;39;40;34m,\u001b[0m\u001b[38;2;248;248;242;48;2;39;40;34m \u001b[0m\u001b[38;2;230;219;116;48;2;39;40;34m'\u001b[0m\u001b[38;2;230;219;116;48;2;39;40;34mrust\u001b[0m\u001b[38;2;230;219;116;48;2;39;40;34m'\u001b[0m\u001b[38;2;248;248;242;48;2;39;40;34m,\u001b[0m\u001b[38;2;248;248;242;48;2;39;40;34m \u001b[0m\u001b[38;2;230;219;116;48;2;39;40;34m'\u001b[0m\u001b[38;2;230;219;116;48;2;39;40;34mtypescript\u001b[0m\u001b[38;2;230;219;116;48;2;39;40;34m'\u001b[0m\u001b[38;2;248;248;242;48;2;39;40;34m,\u001b[0m\u001b[38;2;248;248;242;48;2;39;40;34m \u001b[0m\u001b[38;2;230;219;116;48;2;39;40;34m'\u001b[0m\u001b[38;2;230;219;116;48;2;39;40;34mjavascript\u001b[0m\u001b[38;2;230;219;116;48;2;39;40;34m'\u001b[0m\u001b[38;2;248;248;242;48;2;39;40;34m,\u001b[0m\u001b[38;2;248;248;242;48;2;39;40;34m \u001b[0m  \n",
              "  \u001b[38;2;230;219;116;48;2;39;40;34m'\u001b[0m\u001b[38;2;230;219;116;48;2;39;40;34mkotlin\u001b[0m\u001b[38;2;230;219;116;48;2;39;40;34m'\u001b[0m\u001b[38;2;248;248;242;48;2;39;40;34m]\u001b[0m\u001b[48;2;39;40;34m                                                                                                      \u001b[0m  \n",
              "  \u001b[48;2;39;40;34m                                                                                                               \u001b[0m  \n",
              "  \u001b[38;2;149;144;119;48;2;39;40;34m# Combine all search results into a single string and convert to lowercase for uniformity\u001b[0m\u001b[48;2;39;40;34m                      \u001b[0m  \n",
              "  \u001b[38;2;248;248;242;48;2;39;40;34msearch_results_str\u001b[0m\u001b[38;2;248;248;242;48;2;39;40;34m \u001b[0m\u001b[38;2;255;70;137;48;2;39;40;34m=\u001b[0m\u001b[38;2;248;248;242;48;2;39;40;34m \u001b[0m\u001b[38;2;230;219;116;48;2;39;40;34m'\u001b[0m\u001b[38;2;174;129;255;48;2;39;40;34m\\n\u001b[0m\u001b[38;2;230;219;116;48;2;39;40;34m'\u001b[0m\u001b[38;2;255;70;137;48;2;39;40;34m.\u001b[0m\u001b[38;2;248;248;242;48;2;39;40;34mjoin\u001b[0m\u001b[38;2;248;248;242;48;2;39;40;34m(\u001b[0m\u001b[38;2;248;248;242;48;2;39;40;34msearch_results\u001b[0m\u001b[38;2;248;248;242;48;2;39;40;34m)\u001b[0m\u001b[38;2;255;70;137;48;2;39;40;34m.\u001b[0m\u001b[38;2;248;248;242;48;2;39;40;34mlower\u001b[0m\u001b[38;2;248;248;242;48;2;39;40;34m(\u001b[0m\u001b[38;2;248;248;242;48;2;39;40;34m)\u001b[0m\u001b[48;2;39;40;34m                                                         \u001b[0m  \n",
              "  \u001b[48;2;39;40;34m                                                                                                               \u001b[0m  \n",
              "  \u001b[38;2;149;144;119;48;2;39;40;34m# Use regular expressions to find mentions of each language with improved pattern matching\u001b[0m\u001b[48;2;39;40;34m                     \u001b[0m  \n",
              "  \u001b[38;2;248;248;242;48;2;39;40;34mlanguage_counter\u001b[0m\u001b[38;2;248;248;242;48;2;39;40;34m \u001b[0m\u001b[38;2;255;70;137;48;2;39;40;34m=\u001b[0m\u001b[38;2;248;248;242;48;2;39;40;34m \u001b[0m\u001b[38;2;248;248;242;48;2;39;40;34mCounter\u001b[0m\u001b[38;2;248;248;242;48;2;39;40;34m(\u001b[0m\u001b[38;2;248;248;242;48;2;39;40;34m)\u001b[0m\u001b[48;2;39;40;34m                                                                                   \u001b[0m  \n",
              "  \u001b[38;2;102;217;239;48;2;39;40;34mfor\u001b[0m\u001b[38;2;248;248;242;48;2;39;40;34m \u001b[0m\u001b[38;2;248;248;242;48;2;39;40;34mlanguage\u001b[0m\u001b[38;2;248;248;242;48;2;39;40;34m \u001b[0m\u001b[38;2;255;70;137;48;2;39;40;34min\u001b[0m\u001b[38;2;248;248;242;48;2;39;40;34m \u001b[0m\u001b[38;2;248;248;242;48;2;39;40;34mlanguages\u001b[0m\u001b[38;2;248;248;242;48;2;39;40;34m:\u001b[0m\u001b[48;2;39;40;34m                                                                                     \u001b[0m  \n",
              "  \u001b[38;2;248;248;242;48;2;39;40;34m    \u001b[0m\u001b[38;2;149;144;119;48;2;39;40;34m# Handle special cases like 'c++'\u001b[0m\u001b[48;2;39;40;34m                                                                          \u001b[0m  \n",
              "  \u001b[38;2;248;248;242;48;2;39;40;34m    \u001b[0m\u001b[38;2;102;217;239;48;2;39;40;34mif\u001b[0m\u001b[38;2;248;248;242;48;2;39;40;34m \u001b[0m\u001b[38;2;248;248;242;48;2;39;40;34mlanguage\u001b[0m\u001b[38;2;248;248;242;48;2;39;40;34m \u001b[0m\u001b[38;2;255;70;137;48;2;39;40;34m==\u001b[0m\u001b[38;2;248;248;242;48;2;39;40;34m \u001b[0m\u001b[38;2;230;219;116;48;2;39;40;34m'\u001b[0m\u001b[38;2;230;219;116;48;2;39;40;34mc++\u001b[0m\u001b[38;2;230;219;116;48;2;39;40;34m'\u001b[0m\u001b[38;2;248;248;242;48;2;39;40;34m:\u001b[0m\u001b[48;2;39;40;34m                                                                                      \u001b[0m  \n",
              "  \u001b[38;2;248;248;242;48;2;39;40;34m        \u001b[0m\u001b[38;2;248;248;242;48;2;39;40;34mmatches\u001b[0m\u001b[38;2;248;248;242;48;2;39;40;34m \u001b[0m\u001b[38;2;255;70;137;48;2;39;40;34m=\u001b[0m\u001b[38;2;248;248;242;48;2;39;40;34m \u001b[0m\u001b[38;2;248;248;242;48;2;39;40;34mre\u001b[0m\u001b[38;2;255;70;137;48;2;39;40;34m.\u001b[0m\u001b[38;2;248;248;242;48;2;39;40;34mfindall\u001b[0m\u001b[38;2;248;248;242;48;2;39;40;34m(\u001b[0m\u001b[38;2;230;219;116;48;2;39;40;34mr\u001b[0m\u001b[38;2;230;219;116;48;2;39;40;34m'\u001b[0m\u001b[38;2;230;219;116;48;2;39;40;34m\\\u001b[0m\u001b[38;2;230;219;116;48;2;39;40;34mb\u001b[0m\u001b[38;2;230;219;116;48;2;39;40;34m'\u001b[0m\u001b[38;2;248;248;242;48;2;39;40;34m \u001b[0m\u001b[38;2;255;70;137;48;2;39;40;34m+\u001b[0m\u001b[38;2;248;248;242;48;2;39;40;34m \u001b[0m\u001b[38;2;248;248;242;48;2;39;40;34mre\u001b[0m\u001b[38;2;255;70;137;48;2;39;40;34m.\u001b[0m\u001b[38;2;248;248;242;48;2;39;40;34mescape\u001b[0m\u001b[38;2;248;248;242;48;2;39;40;34m(\u001b[0m\u001b[38;2;248;248;242;48;2;39;40;34mlanguage\u001b[0m\u001b[38;2;248;248;242;48;2;39;40;34m)\u001b[0m\u001b[38;2;248;248;242;48;2;39;40;34m \u001b[0m\u001b[38;2;255;70;137;48;2;39;40;34m+\u001b[0m\u001b[38;2;248;248;242;48;2;39;40;34m \u001b[0m\u001b[38;2;230;219;116;48;2;39;40;34mr\u001b[0m\u001b[38;2;230;219;116;48;2;39;40;34m'\u001b[0m\u001b[38;2;230;219;116;48;2;39;40;34m\\\u001b[0m\u001b[38;2;230;219;116;48;2;39;40;34mb\u001b[0m\u001b[38;2;230;219;116;48;2;39;40;34m'\u001b[0m\u001b[38;2;248;248;242;48;2;39;40;34m,\u001b[0m\u001b[38;2;248;248;242;48;2;39;40;34m \u001b[0m\u001b[38;2;248;248;242;48;2;39;40;34msearch_results_str\u001b[0m\u001b[38;2;248;248;242;48;2;39;40;34m)\u001b[0m\u001b[48;2;39;40;34m                          \u001b[0m  \n",
              "  \u001b[38;2;248;248;242;48;2;39;40;34m    \u001b[0m\u001b[38;2;102;217;239;48;2;39;40;34melse\u001b[0m\u001b[38;2;248;248;242;48;2;39;40;34m:\u001b[0m\u001b[48;2;39;40;34m                                                                                                      \u001b[0m  \n",
              "  \u001b[38;2;248;248;242;48;2;39;40;34m        \u001b[0m\u001b[38;2;248;248;242;48;2;39;40;34mmatches\u001b[0m\u001b[38;2;248;248;242;48;2;39;40;34m \u001b[0m\u001b[38;2;255;70;137;48;2;39;40;34m=\u001b[0m\u001b[38;2;248;248;242;48;2;39;40;34m \u001b[0m\u001b[38;2;248;248;242;48;2;39;40;34mre\u001b[0m\u001b[38;2;255;70;137;48;2;39;40;34m.\u001b[0m\u001b[38;2;248;248;242;48;2;39;40;34mfindall\u001b[0m\u001b[38;2;248;248;242;48;2;39;40;34m(\u001b[0m\u001b[38;2;230;219;116;48;2;39;40;34mr\u001b[0m\u001b[38;2;230;219;116;48;2;39;40;34m'\u001b[0m\u001b[38;2;230;219;116;48;2;39;40;34m\\\u001b[0m\u001b[38;2;230;219;116;48;2;39;40;34mb\u001b[0m\u001b[38;2;230;219;116;48;2;39;40;34m'\u001b[0m\u001b[38;2;248;248;242;48;2;39;40;34m \u001b[0m\u001b[38;2;255;70;137;48;2;39;40;34m+\u001b[0m\u001b[38;2;248;248;242;48;2;39;40;34m \u001b[0m\u001b[38;2;248;248;242;48;2;39;40;34mlanguage\u001b[0m\u001b[38;2;248;248;242;48;2;39;40;34m \u001b[0m\u001b[38;2;255;70;137;48;2;39;40;34m+\u001b[0m\u001b[38;2;248;248;242;48;2;39;40;34m \u001b[0m\u001b[38;2;230;219;116;48;2;39;40;34mr\u001b[0m\u001b[38;2;230;219;116;48;2;39;40;34m'\u001b[0m\u001b[38;2;230;219;116;48;2;39;40;34m\\\u001b[0m\u001b[38;2;230;219;116;48;2;39;40;34mb\u001b[0m\u001b[38;2;230;219;116;48;2;39;40;34m'\u001b[0m\u001b[38;2;248;248;242;48;2;39;40;34m,\u001b[0m\u001b[38;2;248;248;242;48;2;39;40;34m \u001b[0m\u001b[38;2;248;248;242;48;2;39;40;34msearch_results_str\u001b[0m\u001b[38;2;248;248;242;48;2;39;40;34m)\u001b[0m\u001b[48;2;39;40;34m                                     \u001b[0m  \n",
              "  \u001b[38;2;248;248;242;48;2;39;40;34m    \u001b[0m\u001b[38;2;248;248;242;48;2;39;40;34mlanguage_counter\u001b[0m\u001b[38;2;248;248;242;48;2;39;40;34m[\u001b[0m\u001b[38;2;248;248;242;48;2;39;40;34mlanguage\u001b[0m\u001b[38;2;248;248;242;48;2;39;40;34m]\u001b[0m\u001b[38;2;248;248;242;48;2;39;40;34m \u001b[0m\u001b[38;2;255;70;137;48;2;39;40;34m+\u001b[0m\u001b[38;2;255;70;137;48;2;39;40;34m=\u001b[0m\u001b[38;2;248;248;242;48;2;39;40;34m \u001b[0m\u001b[38;2;248;248;242;48;2;39;40;34mlen\u001b[0m\u001b[38;2;248;248;242;48;2;39;40;34m(\u001b[0m\u001b[38;2;248;248;242;48;2;39;40;34mmatches\u001b[0m\u001b[38;2;248;248;242;48;2;39;40;34m)\u001b[0m\u001b[48;2;39;40;34m                                                                 \u001b[0m  \n",
              "  \u001b[48;2;39;40;34m                                                                                                               \u001b[0m  \n",
              "  \u001b[38;2;149;144;119;48;2;39;40;34m# Print the sorted list of languages by frequency\u001b[0m\u001b[48;2;39;40;34m                                                              \u001b[0m  \n",
              "  \u001b[38;2;248;248;242;48;2;39;40;34mprint\u001b[0m\u001b[38;2;248;248;242;48;2;39;40;34m(\u001b[0m\u001b[38;2;248;248;242;48;2;39;40;34mdict\u001b[0m\u001b[38;2;248;248;242;48;2;39;40;34m(\u001b[0m\u001b[38;2;248;248;242;48;2;39;40;34mlanguage_counter\u001b[0m\u001b[38;2;248;248;242;48;2;39;40;34m)\u001b[0m\u001b[38;2;248;248;242;48;2;39;40;34m)\u001b[0m\u001b[48;2;39;40;34m                                                                                  \u001b[0m  \n",
              " ───────────────────────────────────────────────────────────────────────────────────────────────────────────────── \n"
            ],
            "text/html": [
              "<pre style=\"white-space:pre;overflow-x:auto;line-height:normal;font-family:Menlo,'DejaVu Sans Mono',consolas,'Courier New',monospace\"> ─ <span style=\"font-weight: bold\">Executing parsed code:</span> ──────────────────────────────────────────────────────────────────────────────────────── \n",
              "  <span style=\"color: #ff4689; text-decoration-color: #ff4689; background-color: #272822\">import</span><span style=\"color: #f8f8f2; text-decoration-color: #f8f8f2; background-color: #272822\"> re</span><span style=\"background-color: #272822\">                                                                                                      </span>  \n",
              "  <span style=\"color: #ff4689; text-decoration-color: #ff4689; background-color: #272822\">from</span><span style=\"color: #f8f8f2; text-decoration-color: #f8f8f2; background-color: #272822\"> collections </span><span style=\"color: #ff4689; text-decoration-color: #ff4689; background-color: #272822\">import</span><span style=\"color: #f8f8f2; text-decoration-color: #f8f8f2; background-color: #272822\"> Counter</span><span style=\"background-color: #272822\">                                                                                </span>  \n",
              "  <span style=\"background-color: #272822\">                                                                                                               </span>  \n",
              "  <span style=\"color: #959077; text-decoration-color: #959077; background-color: #272822\"># Define possible programming languages to look for</span><span style=\"background-color: #272822\">                                                            </span>  \n",
              "  <span style=\"color: #f8f8f2; text-decoration-color: #f8f8f2; background-color: #272822\">languages </span><span style=\"color: #ff4689; text-decoration-color: #ff4689; background-color: #272822\">=</span><span style=\"color: #f8f8f2; text-decoration-color: #f8f8f2; background-color: #272822\"> [</span><span style=\"color: #e6db74; text-decoration-color: #e6db74; background-color: #272822\">'python'</span><span style=\"color: #f8f8f2; text-decoration-color: #f8f8f2; background-color: #272822\">, </span><span style=\"color: #e6db74; text-decoration-color: #e6db74; background-color: #272822\">'java'</span><span style=\"color: #f8f8f2; text-decoration-color: #f8f8f2; background-color: #272822\">, </span><span style=\"color: #e6db74; text-decoration-color: #e6db74; background-color: #272822\">'c++'</span><span style=\"color: #f8f8f2; text-decoration-color: #f8f8f2; background-color: #272822\">, </span><span style=\"color: #e6db74; text-decoration-color: #e6db74; background-color: #272822\">'julia'</span><span style=\"color: #f8f8f2; text-decoration-color: #f8f8f2; background-color: #272822\">, </span><span style=\"color: #e6db74; text-decoration-color: #e6db74; background-color: #272822\">'r'</span><span style=\"color: #f8f8f2; text-decoration-color: #f8f8f2; background-color: #272822\">, </span><span style=\"color: #e6db74; text-decoration-color: #e6db74; background-color: #272822\">'scala'</span><span style=\"color: #f8f8f2; text-decoration-color: #f8f8f2; background-color: #272822\">, </span><span style=\"color: #e6db74; text-decoration-color: #e6db74; background-color: #272822\">'go'</span><span style=\"color: #f8f8f2; text-decoration-color: #f8f8f2; background-color: #272822\">, </span><span style=\"color: #e6db74; text-decoration-color: #e6db74; background-color: #272822\">'ruby'</span><span style=\"color: #f8f8f2; text-decoration-color: #f8f8f2; background-color: #272822\">, </span><span style=\"color: #e6db74; text-decoration-color: #e6db74; background-color: #272822\">'rust'</span><span style=\"color: #f8f8f2; text-decoration-color: #f8f8f2; background-color: #272822\">, </span><span style=\"color: #e6db74; text-decoration-color: #e6db74; background-color: #272822\">'typescript'</span><span style=\"color: #f8f8f2; text-decoration-color: #f8f8f2; background-color: #272822\">, </span><span style=\"color: #e6db74; text-decoration-color: #e6db74; background-color: #272822\">'javascript'</span><span style=\"color: #f8f8f2; text-decoration-color: #f8f8f2; background-color: #272822\">, </span>  \n",
              "  <span style=\"color: #e6db74; text-decoration-color: #e6db74; background-color: #272822\">'kotlin'</span><span style=\"color: #f8f8f2; text-decoration-color: #f8f8f2; background-color: #272822\">]</span><span style=\"background-color: #272822\">                                                                                                      </span>  \n",
              "  <span style=\"background-color: #272822\">                                                                                                               </span>  \n",
              "  <span style=\"color: #959077; text-decoration-color: #959077; background-color: #272822\"># Combine all search results into a single string and convert to lowercase for uniformity</span><span style=\"background-color: #272822\">                      </span>  \n",
              "  <span style=\"color: #f8f8f2; text-decoration-color: #f8f8f2; background-color: #272822\">search_results_str </span><span style=\"color: #ff4689; text-decoration-color: #ff4689; background-color: #272822\">=</span><span style=\"color: #f8f8f2; text-decoration-color: #f8f8f2; background-color: #272822\"> </span><span style=\"color: #e6db74; text-decoration-color: #e6db74; background-color: #272822\">'</span><span style=\"color: #ae81ff; text-decoration-color: #ae81ff; background-color: #272822\">\\n</span><span style=\"color: #e6db74; text-decoration-color: #e6db74; background-color: #272822\">'</span><span style=\"color: #ff4689; text-decoration-color: #ff4689; background-color: #272822\">.</span><span style=\"color: #f8f8f2; text-decoration-color: #f8f8f2; background-color: #272822\">join(search_results)</span><span style=\"color: #ff4689; text-decoration-color: #ff4689; background-color: #272822\">.</span><span style=\"color: #f8f8f2; text-decoration-color: #f8f8f2; background-color: #272822\">lower()</span><span style=\"background-color: #272822\">                                                         </span>  \n",
              "  <span style=\"background-color: #272822\">                                                                                                               </span>  \n",
              "  <span style=\"color: #959077; text-decoration-color: #959077; background-color: #272822\"># Use regular expressions to find mentions of each language with improved pattern matching</span><span style=\"background-color: #272822\">                     </span>  \n",
              "  <span style=\"color: #f8f8f2; text-decoration-color: #f8f8f2; background-color: #272822\">language_counter </span><span style=\"color: #ff4689; text-decoration-color: #ff4689; background-color: #272822\">=</span><span style=\"color: #f8f8f2; text-decoration-color: #f8f8f2; background-color: #272822\"> Counter()</span><span style=\"background-color: #272822\">                                                                                   </span>  \n",
              "  <span style=\"color: #66d9ef; text-decoration-color: #66d9ef; background-color: #272822\">for</span><span style=\"color: #f8f8f2; text-decoration-color: #f8f8f2; background-color: #272822\"> language </span><span style=\"color: #ff4689; text-decoration-color: #ff4689; background-color: #272822\">in</span><span style=\"color: #f8f8f2; text-decoration-color: #f8f8f2; background-color: #272822\"> languages:</span><span style=\"background-color: #272822\">                                                                                     </span>  \n",
              "  <span style=\"color: #f8f8f2; text-decoration-color: #f8f8f2; background-color: #272822\">    </span><span style=\"color: #959077; text-decoration-color: #959077; background-color: #272822\"># Handle special cases like 'c++'</span><span style=\"background-color: #272822\">                                                                          </span>  \n",
              "  <span style=\"color: #f8f8f2; text-decoration-color: #f8f8f2; background-color: #272822\">    </span><span style=\"color: #66d9ef; text-decoration-color: #66d9ef; background-color: #272822\">if</span><span style=\"color: #f8f8f2; text-decoration-color: #f8f8f2; background-color: #272822\"> language </span><span style=\"color: #ff4689; text-decoration-color: #ff4689; background-color: #272822\">==</span><span style=\"color: #f8f8f2; text-decoration-color: #f8f8f2; background-color: #272822\"> </span><span style=\"color: #e6db74; text-decoration-color: #e6db74; background-color: #272822\">'c++'</span><span style=\"color: #f8f8f2; text-decoration-color: #f8f8f2; background-color: #272822\">:</span><span style=\"background-color: #272822\">                                                                                      </span>  \n",
              "  <span style=\"color: #f8f8f2; text-decoration-color: #f8f8f2; background-color: #272822\">        matches </span><span style=\"color: #ff4689; text-decoration-color: #ff4689; background-color: #272822\">=</span><span style=\"color: #f8f8f2; text-decoration-color: #f8f8f2; background-color: #272822\"> re</span><span style=\"color: #ff4689; text-decoration-color: #ff4689; background-color: #272822\">.</span><span style=\"color: #f8f8f2; text-decoration-color: #f8f8f2; background-color: #272822\">findall(</span><span style=\"color: #e6db74; text-decoration-color: #e6db74; background-color: #272822\">r'\\b'</span><span style=\"color: #f8f8f2; text-decoration-color: #f8f8f2; background-color: #272822\"> </span><span style=\"color: #ff4689; text-decoration-color: #ff4689; background-color: #272822\">+</span><span style=\"color: #f8f8f2; text-decoration-color: #f8f8f2; background-color: #272822\"> re</span><span style=\"color: #ff4689; text-decoration-color: #ff4689; background-color: #272822\">.</span><span style=\"color: #f8f8f2; text-decoration-color: #f8f8f2; background-color: #272822\">escape(language) </span><span style=\"color: #ff4689; text-decoration-color: #ff4689; background-color: #272822\">+</span><span style=\"color: #f8f8f2; text-decoration-color: #f8f8f2; background-color: #272822\"> </span><span style=\"color: #e6db74; text-decoration-color: #e6db74; background-color: #272822\">r'\\b'</span><span style=\"color: #f8f8f2; text-decoration-color: #f8f8f2; background-color: #272822\">, search_results_str)</span><span style=\"background-color: #272822\">                          </span>  \n",
              "  <span style=\"color: #f8f8f2; text-decoration-color: #f8f8f2; background-color: #272822\">    </span><span style=\"color: #66d9ef; text-decoration-color: #66d9ef; background-color: #272822\">else</span><span style=\"color: #f8f8f2; text-decoration-color: #f8f8f2; background-color: #272822\">:</span><span style=\"background-color: #272822\">                                                                                                      </span>  \n",
              "  <span style=\"color: #f8f8f2; text-decoration-color: #f8f8f2; background-color: #272822\">        matches </span><span style=\"color: #ff4689; text-decoration-color: #ff4689; background-color: #272822\">=</span><span style=\"color: #f8f8f2; text-decoration-color: #f8f8f2; background-color: #272822\"> re</span><span style=\"color: #ff4689; text-decoration-color: #ff4689; background-color: #272822\">.</span><span style=\"color: #f8f8f2; text-decoration-color: #f8f8f2; background-color: #272822\">findall(</span><span style=\"color: #e6db74; text-decoration-color: #e6db74; background-color: #272822\">r'\\b'</span><span style=\"color: #f8f8f2; text-decoration-color: #f8f8f2; background-color: #272822\"> </span><span style=\"color: #ff4689; text-decoration-color: #ff4689; background-color: #272822\">+</span><span style=\"color: #f8f8f2; text-decoration-color: #f8f8f2; background-color: #272822\"> language </span><span style=\"color: #ff4689; text-decoration-color: #ff4689; background-color: #272822\">+</span><span style=\"color: #f8f8f2; text-decoration-color: #f8f8f2; background-color: #272822\"> </span><span style=\"color: #e6db74; text-decoration-color: #e6db74; background-color: #272822\">r'\\b'</span><span style=\"color: #f8f8f2; text-decoration-color: #f8f8f2; background-color: #272822\">, search_results_str)</span><span style=\"background-color: #272822\">                                     </span>  \n",
              "  <span style=\"color: #f8f8f2; text-decoration-color: #f8f8f2; background-color: #272822\">    language_counter[language] </span><span style=\"color: #ff4689; text-decoration-color: #ff4689; background-color: #272822\">+=</span><span style=\"color: #f8f8f2; text-decoration-color: #f8f8f2; background-color: #272822\"> len(matches)</span><span style=\"background-color: #272822\">                                                                 </span>  \n",
              "  <span style=\"background-color: #272822\">                                                                                                               </span>  \n",
              "  <span style=\"color: #959077; text-decoration-color: #959077; background-color: #272822\"># Print the sorted list of languages by frequency</span><span style=\"background-color: #272822\">                                                              </span>  \n",
              "  <span style=\"color: #f8f8f2; text-decoration-color: #f8f8f2; background-color: #272822\">print(dict(language_counter))</span><span style=\"background-color: #272822\">                                                                                  </span>  \n",
              " ───────────────────────────────────────────────────────────────────────────────────────────────────────────────── \n",
              "</pre>\n"
            ]
          },
          "metadata": {}
        },
        {
          "output_type": "display_data",
          "data": {
            "text/plain": [
              "\u001b[1mExecution logs:\u001b[0m\n",
              "{'python': 0, 'java': 0, 'c++': 0, 'julia': 0, 'r': 245, 'scala': 0, 'go': 0, 'ruby': 0, 'rust': 0, 'typescript': \n",
              "0, 'javascript': 0, 'kotlin': 0}\n",
              "\n",
              "Out: None\n"
            ],
            "text/html": [
              "<pre style=\"white-space:pre;overflow-x:auto;line-height:normal;font-family:Menlo,'DejaVu Sans Mono',consolas,'Courier New',monospace\"><span style=\"font-weight: bold\">Execution logs:</span>\n",
              "{'python': 0, 'java': 0, 'c++': 0, 'julia': 0, 'r': 245, 'scala': 0, 'go': 0, 'ruby': 0, 'rust': 0, 'typescript': \n",
              "0, 'javascript': 0, 'kotlin': 0}\n",
              "\n",
              "Out: None\n",
              "</pre>\n"
            ]
          },
          "metadata": {}
        },
        {
          "output_type": "display_data",
          "data": {
            "text/plain": [
              "\u001b[2m[Step 6: Duration 18.40 seconds| Input tokens: 25,088 | Output tokens: 1,319]\u001b[0m\n"
            ],
            "text/html": [
              "<pre style=\"white-space:pre;overflow-x:auto;line-height:normal;font-family:Menlo,'DejaVu Sans Mono',consolas,'Courier New',monospace\"><span style=\"color: #7f7f7f; text-decoration-color: #7f7f7f\">[Step 6: Duration 18.40 seconds| Input tokens: 25,088 | Output tokens: 1,319]</span>\n",
              "</pre>\n"
            ]
          },
          "metadata": {}
        },
        {
          "output_type": "display_data",
          "data": {
            "text/plain": [
              "\u001b[38;2;212;183;2m━━━━━━━━━━━━━━━━━━━━━━━━━━━━━━━━━━━━━━━━━━━━━━━━━━━━━ \u001b[0m\u001b[1mStep \u001b[0m\u001b[1;36m7\u001b[0m\u001b[38;2;212;183;2m ━━━━━━━━━━━━━━━━━━━━━━━━━━━━━━━━━━━━━━━━━━━━━━━━━━━━━━\u001b[0m\n"
            ],
            "text/html": [
              "<pre style=\"white-space:pre;overflow-x:auto;line-height:normal;font-family:Menlo,'DejaVu Sans Mono',consolas,'Courier New',monospace\"><span style=\"color: #d4b702; text-decoration-color: #d4b702\">━━━━━━━━━━━━━━━━━━━━━━━━━━━━━━━━━━━━━━━━━━━━━━━━━━━━━ </span><span style=\"font-weight: bold\">Step </span><span style=\"color: #008080; text-decoration-color: #008080; font-weight: bold\">7</span><span style=\"color: #d4b702; text-decoration-color: #d4b702\"> ━━━━━━━━━━━━━━━━━━━━━━━━━━━━━━━━━━━━━━━━━━━━━━━━━━━━━━</span>\n",
              "</pre>\n"
            ]
          },
          "metadata": {}
        },
        {
          "output_type": "display_data",
          "data": {
            "text/plain": [
              " ─ \u001b[1mExecuting parsed code:\u001b[0m ──────────────────────────────────────────────────────────────────────────────────────── \n",
              "  \u001b[38;2;248;248;242;48;2;39;40;34mfinal_answer\u001b[0m\u001b[38;2;248;248;242;48;2;39;40;34m(\u001b[0m\u001b[38;2;248;248;242;48;2;39;40;34m[\u001b[0m\u001b[38;2;230;219;116;48;2;39;40;34m\"\u001b[0m\u001b[38;2;230;219;116;48;2;39;40;34mPython\u001b[0m\u001b[38;2;230;219;116;48;2;39;40;34m\"\u001b[0m\u001b[38;2;248;248;242;48;2;39;40;34m,\u001b[0m\u001b[38;2;248;248;242;48;2;39;40;34m \u001b[0m\u001b[38;2;230;219;116;48;2;39;40;34m\"\u001b[0m\u001b[38;2;230;219;116;48;2;39;40;34mJava\u001b[0m\u001b[38;2;230;219;116;48;2;39;40;34m\"\u001b[0m\u001b[38;2;248;248;242;48;2;39;40;34m,\u001b[0m\u001b[38;2;248;248;242;48;2;39;40;34m \u001b[0m\u001b[38;2;230;219;116;48;2;39;40;34m\"\u001b[0m\u001b[38;2;230;219;116;48;2;39;40;34mC++\u001b[0m\u001b[38;2;230;219;116;48;2;39;40;34m\"\u001b[0m\u001b[38;2;248;248;242;48;2;39;40;34m,\u001b[0m\u001b[38;2;248;248;242;48;2;39;40;34m \u001b[0m\u001b[38;2;230;219;116;48;2;39;40;34m\"\u001b[0m\u001b[38;2;230;219;116;48;2;39;40;34mR\u001b[0m\u001b[38;2;230;219;116;48;2;39;40;34m\"\u001b[0m\u001b[38;2;248;248;242;48;2;39;40;34m,\u001b[0m\u001b[38;2;248;248;242;48;2;39;40;34m \u001b[0m\u001b[38;2;230;219;116;48;2;39;40;34m\"\u001b[0m\u001b[38;2;230;219;116;48;2;39;40;34mJulia\u001b[0m\u001b[38;2;230;219;116;48;2;39;40;34m\"\u001b[0m\u001b[38;2;248;248;242;48;2;39;40;34m]\u001b[0m\u001b[38;2;248;248;242;48;2;39;40;34m)\u001b[0m\u001b[48;2;39;40;34m                                                          \u001b[0m  \n",
              " ───────────────────────────────────────────────────────────────────────────────────────────────────────────────── \n"
            ],
            "text/html": [
              "<pre style=\"white-space:pre;overflow-x:auto;line-height:normal;font-family:Menlo,'DejaVu Sans Mono',consolas,'Courier New',monospace\"> ─ <span style=\"font-weight: bold\">Executing parsed code:</span> ──────────────────────────────────────────────────────────────────────────────────────── \n",
              "  <span style=\"color: #f8f8f2; text-decoration-color: #f8f8f2; background-color: #272822\">final_answer([</span><span style=\"color: #e6db74; text-decoration-color: #e6db74; background-color: #272822\">\"Python\"</span><span style=\"color: #f8f8f2; text-decoration-color: #f8f8f2; background-color: #272822\">, </span><span style=\"color: #e6db74; text-decoration-color: #e6db74; background-color: #272822\">\"Java\"</span><span style=\"color: #f8f8f2; text-decoration-color: #f8f8f2; background-color: #272822\">, </span><span style=\"color: #e6db74; text-decoration-color: #e6db74; background-color: #272822\">\"C++\"</span><span style=\"color: #f8f8f2; text-decoration-color: #f8f8f2; background-color: #272822\">, </span><span style=\"color: #e6db74; text-decoration-color: #e6db74; background-color: #272822\">\"R\"</span><span style=\"color: #f8f8f2; text-decoration-color: #f8f8f2; background-color: #272822\">, </span><span style=\"color: #e6db74; text-decoration-color: #e6db74; background-color: #272822\">\"Julia\"</span><span style=\"color: #f8f8f2; text-decoration-color: #f8f8f2; background-color: #272822\">])</span><span style=\"background-color: #272822\">                                                          </span>  \n",
              " ───────────────────────────────────────────────────────────────────────────────────────────────────────────────── \n",
              "</pre>\n"
            ]
          },
          "metadata": {}
        },
        {
          "output_type": "display_data",
          "data": {
            "text/plain": [
              "\u001b[1;38;2;212;183;2mOut - Final answer: ['Python', 'Java', 'C++', 'R', 'Julia']\u001b[0m\n"
            ],
            "text/html": [
              "<pre style=\"white-space:pre;overflow-x:auto;line-height:normal;font-family:Menlo,'DejaVu Sans Mono',consolas,'Courier New',monospace\"><span style=\"color: #d4b702; text-decoration-color: #d4b702; font-weight: bold\">Out - Final answer: ['Python', 'Java', 'C++', 'R', 'Julia']</span>\n",
              "</pre>\n"
            ]
          },
          "metadata": {}
        },
        {
          "output_type": "display_data",
          "data": {
            "text/plain": [
              "\u001b[2m[Step 7: Duration 11.79 seconds| Input tokens: 32,102 | Output tokens: 1,558]\u001b[0m\n"
            ],
            "text/html": [
              "<pre style=\"white-space:pre;overflow-x:auto;line-height:normal;font-family:Menlo,'DejaVu Sans Mono',consolas,'Courier New',monospace\"><span style=\"color: #7f7f7f; text-decoration-color: #7f7f7f\">[Step 7: Duration 11.79 seconds| Input tokens: 32,102 | Output tokens: 1,558]</span>\n",
              "</pre>\n"
            ]
          },
          "metadata": {}
        },
        {
          "output_type": "execute_result",
          "data": {
            "text/plain": [
              "['Python', 'Java', 'C++', 'R', 'Julia']"
            ]
          },
          "metadata": {},
          "execution_count": 33
        }
      ]
    },
    {
      "cell_type": "code",
      "source": [],
      "metadata": {
        "id": "uvGKuRsiaIv3"
      },
      "execution_count": null,
      "outputs": []
    }
  ]
}