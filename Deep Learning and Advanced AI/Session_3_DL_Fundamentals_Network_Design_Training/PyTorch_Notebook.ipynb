{
  "nbformat": 4,
  "nbformat_minor": 0,
  "metadata": {
    "colab": {
      "provenance": []
    },
    "kernelspec": {
      "name": "python3",
      "display_name": "Python 3"
    },
    "language_info": {
      "name": "python"
    }
  },
  "cells": [
    {
      "cell_type": "markdown",
      "source": [
        "# PyTorch Notebook (Deep learning fundamentals)\n",
        "\n",
        "<img src=\"https://raw.githubusercontent.com/arad1367/UniLi_sources/main/IMG/logo.jpg\"\n",
        "     alt=\"University of Liechtenstein\"\n",
        "     width=\"350\"\n",
        "     height=\"auto\">\n",
        "\n",
        "### About This Tutorial\n",
        "\n",
        "This tutorial is prepared by **Dr. Pejman Ebrahimi** for the \"Deep Learning and Advanced AI Techniques\" course at the University of Liechtenstein.\n",
        "\n",
        "For more resources and notebooks related to this course, please visit Moodle or GitHub repository: [Course Materials](https://github.com/arad1367/University-of-Liechtenstein/tree/main/Deep%20Learning%20and%20Advanced%20AI).\n",
        "\n",
        "You can reach out to Dr. Pejman Ebrahimi via email: [pejman.ebrahimi@uni.li](mailto:pejman.ebrahimi@uni.li)."
      ],
      "metadata": {
        "id": "60xunltre6cY"
      }
    },
    {
      "cell_type": "markdown",
      "source": [
        "### 1. Setting Up the Environment and Loading Data\n",
        "* First, let's import the necessary libraries. We'll use pandas for data manipulation, numpy for numerical operations, matplotlib for visualization, and PyTorch for building our neural network model."
      ],
      "metadata": {
        "id": "ybkGlpuFg5Vu"
      }
    },
    {
      "cell_type": "code",
      "source": [
        "# Import basic libraries\n",
        "import pandas as pd\n",
        "import numpy as np\n",
        "import matplotlib.pyplot as plt\n",
        "\n",
        "# Import PyTorch libraries\n",
        "import torch\n",
        "from torch import nn\n",
        "from torch import optim"
      ],
      "metadata": {
        "id": "hfVN2WDmexnY"
      },
      "execution_count": 18,
      "outputs": []
    },
    {
      "cell_type": "markdown",
      "source": [
        "> Now, let's load our dataset from the provided URL. We'll use pandas to read the CSV file and display the first few rows to understand what our data looks like."
      ],
      "metadata": {
        "id": "0oEyVxh-hDaX"
      }
    },
    {
      "cell_type": "code",
      "source": [
        "# Load the dataset\n",
        "drug_data_url = \"https://raw.githubusercontent.com/arad1367/WAC_November-2023/refs/heads/main/drug200_missing.csv\"\n",
        "df = pd.read_csv(drug_data_url)\n",
        "\n",
        "df.head()"
      ],
      "metadata": {
        "colab": {
          "base_uri": "https://localhost:8080/",
          "height": 206
        },
        "id": "O1Sg-9fQexkn",
        "outputId": "8f912489-f8f6-456a-e17d-561eafcbb87a"
      },
      "execution_count": 20,
      "outputs": [
        {
          "output_type": "execute_result",
          "data": {
            "text/plain": [
              "    Age Sex      BP Cholesterol  Na_to_K   Drug\n",
              "0  23.0   F    HIGH        HIGH   25.355  DrugY\n",
              "1  47.0   M     LOW        HIGH   13.093  drugC\n",
              "2  47.0   M     LOW        HIGH   10.114  drugC\n",
              "3  28.0   F  NORMAL        HIGH    7.798  drugX\n",
              "4  61.0   F     LOW        HIGH   18.043  DrugY"
            ],
            "text/html": [
              "\n",
              "  <div id=\"df-ab19815c-d6e8-4628-aff5-44e5240c3638\" class=\"colab-df-container\">\n",
              "    <div>\n",
              "<style scoped>\n",
              "    .dataframe tbody tr th:only-of-type {\n",
              "        vertical-align: middle;\n",
              "    }\n",
              "\n",
              "    .dataframe tbody tr th {\n",
              "        vertical-align: top;\n",
              "    }\n",
              "\n",
              "    .dataframe thead th {\n",
              "        text-align: right;\n",
              "    }\n",
              "</style>\n",
              "<table border=\"1\" class=\"dataframe\">\n",
              "  <thead>\n",
              "    <tr style=\"text-align: right;\">\n",
              "      <th></th>\n",
              "      <th>Age</th>\n",
              "      <th>Sex</th>\n",
              "      <th>BP</th>\n",
              "      <th>Cholesterol</th>\n",
              "      <th>Na_to_K</th>\n",
              "      <th>Drug</th>\n",
              "    </tr>\n",
              "  </thead>\n",
              "  <tbody>\n",
              "    <tr>\n",
              "      <th>0</th>\n",
              "      <td>23.0</td>\n",
              "      <td>F</td>\n",
              "      <td>HIGH</td>\n",
              "      <td>HIGH</td>\n",
              "      <td>25.355</td>\n",
              "      <td>DrugY</td>\n",
              "    </tr>\n",
              "    <tr>\n",
              "      <th>1</th>\n",
              "      <td>47.0</td>\n",
              "      <td>M</td>\n",
              "      <td>LOW</td>\n",
              "      <td>HIGH</td>\n",
              "      <td>13.093</td>\n",
              "      <td>drugC</td>\n",
              "    </tr>\n",
              "    <tr>\n",
              "      <th>2</th>\n",
              "      <td>47.0</td>\n",
              "      <td>M</td>\n",
              "      <td>LOW</td>\n",
              "      <td>HIGH</td>\n",
              "      <td>10.114</td>\n",
              "      <td>drugC</td>\n",
              "    </tr>\n",
              "    <tr>\n",
              "      <th>3</th>\n",
              "      <td>28.0</td>\n",
              "      <td>F</td>\n",
              "      <td>NORMAL</td>\n",
              "      <td>HIGH</td>\n",
              "      <td>7.798</td>\n",
              "      <td>drugX</td>\n",
              "    </tr>\n",
              "    <tr>\n",
              "      <th>4</th>\n",
              "      <td>61.0</td>\n",
              "      <td>F</td>\n",
              "      <td>LOW</td>\n",
              "      <td>HIGH</td>\n",
              "      <td>18.043</td>\n",
              "      <td>DrugY</td>\n",
              "    </tr>\n",
              "  </tbody>\n",
              "</table>\n",
              "</div>\n",
              "    <div class=\"colab-df-buttons\">\n",
              "\n",
              "  <div class=\"colab-df-container\">\n",
              "    <button class=\"colab-df-convert\" onclick=\"convertToInteractive('df-ab19815c-d6e8-4628-aff5-44e5240c3638')\"\n",
              "            title=\"Convert this dataframe to an interactive table.\"\n",
              "            style=\"display:none;\">\n",
              "\n",
              "  <svg xmlns=\"http://www.w3.org/2000/svg\" height=\"24px\" viewBox=\"0 -960 960 960\">\n",
              "    <path d=\"M120-120v-720h720v720H120Zm60-500h600v-160H180v160Zm220 220h160v-160H400v160Zm0 220h160v-160H400v160ZM180-400h160v-160H180v160Zm440 0h160v-160H620v160ZM180-180h160v-160H180v160Zm440 0h160v-160H620v160Z\"/>\n",
              "  </svg>\n",
              "    </button>\n",
              "\n",
              "  <style>\n",
              "    .colab-df-container {\n",
              "      display:flex;\n",
              "      gap: 12px;\n",
              "    }\n",
              "\n",
              "    .colab-df-convert {\n",
              "      background-color: #E8F0FE;\n",
              "      border: none;\n",
              "      border-radius: 50%;\n",
              "      cursor: pointer;\n",
              "      display: none;\n",
              "      fill: #1967D2;\n",
              "      height: 32px;\n",
              "      padding: 0 0 0 0;\n",
              "      width: 32px;\n",
              "    }\n",
              "\n",
              "    .colab-df-convert:hover {\n",
              "      background-color: #E2EBFA;\n",
              "      box-shadow: 0px 1px 2px rgba(60, 64, 67, 0.3), 0px 1px 3px 1px rgba(60, 64, 67, 0.15);\n",
              "      fill: #174EA6;\n",
              "    }\n",
              "\n",
              "    .colab-df-buttons div {\n",
              "      margin-bottom: 4px;\n",
              "    }\n",
              "\n",
              "    [theme=dark] .colab-df-convert {\n",
              "      background-color: #3B4455;\n",
              "      fill: #D2E3FC;\n",
              "    }\n",
              "\n",
              "    [theme=dark] .colab-df-convert:hover {\n",
              "      background-color: #434B5C;\n",
              "      box-shadow: 0px 1px 3px 1px rgba(0, 0, 0, 0.15);\n",
              "      filter: drop-shadow(0px 1px 2px rgba(0, 0, 0, 0.3));\n",
              "      fill: #FFFFFF;\n",
              "    }\n",
              "  </style>\n",
              "\n",
              "    <script>\n",
              "      const buttonEl =\n",
              "        document.querySelector('#df-ab19815c-d6e8-4628-aff5-44e5240c3638 button.colab-df-convert');\n",
              "      buttonEl.style.display =\n",
              "        google.colab.kernel.accessAllowed ? 'block' : 'none';\n",
              "\n",
              "      async function convertToInteractive(key) {\n",
              "        const element = document.querySelector('#df-ab19815c-d6e8-4628-aff5-44e5240c3638');\n",
              "        const dataTable =\n",
              "          await google.colab.kernel.invokeFunction('convertToInteractive',\n",
              "                                                    [key], {});\n",
              "        if (!dataTable) return;\n",
              "\n",
              "        const docLinkHtml = 'Like what you see? Visit the ' +\n",
              "          '<a target=\"_blank\" href=https://colab.research.google.com/notebooks/data_table.ipynb>data table notebook</a>'\n",
              "          + ' to learn more about interactive tables.';\n",
              "        element.innerHTML = '';\n",
              "        dataTable['output_type'] = 'display_data';\n",
              "        await google.colab.output.renderOutput(dataTable, element);\n",
              "        const docLink = document.createElement('div');\n",
              "        docLink.innerHTML = docLinkHtml;\n",
              "        element.appendChild(docLink);\n",
              "      }\n",
              "    </script>\n",
              "  </div>\n",
              "\n",
              "\n",
              "<div id=\"df-cd5802a0-7f87-4843-89f3-4267ad5afb96\">\n",
              "  <button class=\"colab-df-quickchart\" onclick=\"quickchart('df-cd5802a0-7f87-4843-89f3-4267ad5afb96')\"\n",
              "            title=\"Suggest charts\"\n",
              "            style=\"display:none;\">\n",
              "\n",
              "<svg xmlns=\"http://www.w3.org/2000/svg\" height=\"24px\"viewBox=\"0 0 24 24\"\n",
              "     width=\"24px\">\n",
              "    <g>\n",
              "        <path d=\"M19 3H5c-1.1 0-2 .9-2 2v14c0 1.1.9 2 2 2h14c1.1 0 2-.9 2-2V5c0-1.1-.9-2-2-2zM9 17H7v-7h2v7zm4 0h-2V7h2v10zm4 0h-2v-4h2v4z\"/>\n",
              "    </g>\n",
              "</svg>\n",
              "  </button>\n",
              "\n",
              "<style>\n",
              "  .colab-df-quickchart {\n",
              "      --bg-color: #E8F0FE;\n",
              "      --fill-color: #1967D2;\n",
              "      --hover-bg-color: #E2EBFA;\n",
              "      --hover-fill-color: #174EA6;\n",
              "      --disabled-fill-color: #AAA;\n",
              "      --disabled-bg-color: #DDD;\n",
              "  }\n",
              "\n",
              "  [theme=dark] .colab-df-quickchart {\n",
              "      --bg-color: #3B4455;\n",
              "      --fill-color: #D2E3FC;\n",
              "      --hover-bg-color: #434B5C;\n",
              "      --hover-fill-color: #FFFFFF;\n",
              "      --disabled-bg-color: #3B4455;\n",
              "      --disabled-fill-color: #666;\n",
              "  }\n",
              "\n",
              "  .colab-df-quickchart {\n",
              "    background-color: var(--bg-color);\n",
              "    border: none;\n",
              "    border-radius: 50%;\n",
              "    cursor: pointer;\n",
              "    display: none;\n",
              "    fill: var(--fill-color);\n",
              "    height: 32px;\n",
              "    padding: 0;\n",
              "    width: 32px;\n",
              "  }\n",
              "\n",
              "  .colab-df-quickchart:hover {\n",
              "    background-color: var(--hover-bg-color);\n",
              "    box-shadow: 0 1px 2px rgba(60, 64, 67, 0.3), 0 1px 3px 1px rgba(60, 64, 67, 0.15);\n",
              "    fill: var(--button-hover-fill-color);\n",
              "  }\n",
              "\n",
              "  .colab-df-quickchart-complete:disabled,\n",
              "  .colab-df-quickchart-complete:disabled:hover {\n",
              "    background-color: var(--disabled-bg-color);\n",
              "    fill: var(--disabled-fill-color);\n",
              "    box-shadow: none;\n",
              "  }\n",
              "\n",
              "  .colab-df-spinner {\n",
              "    border: 2px solid var(--fill-color);\n",
              "    border-color: transparent;\n",
              "    border-bottom-color: var(--fill-color);\n",
              "    animation:\n",
              "      spin 1s steps(1) infinite;\n",
              "  }\n",
              "\n",
              "  @keyframes spin {\n",
              "    0% {\n",
              "      border-color: transparent;\n",
              "      border-bottom-color: var(--fill-color);\n",
              "      border-left-color: var(--fill-color);\n",
              "    }\n",
              "    20% {\n",
              "      border-color: transparent;\n",
              "      border-left-color: var(--fill-color);\n",
              "      border-top-color: var(--fill-color);\n",
              "    }\n",
              "    30% {\n",
              "      border-color: transparent;\n",
              "      border-left-color: var(--fill-color);\n",
              "      border-top-color: var(--fill-color);\n",
              "      border-right-color: var(--fill-color);\n",
              "    }\n",
              "    40% {\n",
              "      border-color: transparent;\n",
              "      border-right-color: var(--fill-color);\n",
              "      border-top-color: var(--fill-color);\n",
              "    }\n",
              "    60% {\n",
              "      border-color: transparent;\n",
              "      border-right-color: var(--fill-color);\n",
              "    }\n",
              "    80% {\n",
              "      border-color: transparent;\n",
              "      border-right-color: var(--fill-color);\n",
              "      border-bottom-color: var(--fill-color);\n",
              "    }\n",
              "    90% {\n",
              "      border-color: transparent;\n",
              "      border-bottom-color: var(--fill-color);\n",
              "    }\n",
              "  }\n",
              "</style>\n",
              "\n",
              "  <script>\n",
              "    async function quickchart(key) {\n",
              "      const quickchartButtonEl =\n",
              "        document.querySelector('#' + key + ' button');\n",
              "      quickchartButtonEl.disabled = true;  // To prevent multiple clicks.\n",
              "      quickchartButtonEl.classList.add('colab-df-spinner');\n",
              "      try {\n",
              "        const charts = await google.colab.kernel.invokeFunction(\n",
              "            'suggestCharts', [key], {});\n",
              "      } catch (error) {\n",
              "        console.error('Error during call to suggestCharts:', error);\n",
              "      }\n",
              "      quickchartButtonEl.classList.remove('colab-df-spinner');\n",
              "      quickchartButtonEl.classList.add('colab-df-quickchart-complete');\n",
              "    }\n",
              "    (() => {\n",
              "      let quickchartButtonEl =\n",
              "        document.querySelector('#df-cd5802a0-7f87-4843-89f3-4267ad5afb96 button');\n",
              "      quickchartButtonEl.style.display =\n",
              "        google.colab.kernel.accessAllowed ? 'block' : 'none';\n",
              "    })();\n",
              "  </script>\n",
              "</div>\n",
              "\n",
              "    </div>\n",
              "  </div>\n"
            ],
            "application/vnd.google.colaboratory.intrinsic+json": {
              "type": "dataframe",
              "variable_name": "df",
              "summary": "{\n  \"name\": \"df\",\n  \"rows\": 200,\n  \"fields\": [\n    {\n      \"column\": \"Age\",\n      \"properties\": {\n        \"dtype\": \"number\",\n        \"std\": 16.534123794561946,\n        \"min\": 15.0,\n        \"max\": 74.0,\n        \"num_unique_values\": 57,\n        \"samples\": [\n          23.0,\n          49.0,\n          68.0\n        ],\n        \"semantic_type\": \"\",\n        \"description\": \"\"\n      }\n    },\n    {\n      \"column\": \"Sex\",\n      \"properties\": {\n        \"dtype\": \"category\",\n        \"num_unique_values\": 2,\n        \"samples\": [\n          \"M\",\n          \"F\"\n        ],\n        \"semantic_type\": \"\",\n        \"description\": \"\"\n      }\n    },\n    {\n      \"column\": \"BP\",\n      \"properties\": {\n        \"dtype\": \"category\",\n        \"num_unique_values\": 3,\n        \"samples\": [\n          \"HIGH\",\n          \"LOW\"\n        ],\n        \"semantic_type\": \"\",\n        \"description\": \"\"\n      }\n    },\n    {\n      \"column\": \"Cholesterol\",\n      \"properties\": {\n        \"dtype\": \"category\",\n        \"num_unique_values\": 2,\n        \"samples\": [\n          \"NORMAL\",\n          \"HIGH\"\n        ],\n        \"semantic_type\": \"\",\n        \"description\": \"\"\n      }\n    },\n    {\n      \"column\": \"Na_to_K\",\n      \"properties\": {\n        \"dtype\": \"number\",\n        \"std\": 7.1775640141985,\n        \"min\": 6.269,\n        \"max\": 38.247,\n        \"num_unique_values\": 194,\n        \"samples\": [\n          8.621,\n          7.298\n        ],\n        \"semantic_type\": \"\",\n        \"description\": \"\"\n      }\n    },\n    {\n      \"column\": \"Drug\",\n      \"properties\": {\n        \"dtype\": \"category\",\n        \"num_unique_values\": 5,\n        \"samples\": [\n          \"drugC\",\n          \"drugB\"\n        ],\n        \"semantic_type\": \"\",\n        \"description\": \"\"\n      }\n    }\n  ]\n}"
            }
          },
          "metadata": {},
          "execution_count": 20
        }
      ]
    },
    {
      "cell_type": "markdown",
      "source": [
        "### 2. Data Exploration and Preprocessing\n",
        "* Let's first identify the categorical columns in our dataset. Categorical columns contain non-numeric values that need to be encoded before we can use them in our model."
      ],
      "metadata": {
        "id": "-Ad0bphxhNeJ"
      }
    },
    {
      "cell_type": "code",
      "source": [
        "# Select categorical columns\n",
        "objList = df.select_dtypes(include=\"object\").columns\n",
        "print(\"\\nCategorical Columns:\")\n",
        "print(objList)"
      ],
      "metadata": {
        "colab": {
          "base_uri": "https://localhost:8080/"
        },
        "id": "tSfX_77dhIaz",
        "outputId": "30328bd5-f71f-4630-ddcc-c661a21869a4"
      },
      "execution_count": 21,
      "outputs": [
        {
          "output_type": "stream",
          "name": "stdout",
          "text": [
            "\n",
            "Categorical Columns:\n",
            "Index(['Sex', 'BP', 'Cholesterol', 'Drug'], dtype='object')\n"
          ]
        }
      ]
    },
    {
      "cell_type": "markdown",
      "source": [
        "* Label Encoding\n",
        "> Label Encoding is a technique to convert categorical variables into numerical format. Each unique category value is assigned a unique integer. For example, if we have a \"Sex\" column with values \"M\" and \"F\", they might be encoded as 0 and 1."
      ],
      "metadata": {
        "id": "oz9uOlAdhVkh"
      }
    },
    {
      "cell_type": "code",
      "source": [
        "# 1. Import library for label encoding\n",
        "from sklearn.preprocessing import LabelEncoder\n",
        "\n",
        "# 2. Create an empty dictionary to save encoders\n",
        "le_dict = {}\n",
        "\n",
        "# 3. Loop through all object columns and encode\n",
        "for feat in objList:\n",
        "    le = LabelEncoder()\n",
        "    df[feat] = le.fit_transform(df[feat].astype(str))  # Ensure values are string\n",
        "    le_dict[feat] = le  # Save the encoder for this column\n",
        "\n",
        "# 4. Check dataframe info after encoding\n",
        "print(\"\\nDataframe Info After Label Encoding:\")\n",
        "print(df.info())"
      ],
      "metadata": {
        "colab": {
          "base_uri": "https://localhost:8080/"
        },
        "id": "BZL_Dd0UhR_E",
        "outputId": "71e10405-eca4-4f3d-c3d4-7fe8246c57d4"
      },
      "execution_count": 22,
      "outputs": [
        {
          "output_type": "stream",
          "name": "stdout",
          "text": [
            "\n",
            "Dataframe Info After Label Encoding:\n",
            "<class 'pandas.core.frame.DataFrame'>\n",
            "RangeIndex: 200 entries, 0 to 199\n",
            "Data columns (total 6 columns):\n",
            " #   Column       Non-Null Count  Dtype  \n",
            "---  ------       --------------  -----  \n",
            " 0   Age          198 non-null    float64\n",
            " 1   Sex          200 non-null    int64  \n",
            " 2   BP           200 non-null    int64  \n",
            " 3   Cholesterol  200 non-null    int64  \n",
            " 4   Na_to_K      196 non-null    float64\n",
            " 5   Drug         200 non-null    int64  \n",
            "dtypes: float64(2), int64(4)\n",
            "memory usage: 9.5 KB\n",
            "None\n"
          ]
        }
      ]
    },
    {
      "cell_type": "markdown",
      "source": [
        "* Let's see what the encodings actually represent by printing the mapping for each categorical feature:"
      ],
      "metadata": {
        "id": "2r8gO4JMhigy"
      }
    },
    {
      "cell_type": "code",
      "source": [
        "# 5. Print mapping for each feature\n",
        "for feat in objList:\n",
        "    print(f\"\\nMapping for '{feat}':\")\n",
        "    le = le_dict[feat]  # Get the LabelEncoder for this feature\n",
        "\n",
        "    for i, class_label in enumerate(le.classes_):\n",
        "        print(f\"{i} -> {class_label}\")"
      ],
      "metadata": {
        "colab": {
          "base_uri": "https://localhost:8080/"
        },
        "id": "eb3Km3YnheCz",
        "outputId": "c4296a5b-a371-4f40-e8e0-b72b4d963687"
      },
      "execution_count": 23,
      "outputs": [
        {
          "output_type": "stream",
          "name": "stdout",
          "text": [
            "\n",
            "Mapping for 'Sex':\n",
            "0 -> F\n",
            "1 -> M\n",
            "\n",
            "Mapping for 'BP':\n",
            "0 -> HIGH\n",
            "1 -> LOW\n",
            "2 -> NORMAL\n",
            "\n",
            "Mapping for 'Cholesterol':\n",
            "0 -> HIGH\n",
            "1 -> NORMAL\n",
            "2 -> nan\n",
            "\n",
            "Mapping for 'Drug':\n",
            "0 -> DrugY\n",
            "1 -> drugA\n",
            "2 -> drugB\n",
            "3 -> drugC\n",
            "4 -> drugX\n"
          ]
        }
      ]
    },
    {
      "cell_type": "markdown",
      "source": [
        "### Handling Missing Values\n",
        "Now, let's handle any missing values in our dataset. For this simple example, we'll just drop the rows with missing values:"
      ],
      "metadata": {
        "id": "GmitQZp7hn6T"
      }
    },
    {
      "cell_type": "code",
      "source": [
        "df = df.dropna()\n",
        "\n",
        "df.isna().sum()"
      ],
      "metadata": {
        "colab": {
          "base_uri": "https://localhost:8080/",
          "height": 272
        },
        "id": "5xx-XnGmhkwm",
        "outputId": "a5b46fe6-b53d-44d4-e52e-0a2453b48954"
      },
      "execution_count": 25,
      "outputs": [
        {
          "output_type": "execute_result",
          "data": {
            "text/plain": [
              "Age            0\n",
              "Sex            0\n",
              "BP             0\n",
              "Cholesterol    0\n",
              "Na_to_K        0\n",
              "Drug           0\n",
              "dtype: int64"
            ],
            "text/html": [
              "<div>\n",
              "<style scoped>\n",
              "    .dataframe tbody tr th:only-of-type {\n",
              "        vertical-align: middle;\n",
              "    }\n",
              "\n",
              "    .dataframe tbody tr th {\n",
              "        vertical-align: top;\n",
              "    }\n",
              "\n",
              "    .dataframe thead th {\n",
              "        text-align: right;\n",
              "    }\n",
              "</style>\n",
              "<table border=\"1\" class=\"dataframe\">\n",
              "  <thead>\n",
              "    <tr style=\"text-align: right;\">\n",
              "      <th></th>\n",
              "      <th>0</th>\n",
              "    </tr>\n",
              "  </thead>\n",
              "  <tbody>\n",
              "    <tr>\n",
              "      <th>Age</th>\n",
              "      <td>0</td>\n",
              "    </tr>\n",
              "    <tr>\n",
              "      <th>Sex</th>\n",
              "      <td>0</td>\n",
              "    </tr>\n",
              "    <tr>\n",
              "      <th>BP</th>\n",
              "      <td>0</td>\n",
              "    </tr>\n",
              "    <tr>\n",
              "      <th>Cholesterol</th>\n",
              "      <td>0</td>\n",
              "    </tr>\n",
              "    <tr>\n",
              "      <th>Na_to_K</th>\n",
              "      <td>0</td>\n",
              "    </tr>\n",
              "    <tr>\n",
              "      <th>Drug</th>\n",
              "      <td>0</td>\n",
              "    </tr>\n",
              "  </tbody>\n",
              "</table>\n",
              "</div><br><label><b>dtype:</b> int64</label>"
            ]
          },
          "metadata": {},
          "execution_count": 25
        }
      ]
    },
    {
      "cell_type": "code",
      "source": [
        "df.head()"
      ],
      "metadata": {
        "colab": {
          "base_uri": "https://localhost:8080/",
          "height": 206
        },
        "id": "rgyIEK85hr5z",
        "outputId": "a10aae27-857a-4ada-8e58-bbdc01921999"
      },
      "execution_count": 26,
      "outputs": [
        {
          "output_type": "execute_result",
          "data": {
            "text/plain": [
              "    Age  Sex  BP  Cholesterol  Na_to_K  Drug\n",
              "0  23.0    0   0            0   25.355     0\n",
              "1  47.0    1   1            0   13.093     3\n",
              "2  47.0    1   1            0   10.114     3\n",
              "3  28.0    0   2            0    7.798     4\n",
              "4  61.0    0   1            0   18.043     0"
            ],
            "text/html": [
              "\n",
              "  <div id=\"df-5045aabb-73b5-49f8-be0e-0c84423291af\" class=\"colab-df-container\">\n",
              "    <div>\n",
              "<style scoped>\n",
              "    .dataframe tbody tr th:only-of-type {\n",
              "        vertical-align: middle;\n",
              "    }\n",
              "\n",
              "    .dataframe tbody tr th {\n",
              "        vertical-align: top;\n",
              "    }\n",
              "\n",
              "    .dataframe thead th {\n",
              "        text-align: right;\n",
              "    }\n",
              "</style>\n",
              "<table border=\"1\" class=\"dataframe\">\n",
              "  <thead>\n",
              "    <tr style=\"text-align: right;\">\n",
              "      <th></th>\n",
              "      <th>Age</th>\n",
              "      <th>Sex</th>\n",
              "      <th>BP</th>\n",
              "      <th>Cholesterol</th>\n",
              "      <th>Na_to_K</th>\n",
              "      <th>Drug</th>\n",
              "    </tr>\n",
              "  </thead>\n",
              "  <tbody>\n",
              "    <tr>\n",
              "      <th>0</th>\n",
              "      <td>23.0</td>\n",
              "      <td>0</td>\n",
              "      <td>0</td>\n",
              "      <td>0</td>\n",
              "      <td>25.355</td>\n",
              "      <td>0</td>\n",
              "    </tr>\n",
              "    <tr>\n",
              "      <th>1</th>\n",
              "      <td>47.0</td>\n",
              "      <td>1</td>\n",
              "      <td>1</td>\n",
              "      <td>0</td>\n",
              "      <td>13.093</td>\n",
              "      <td>3</td>\n",
              "    </tr>\n",
              "    <tr>\n",
              "      <th>2</th>\n",
              "      <td>47.0</td>\n",
              "      <td>1</td>\n",
              "      <td>1</td>\n",
              "      <td>0</td>\n",
              "      <td>10.114</td>\n",
              "      <td>3</td>\n",
              "    </tr>\n",
              "    <tr>\n",
              "      <th>3</th>\n",
              "      <td>28.0</td>\n",
              "      <td>0</td>\n",
              "      <td>2</td>\n",
              "      <td>0</td>\n",
              "      <td>7.798</td>\n",
              "      <td>4</td>\n",
              "    </tr>\n",
              "    <tr>\n",
              "      <th>4</th>\n",
              "      <td>61.0</td>\n",
              "      <td>0</td>\n",
              "      <td>1</td>\n",
              "      <td>0</td>\n",
              "      <td>18.043</td>\n",
              "      <td>0</td>\n",
              "    </tr>\n",
              "  </tbody>\n",
              "</table>\n",
              "</div>\n",
              "    <div class=\"colab-df-buttons\">\n",
              "\n",
              "  <div class=\"colab-df-container\">\n",
              "    <button class=\"colab-df-convert\" onclick=\"convertToInteractive('df-5045aabb-73b5-49f8-be0e-0c84423291af')\"\n",
              "            title=\"Convert this dataframe to an interactive table.\"\n",
              "            style=\"display:none;\">\n",
              "\n",
              "  <svg xmlns=\"http://www.w3.org/2000/svg\" height=\"24px\" viewBox=\"0 -960 960 960\">\n",
              "    <path d=\"M120-120v-720h720v720H120Zm60-500h600v-160H180v160Zm220 220h160v-160H400v160Zm0 220h160v-160H400v160ZM180-400h160v-160H180v160Zm440 0h160v-160H620v160ZM180-180h160v-160H180v160Zm440 0h160v-160H620v160Z\"/>\n",
              "  </svg>\n",
              "    </button>\n",
              "\n",
              "  <style>\n",
              "    .colab-df-container {\n",
              "      display:flex;\n",
              "      gap: 12px;\n",
              "    }\n",
              "\n",
              "    .colab-df-convert {\n",
              "      background-color: #E8F0FE;\n",
              "      border: none;\n",
              "      border-radius: 50%;\n",
              "      cursor: pointer;\n",
              "      display: none;\n",
              "      fill: #1967D2;\n",
              "      height: 32px;\n",
              "      padding: 0 0 0 0;\n",
              "      width: 32px;\n",
              "    }\n",
              "\n",
              "    .colab-df-convert:hover {\n",
              "      background-color: #E2EBFA;\n",
              "      box-shadow: 0px 1px 2px rgba(60, 64, 67, 0.3), 0px 1px 3px 1px rgba(60, 64, 67, 0.15);\n",
              "      fill: #174EA6;\n",
              "    }\n",
              "\n",
              "    .colab-df-buttons div {\n",
              "      margin-bottom: 4px;\n",
              "    }\n",
              "\n",
              "    [theme=dark] .colab-df-convert {\n",
              "      background-color: #3B4455;\n",
              "      fill: #D2E3FC;\n",
              "    }\n",
              "\n",
              "    [theme=dark] .colab-df-convert:hover {\n",
              "      background-color: #434B5C;\n",
              "      box-shadow: 0px 1px 3px 1px rgba(0, 0, 0, 0.15);\n",
              "      filter: drop-shadow(0px 1px 2px rgba(0, 0, 0, 0.3));\n",
              "      fill: #FFFFFF;\n",
              "    }\n",
              "  </style>\n",
              "\n",
              "    <script>\n",
              "      const buttonEl =\n",
              "        document.querySelector('#df-5045aabb-73b5-49f8-be0e-0c84423291af button.colab-df-convert');\n",
              "      buttonEl.style.display =\n",
              "        google.colab.kernel.accessAllowed ? 'block' : 'none';\n",
              "\n",
              "      async function convertToInteractive(key) {\n",
              "        const element = document.querySelector('#df-5045aabb-73b5-49f8-be0e-0c84423291af');\n",
              "        const dataTable =\n",
              "          await google.colab.kernel.invokeFunction('convertToInteractive',\n",
              "                                                    [key], {});\n",
              "        if (!dataTable) return;\n",
              "\n",
              "        const docLinkHtml = 'Like what you see? Visit the ' +\n",
              "          '<a target=\"_blank\" href=https://colab.research.google.com/notebooks/data_table.ipynb>data table notebook</a>'\n",
              "          + ' to learn more about interactive tables.';\n",
              "        element.innerHTML = '';\n",
              "        dataTable['output_type'] = 'display_data';\n",
              "        await google.colab.output.renderOutput(dataTable, element);\n",
              "        const docLink = document.createElement('div');\n",
              "        docLink.innerHTML = docLinkHtml;\n",
              "        element.appendChild(docLink);\n",
              "      }\n",
              "    </script>\n",
              "  </div>\n",
              "\n",
              "\n",
              "<div id=\"df-c9d20941-2097-4065-b768-4b241203ca34\">\n",
              "  <button class=\"colab-df-quickchart\" onclick=\"quickchart('df-c9d20941-2097-4065-b768-4b241203ca34')\"\n",
              "            title=\"Suggest charts\"\n",
              "            style=\"display:none;\">\n",
              "\n",
              "<svg xmlns=\"http://www.w3.org/2000/svg\" height=\"24px\"viewBox=\"0 0 24 24\"\n",
              "     width=\"24px\">\n",
              "    <g>\n",
              "        <path d=\"M19 3H5c-1.1 0-2 .9-2 2v14c0 1.1.9 2 2 2h14c1.1 0 2-.9 2-2V5c0-1.1-.9-2-2-2zM9 17H7v-7h2v7zm4 0h-2V7h2v10zm4 0h-2v-4h2v4z\"/>\n",
              "    </g>\n",
              "</svg>\n",
              "  </button>\n",
              "\n",
              "<style>\n",
              "  .colab-df-quickchart {\n",
              "      --bg-color: #E8F0FE;\n",
              "      --fill-color: #1967D2;\n",
              "      --hover-bg-color: #E2EBFA;\n",
              "      --hover-fill-color: #174EA6;\n",
              "      --disabled-fill-color: #AAA;\n",
              "      --disabled-bg-color: #DDD;\n",
              "  }\n",
              "\n",
              "  [theme=dark] .colab-df-quickchart {\n",
              "      --bg-color: #3B4455;\n",
              "      --fill-color: #D2E3FC;\n",
              "      --hover-bg-color: #434B5C;\n",
              "      --hover-fill-color: #FFFFFF;\n",
              "      --disabled-bg-color: #3B4455;\n",
              "      --disabled-fill-color: #666;\n",
              "  }\n",
              "\n",
              "  .colab-df-quickchart {\n",
              "    background-color: var(--bg-color);\n",
              "    border: none;\n",
              "    border-radius: 50%;\n",
              "    cursor: pointer;\n",
              "    display: none;\n",
              "    fill: var(--fill-color);\n",
              "    height: 32px;\n",
              "    padding: 0;\n",
              "    width: 32px;\n",
              "  }\n",
              "\n",
              "  .colab-df-quickchart:hover {\n",
              "    background-color: var(--hover-bg-color);\n",
              "    box-shadow: 0 1px 2px rgba(60, 64, 67, 0.3), 0 1px 3px 1px rgba(60, 64, 67, 0.15);\n",
              "    fill: var(--button-hover-fill-color);\n",
              "  }\n",
              "\n",
              "  .colab-df-quickchart-complete:disabled,\n",
              "  .colab-df-quickchart-complete:disabled:hover {\n",
              "    background-color: var(--disabled-bg-color);\n",
              "    fill: var(--disabled-fill-color);\n",
              "    box-shadow: none;\n",
              "  }\n",
              "\n",
              "  .colab-df-spinner {\n",
              "    border: 2px solid var(--fill-color);\n",
              "    border-color: transparent;\n",
              "    border-bottom-color: var(--fill-color);\n",
              "    animation:\n",
              "      spin 1s steps(1) infinite;\n",
              "  }\n",
              "\n",
              "  @keyframes spin {\n",
              "    0% {\n",
              "      border-color: transparent;\n",
              "      border-bottom-color: var(--fill-color);\n",
              "      border-left-color: var(--fill-color);\n",
              "    }\n",
              "    20% {\n",
              "      border-color: transparent;\n",
              "      border-left-color: var(--fill-color);\n",
              "      border-top-color: var(--fill-color);\n",
              "    }\n",
              "    30% {\n",
              "      border-color: transparent;\n",
              "      border-left-color: var(--fill-color);\n",
              "      border-top-color: var(--fill-color);\n",
              "      border-right-color: var(--fill-color);\n",
              "    }\n",
              "    40% {\n",
              "      border-color: transparent;\n",
              "      border-right-color: var(--fill-color);\n",
              "      border-top-color: var(--fill-color);\n",
              "    }\n",
              "    60% {\n",
              "      border-color: transparent;\n",
              "      border-right-color: var(--fill-color);\n",
              "    }\n",
              "    80% {\n",
              "      border-color: transparent;\n",
              "      border-right-color: var(--fill-color);\n",
              "      border-bottom-color: var(--fill-color);\n",
              "    }\n",
              "    90% {\n",
              "      border-color: transparent;\n",
              "      border-bottom-color: var(--fill-color);\n",
              "    }\n",
              "  }\n",
              "</style>\n",
              "\n",
              "  <script>\n",
              "    async function quickchart(key) {\n",
              "      const quickchartButtonEl =\n",
              "        document.querySelector('#' + key + ' button');\n",
              "      quickchartButtonEl.disabled = true;  // To prevent multiple clicks.\n",
              "      quickchartButtonEl.classList.add('colab-df-spinner');\n",
              "      try {\n",
              "        const charts = await google.colab.kernel.invokeFunction(\n",
              "            'suggestCharts', [key], {});\n",
              "      } catch (error) {\n",
              "        console.error('Error during call to suggestCharts:', error);\n",
              "      }\n",
              "      quickchartButtonEl.classList.remove('colab-df-spinner');\n",
              "      quickchartButtonEl.classList.add('colab-df-quickchart-complete');\n",
              "    }\n",
              "    (() => {\n",
              "      let quickchartButtonEl =\n",
              "        document.querySelector('#df-c9d20941-2097-4065-b768-4b241203ca34 button');\n",
              "      quickchartButtonEl.style.display =\n",
              "        google.colab.kernel.accessAllowed ? 'block' : 'none';\n",
              "    })();\n",
              "  </script>\n",
              "</div>\n",
              "\n",
              "    </div>\n",
              "  </div>\n"
            ],
            "application/vnd.google.colaboratory.intrinsic+json": {
              "type": "dataframe",
              "variable_name": "df",
              "summary": "{\n  \"name\": \"df\",\n  \"rows\": 194,\n  \"fields\": [\n    {\n      \"column\": \"Age\",\n      \"properties\": {\n        \"dtype\": \"number\",\n        \"std\": 16.5162785740293,\n        \"min\": 15.0,\n        \"max\": 74.0,\n        \"num_unique_values\": 56,\n        \"samples\": [\n          23.0,\n          41.0,\n          40.0\n        ],\n        \"semantic_type\": \"\",\n        \"description\": \"\"\n      }\n    },\n    {\n      \"column\": \"Sex\",\n      \"properties\": {\n        \"dtype\": \"number\",\n        \"std\": 0,\n        \"min\": 0,\n        \"max\": 1,\n        \"num_unique_values\": 2,\n        \"samples\": [\n          1,\n          0\n        ],\n        \"semantic_type\": \"\",\n        \"description\": \"\"\n      }\n    },\n    {\n      \"column\": \"BP\",\n      \"properties\": {\n        \"dtype\": \"number\",\n        \"std\": 0,\n        \"min\": 0,\n        \"max\": 2,\n        \"num_unique_values\": 3,\n        \"samples\": [\n          0,\n          1\n        ],\n        \"semantic_type\": \"\",\n        \"description\": \"\"\n      }\n    },\n    {\n      \"column\": \"Cholesterol\",\n      \"properties\": {\n        \"dtype\": \"number\",\n        \"std\": 0,\n        \"min\": 0,\n        \"max\": 2,\n        \"num_unique_values\": 3,\n        \"samples\": [\n          0,\n          2\n        ],\n        \"semantic_type\": \"\",\n        \"description\": \"\"\n      }\n    },\n    {\n      \"column\": \"Na_to_K\",\n      \"properties\": {\n        \"dtype\": \"number\",\n        \"std\": 7.2058937425517255,\n        \"min\": 6.269,\n        \"max\": 38.247,\n        \"num_unique_values\": 192,\n        \"samples\": [\n          10.898,\n          8.621\n        ],\n        \"semantic_type\": \"\",\n        \"description\": \"\"\n      }\n    },\n    {\n      \"column\": \"Drug\",\n      \"properties\": {\n        \"dtype\": \"number\",\n        \"std\": 1,\n        \"min\": 0,\n        \"max\": 4,\n        \"num_unique_values\": 5,\n        \"samples\": [\n          3,\n          1\n        ],\n        \"semantic_type\": \"\",\n        \"description\": \"\"\n      }\n    }\n  ]\n}"
            }
          },
          "metadata": {},
          "execution_count": 26
        }
      ]
    },
    {
      "cell_type": "markdown",
      "source": [
        "### 3. Preparing Data for PyTorch\n",
        "Before we can use our data with PyTorch, we need to split it into `features (X)` and the `target variable (y)`, and `then convert them into PyTorch tensors`.\n",
        "Understanding our target variable\n",
        "First, let's understand what we're trying to predict. The 'Drug' column contains the drug type that was prescribed to each patient. This is our target variable."
      ],
      "metadata": {
        "id": "0qyXU-sAh0h8"
      }
    },
    {
      "cell_type": "code",
      "source": [
        "# Check unique values in the Drug column --> multi-class classification task\n",
        "print(\"Unique drug types:\", df['Drug'].unique())\n",
        "print(\"Number of unique drug types:\", len(df['Drug'].unique()))"
      ],
      "metadata": {
        "colab": {
          "base_uri": "https://localhost:8080/"
        },
        "id": "KVCmTu7fhyAK",
        "outputId": "63b1ba20-a87c-41ad-c6bc-e048c3e069b2"
      },
      "execution_count": 28,
      "outputs": [
        {
          "output_type": "stream",
          "name": "stdout",
          "text": [
            "Unique drug types: [0 3 4 2 1]\n",
            "Number of unique drug types: 5\n"
          ]
        }
      ]
    },
    {
      "cell_type": "markdown",
      "source": [
        "### Creating features and target variables\n",
        "Let's separate our features and target variable"
      ],
      "metadata": {
        "id": "4mO_NZEDiLuf"
      }
    },
    {
      "cell_type": "code",
      "source": [
        "# Define features (X) and target (y)\n",
        "X = df.drop('Drug', axis=1).values  # All columns except 'Drug'\n",
        "y = df['Drug'].values  # 'Drug' column is our target\n",
        "\n",
        "print(\"Features shape:\", X.shape)\n",
        "print(\"Target shape:\", y.shape)"
      ],
      "metadata": {
        "colab": {
          "base_uri": "https://localhost:8080/"
        },
        "id": "VGTFkic9iEcC",
        "outputId": "dc70054e-39b2-4be2-be94-376f7e20bdbb"
      },
      "execution_count": 29,
      "outputs": [
        {
          "output_type": "stream",
          "name": "stdout",
          "text": [
            "Features shape: (194, 5)\n",
            "Target shape: (194,)\n"
          ]
        }
      ]
    },
    {
      "cell_type": "markdown",
      "source": [
        "### Train-Test Split\n",
        "Before we build our model, it's important to split our data into training and testing sets. This allows us to train our model on one set of data and evaluate its performance on a separate set."
      ],
      "metadata": {
        "id": "v5WRb-i_iUcQ"
      }
    },
    {
      "cell_type": "code",
      "source": [
        "# Import train_test_split from sklearn\n",
        "from sklearn.model_selection import train_test_split\n",
        "\n",
        "# Split data into training and testing sets (80% training, 20% testing)\n",
        "X_train, X_test, y_train, y_test = train_test_split(X, y, test_size=0.2, random_state=42)\n",
        "\n",
        "print(\"Training features shape:\", X_train.shape)\n",
        "print(\"Training target shape:\", y_train.shape)\n",
        "print(\"Testing features shape:\", X_test.shape)\n",
        "print(\"Testing target shape:\", y_test.shape)"
      ],
      "metadata": {
        "colab": {
          "base_uri": "https://localhost:8080/"
        },
        "id": "Tc-Nm0bwiRcp",
        "outputId": "259215a7-3782-44a5-9f71-44931458c3ed"
      },
      "execution_count": 30,
      "outputs": [
        {
          "output_type": "stream",
          "name": "stdout",
          "text": [
            "Training features shape: (155, 5)\n",
            "Training target shape: (155,)\n",
            "Testing features shape: (39, 5)\n",
            "Testing target shape: (39,)\n"
          ]
        }
      ]
    },
    {
      "cell_type": "markdown",
      "source": [
        "### Feature Scaling\n",
        "Neural networks generally perform better when the input features are on a `similar scale`. Let's `standardize our features`"
      ],
      "metadata": {
        "id": "FnwO0s6_idgR"
      }
    },
    {
      "cell_type": "code",
      "source": [
        "# Import StandardScaler from sklearn\n",
        "from sklearn.preprocessing import StandardScaler\n",
        "\n",
        "# Create a scaler object\n",
        "scaler = StandardScaler()\n",
        "\n",
        "# Fit the scaler to the training data and transform\n",
        "X_train = scaler.fit_transform(X_train)\n",
        "\n",
        "# Transform the test data using the same scaler\n",
        "X_test = scaler.transform(X_test)"
      ],
      "metadata": {
        "id": "4XRYfw-PiZ5w"
      },
      "execution_count": 31,
      "outputs": []
    },
    {
      "cell_type": "markdown",
      "source": [
        "### Converting to PyTorch Tensors\n",
        "PyTorch models work with tensors, so we need to convert our NumPy arrays to PyTorch tensors"
      ],
      "metadata": {
        "id": "4pcNJTouioV7"
      }
    },
    {
      "cell_type": "code",
      "source": [
        "# Convert NumPy arrays to PyTorch tensors\n",
        "X_train_tensor = torch.FloatTensor(X_train)\n",
        "y_train_tensor = torch.LongTensor(y_train)\n",
        "X_test_tensor = torch.FloatTensor(X_test)\n",
        "y_test_tensor = torch.LongTensor(y_test)\n",
        "\n",
        "print(\"X_train_tensor shape:\", X_train_tensor.shape)\n",
        "print(\"y_train_tensor shape:\", y_train_tensor.shape)"
      ],
      "metadata": {
        "colab": {
          "base_uri": "https://localhost:8080/"
        },
        "id": "4Ok7oP8QilZS",
        "outputId": "2e6aff00-84c9-4619-c609-cba77c1fecd1"
      },
      "execution_count": 32,
      "outputs": [
        {
          "output_type": "stream",
          "name": "stdout",
          "text": [
            "X_train_tensor shape: torch.Size([155, 5])\n",
            "y_train_tensor shape: torch.Size([155])\n"
          ]
        }
      ]
    },
    {
      "cell_type": "markdown",
      "source": [
        "### 4. Creating PyTorch DataLoader\n",
        "Understanding DataLoader\n",
        "In PyTorch, a DataLoader is a utility that helps you efficiently load your data into batches during training. Working with batches has several advantages:\n",
        "\n",
        "It requires less memory\n",
        "Training is faster\n",
        "It can help avoid getting stuck in local minima during optimization\n",
        "\n",
        "Let's create a DataLoader for our training data"
      ],
      "metadata": {
        "id": "rPVfeu7uiyCj"
      }
    },
    {
      "cell_type": "code",
      "source": [
        "# Import DataLoader and TensorDataset\n",
        "from torch.utils.data import DataLoader, TensorDataset\n",
        "\n",
        "# Create datasets\n",
        "train_dataset = TensorDataset(X_train_tensor, y_train_tensor)\n",
        "test_dataset = TensorDataset(X_test_tensor, y_test_tensor)\n",
        "\n",
        "# Create dataloaders\n",
        "batch_size = 16  # You can experiment with different batch sizes like 32\n",
        "train_loader = DataLoader(train_dataset, batch_size=batch_size, shuffle=True)\n",
        "test_loader = DataLoader(test_dataset, batch_size=batch_size, shuffle=False)\n",
        "\n",
        "# Let's see what one batch looks like\n",
        "for batch_features, batch_labels in train_loader:\n",
        "    print(\"Batch features shape:\", batch_features.shape)\n",
        "    print(\"Batch labels shape:\", batch_labels.shape)\n",
        "    break  # Just print the first batch and stop"
      ],
      "metadata": {
        "colab": {
          "base_uri": "https://localhost:8080/"
        },
        "id": "HB5wvh1riuuk",
        "outputId": "f5aeacdc-adaf-449f-d3ee-29dfcda99e08"
      },
      "execution_count": 33,
      "outputs": [
        {
          "output_type": "stream",
          "name": "stdout",
          "text": [
            "Batch features shape: torch.Size([16, 5])\n",
            "Batch labels shape: torch.Size([16])\n"
          ]
        }
      ]
    },
    {
      "cell_type": "markdown",
      "source": [
        "### 5. Building the Neural Network Model\n",
        "Understanding Neural Networks\n",
        "* A neural network is composed of layers of neurons. In our case, we'll build a simple feedforward neural network (also called a Multi-Layer Perceptron or MLP) with:\n",
        "\n",
        "An input layer (size equal to our feature count)\n",
        "One or more hidden layers\n",
        "An output layer (size equal to the number of drug classes)\n",
        "\n",
        "Let's create our model"
      ],
      "metadata": {
        "id": "-rz9hhwwjqt5"
      }
    },
    {
      "cell_type": "code",
      "source": [
        "# Get input and output dimensions\n",
        "input_dim = X_train.shape[1]  # Number of features\n",
        "output_dim = len(df['Drug'].unique())  # Number of drug classes\n",
        "\n",
        "class DrugClassifier(nn.Module):\n",
        "    def __init__(self, input_dim, hidden_dim, output_dim):\n",
        "        super(DrugClassifier, self).__init__()\n",
        "\n",
        "        # First hidden layer\n",
        "        self.layer1 = nn.Linear(input_dim, hidden_dim)\n",
        "        self.relu1 = nn.ReLU()\n",
        "\n",
        "        # Second hidden layer\n",
        "        self.layer2 = nn.Linear(hidden_dim, hidden_dim)\n",
        "        self.relu2 = nn.ReLU()\n",
        "\n",
        "        # Output layer\n",
        "        self.output = nn.Linear(hidden_dim, output_dim)\n",
        "\n",
        "    def forward(self, x):\n",
        "        # Pass input through first hidden layer\n",
        "        x = self.layer1(x)\n",
        "        x = self.relu1(x)\n",
        "\n",
        "        # Pass through second hidden layer\n",
        "        x = self.layer2(x)\n",
        "        x = self.relu2(x)\n",
        "\n",
        "        # Output layer (no activation, as we'll use CrossEntropyLoss)\n",
        "        x = self.output(x)\n",
        "\n",
        "        return x\n",
        "\n",
        "# Create the model\n",
        "hidden_dim = 16  # Size of hidden layers\n",
        "model = DrugClassifier(input_dim, hidden_dim, output_dim)\n",
        "\n",
        "# Print the model architecture\n",
        "print(model)"
      ],
      "metadata": {
        "colab": {
          "base_uri": "https://localhost:8080/"
        },
        "id": "tb8PwX7jjgz2",
        "outputId": "cbc38ff9-6121-42d1-95e6-5f10a483d14d"
      },
      "execution_count": 34,
      "outputs": [
        {
          "output_type": "stream",
          "name": "stdout",
          "text": [
            "DrugClassifier(\n",
            "  (layer1): Linear(in_features=5, out_features=16, bias=True)\n",
            "  (relu1): ReLU()\n",
            "  (layer2): Linear(in_features=16, out_features=16, bias=True)\n",
            "  (relu2): ReLU()\n",
            "  (output): Linear(in_features=16, out_features=5, bias=True)\n",
            ")\n"
          ]
        }
      ]
    },
    {
      "cell_type": "markdown",
      "source": [
        "### 6. Defining Loss Function and Optimizer\n",
        "\n",
        "Understanding Loss Functions\n",
        "A loss function measures how well our model is performing. For classification problems, `Cross Entropy Loss is commonly` used. It measures the difference between the predicted probability distribution and the actual distribution.\n",
        "\n",
        "Understanding Optimizers\n",
        "An optimizer adjusts the model's parameters to minimize the loss function. `Stochastic Gradient Descent (SGD)` and Adam are popular choices."
      ],
      "metadata": {
        "id": "LcBGf5HnkWy2"
      }
    },
    {
      "cell_type": "code",
      "source": [
        "# Define loss function\n",
        "# For multi-class classification, we use CrossEntropyLoss\n",
        "# Note: In PyTorch, nn.CrossEntropyLoss() combines:\n",
        "# 1. A log softmax operation\n",
        "# 2. A negative log-likelihood loss (NLLLoss)\n",
        "# This is equivalent to what's known as \"categorical cross-entropy\" in other frameworks\n",
        "criterion = nn.CrossEntropyLoss()\n",
        "\n",
        "# Define optimizer\n",
        "learning_rate = 0.01\n",
        "optimizer = optim.Adam(model.parameters(), lr=learning_rate)"
      ],
      "metadata": {
        "id": "Dp-S-2sGkSXC"
      },
      "execution_count": 35,
      "outputs": []
    },
    {
      "cell_type": "markdown",
      "source": [
        "### 7. Training the Model\n",
        "Now we'll train our model using the training data. Training involves:\n",
        "\n",
        "- `Forward pass`: Making predictions with the current model\n",
        "- `Calculating loss`: Comparing predictions to actual values\n",
        "- `Backward pass`: Computing gradients\n",
        "- `Optimization step`: Updating model parameters"
      ],
      "metadata": {
        "id": "K3cflnT-lPrc"
      }
    },
    {
      "cell_type": "code",
      "source": [
        "# Set number of epochs\n",
        "num_epochs = 50\n",
        "\n",
        "# Lists to store metrics\n",
        "train_losses = []\n",
        "train_accuracies = []\n",
        "\n",
        "# Training loop\n",
        "for epoch in range(num_epochs):\n",
        "    model.train()  # Set model to training mode\n",
        "    running_loss = 0.0\n",
        "    correct = 0\n",
        "    total = 0\n",
        "\n",
        "    for inputs, labels in train_loader:\n",
        "        # Zero the parameter gradients\n",
        "        optimizer.zero_grad()\n",
        "\n",
        "        # Forward pass\n",
        "        outputs = model(inputs)\n",
        "\n",
        "        # Calculate loss\n",
        "        loss = criterion(outputs, labels)\n",
        "\n",
        "        # Backward pass and optimize\n",
        "        loss.backward()\n",
        "        optimizer.step()\n",
        "\n",
        "        # Statistics\n",
        "        running_loss += loss.item() * inputs.size(0)\n",
        "        _, predicted = torch.max(outputs, 1)\n",
        "        total += labels.size(0)\n",
        "        correct += (predicted == labels).sum().item()\n",
        "\n",
        "    # Calculate epoch statistics\n",
        "    epoch_loss = running_loss / len(train_dataset)\n",
        "    epoch_acc = correct / total\n",
        "\n",
        "    train_losses.append(epoch_loss)\n",
        "    train_accuracies.append(epoch_acc)\n",
        "\n",
        "    # Print epoch statistics\n",
        "    if (epoch + 1) % 5 == 0:  # Print every 5 epochs\n",
        "        print(f'Epoch {epoch+1}/{num_epochs}, Loss: {epoch_loss:.4f}, Accuracy: {epoch_acc:.4f}')\n",
        "\n",
        "print('Training complete!')"
      ],
      "metadata": {
        "colab": {
          "base_uri": "https://localhost:8080/"
        },
        "id": "FqfBMwm1lM5l",
        "outputId": "086fb7b3-d9cc-4bc3-b791-72ca79429fad"
      },
      "execution_count": 36,
      "outputs": [
        {
          "output_type": "stream",
          "name": "stdout",
          "text": [
            "Epoch 5/50, Loss: 0.5398, Accuracy: 0.7355\n",
            "Epoch 10/50, Loss: 0.1465, Accuracy: 0.9677\n",
            "Epoch 15/50, Loss: 0.0497, Accuracy: 0.9935\n",
            "Epoch 20/50, Loss: 0.0256, Accuracy: 1.0000\n",
            "Epoch 25/50, Loss: 0.0206, Accuracy: 0.9935\n",
            "Epoch 30/50, Loss: 0.0108, Accuracy: 1.0000\n",
            "Epoch 35/50, Loss: 0.0133, Accuracy: 0.9935\n",
            "Epoch 40/50, Loss: 0.0052, Accuracy: 1.0000\n",
            "Epoch 45/50, Loss: 0.0095, Accuracy: 0.9935\n",
            "Epoch 50/50, Loss: 0.0037, Accuracy: 1.0000\n",
            "Training complete!\n"
          ]
        }
      ]
    },
    {
      "cell_type": "markdown",
      "source": [
        "### 8. Evaluating the Model\n",
        "After training, we need to evaluate our model on the test set to see how well it generalizes to new data."
      ],
      "metadata": {
        "id": "VnK6L0TTl7UR"
      }
    },
    {
      "cell_type": "code",
      "source": [
        "# Set model to evaluation mode\n",
        "model.eval()\n",
        "\n",
        "# Variables to track performance\n",
        "test_loss = 0.0\n",
        "correct = 0\n",
        "total = 0\n",
        "\n",
        "# No gradient calculation needed for evaluation\n",
        "\"\"\"\n",
        "When you're training a neural network, you need to calculate gradients so the model can learn and improve —\n",
        "this is done through backpropagation.\n",
        "\n",
        "But when you're just evaluating the model (like testing how well it performs on new data),\n",
        "you’re not trying to improve it — you just want to see the results. So, you don’t need to calculate gradients,\n",
        "which saves time and memory.\n",
        "\n",
        "In short:\n",
        "Training = gradients needed (to learn)\n",
        "Evaluation = no gradients needed (just to check results)\n",
        "\"\"\"\n",
        "with torch.no_grad():\n",
        "    for inputs, labels in test_loader:\n",
        "        # Forward pass\n",
        "        outputs = model(inputs)\n",
        "\n",
        "        # Calculate loss\n",
        "        loss = criterion(outputs, labels)\n",
        "\n",
        "        # Statistics\n",
        "        test_loss += loss.item() * inputs.size(0)\n",
        "        _, predicted = torch.max(outputs, 1)\n",
        "        total += labels.size(0)\n",
        "        correct += (predicted == labels).sum().item()\n",
        "\n",
        "# Calculate overall statistics\n",
        "test_loss = test_loss / len(test_dataset)\n",
        "test_acc = correct / total\n",
        "\n",
        "print(f'Test Loss: {test_loss:.4f}, Test Accuracy: {test_acc:.4f}')"
      ],
      "metadata": {
        "colab": {
          "base_uri": "https://localhost:8080/"
        },
        "id": "qSUTP3o8l1LL",
        "outputId": "a0cf09b8-f79c-4af6-b6f1-ad6662b92324"
      },
      "execution_count": 37,
      "outputs": [
        {
          "output_type": "stream",
          "name": "stdout",
          "text": [
            "Test Loss: 0.1289, Test Accuracy: 0.9744\n"
          ]
        }
      ]
    },
    {
      "cell_type": "markdown",
      "source": [
        "### 9. Visualizing Results\n",
        "Let's visualize the training process and model performance"
      ],
      "metadata": {
        "id": "X-00fozsmLtb"
      }
    },
    {
      "cell_type": "code",
      "source": [
        "# Plot training loss and accuracy\n",
        "plt.figure(figsize=(12, 5))\n",
        "\n",
        "# Plot training loss\n",
        "plt.subplot(1, 2, 1)\n",
        "plt.plot(train_losses, label='Training Loss')\n",
        "plt.title('Training Loss')\n",
        "plt.xlabel('Epoch')\n",
        "plt.ylabel('Loss')\n",
        "plt.legend()\n",
        "\n",
        "# Plot training accuracy\n",
        "plt.subplot(1, 2, 2)\n",
        "plt.plot(train_accuracies, label='Training Accuracy')\n",
        "plt.title('Training Accuracy')\n",
        "plt.xlabel('Epoch')\n",
        "plt.ylabel('Accuracy')\n",
        "plt.legend()\n",
        "\n",
        "plt.tight_layout()\n",
        "plt.show()"
      ],
      "metadata": {
        "colab": {
          "base_uri": "https://localhost:8080/",
          "height": 507
        },
        "id": "fda3FtmdmIim",
        "outputId": "fda86cb0-1089-43d1-87a9-92ded5b45bae"
      },
      "execution_count": 38,
      "outputs": [
        {
          "output_type": "display_data",
          "data": {
            "text/plain": [
              "<Figure size 1200x500 with 2 Axes>"
            ],
            "image/png": "[encoded data removed]"
          },
          "metadata": {}
        }
      ]
    },
    {
      "cell_type": "markdown",
      "source": [
        "Let's also create a confusion matrix to see which drug types our model struggles to classify correctly"
      ],
      "metadata": {
        "id": "bOzwVo_xmV78"
      }
    },
    {
      "cell_type": "code",
      "source": [
        "# Import confusion_matrix from sklearn\n",
        "from sklearn.metrics import confusion_matrix, classification_report\n",
        "import seaborn as sns\n",
        "\n",
        "# Predict on test data\n",
        "model.eval()\n",
        "with torch.no_grad():\n",
        "    y_pred = model(X_test_tensor)\n",
        "    _, predicted_classes = torch.max(y_pred, 1)\n",
        "\n",
        "# Convert tensors to numpy for sklearn functions\n",
        "y_true = y_test_tensor.numpy()\n",
        "y_pred = predicted_classes.numpy()\n",
        "\n",
        "# Create confusion matrix\n",
        "cm = confusion_matrix(y_true, y_pred)\n",
        "\n",
        "# Plot confusion matrix\n",
        "plt.figure(figsize=(10, 8))\n",
        "sns.heatmap(cm, annot=True, fmt='d', cmap='Blues')\n",
        "plt.title('Confusion Matrix')\n",
        "plt.xlabel('Predicted Label')\n",
        "plt.ylabel('True Label')\n",
        "plt.show()\n",
        "\n",
        "# Print classification report\n",
        "print(\"Classification Report:\")\n",
        "print(classification_report(y_true, y_pred))"
      ],
      "metadata": {
        "colab": {
          "base_uri": "https://localhost:8080/",
          "height": 954
        },
        "id": "24u-oV1SmOa-",
        "outputId": "0be863f0-fc86-4baf-b0f3-befd2cd2054c"
      },
      "execution_count": 39,
      "outputs": [
        {
          "output_type": "display_data",
          "data": {
            "text/plain": [
              "<Figure size 1000x800 with 2 Axes>"
            ],
            "image/png": "[encoded data removed]"
          },
          "metadata": {}
        },
        {
          "output_type": "stream",
          "name": "stdout",
          "text": [
            "Classification Report:\n",
            "              precision    recall  f1-score   support\n",
            "\n",
            "           0       1.00      0.95      0.97        19\n",
            "           1       1.00      1.00      1.00         6\n",
            "           2       1.00      1.00      1.00         2\n",
            "           3       0.67      1.00      0.80         2\n",
            "           4       1.00      1.00      1.00        10\n",
            "\n",
            "    accuracy                           0.97        39\n",
            "   macro avg       0.93      0.99      0.95        39\n",
            "weighted avg       0.98      0.97      0.98        39\n",
            "\n"
          ]
        }
      ]
    },
    {
      "cell_type": "markdown",
      "source": [
        "### 10. Making Predictions with the Model\n",
        "Finally, let's see how to use our trained model to make predictions on new data"
      ],
      "metadata": {
        "id": "lfCxGoUCmgPt"
      }
    },
    {
      "cell_type": "code",
      "source": [
        "# Function to preprocess and predict for a new patient\n",
        "def predict_drug(age, sex, bp, cholesterol, na_to_k):\n",
        "    # Create a dictionary for the patient data\n",
        "    patient_data = {\n",
        "        'Age': [age],\n",
        "        'Sex': [sex],  # This should be a categorical value that matches our training data\n",
        "        'BP': [bp],    # This should be a categorical value that matches our training data\n",
        "        'Cholesterol': [cholesterol],  # This should be a categorical value\n",
        "        'Na_to_K': [na_to_k]\n",
        "    }\n",
        "\n",
        "    # Convert to DataFrame\n",
        "    patient_df = pd.DataFrame(patient_data)\n",
        "\n",
        "    # Encode categorical variables using the same encoders we used for training\n",
        "    for feat in objList:\n",
        "        if feat in patient_df.columns:\n",
        "            le = le_dict[feat]\n",
        "            patient_df[feat] = le.transform(patient_df[feat].astype(str))\n",
        "\n",
        "    # Convert to numpy array\n",
        "    patient_array = patient_df.values\n",
        "\n",
        "    # Scale using the same scaler we used for training\n",
        "    patient_scaled = scaler.transform(patient_array)\n",
        "\n",
        "    # Convert to PyTorch tensor\n",
        "    patient_tensor = torch.FloatTensor(patient_scaled)\n",
        "\n",
        "    # Set model to evaluation mode\n",
        "    model.eval()\n",
        "\n",
        "    # Make prediction\n",
        "    with torch.no_grad():\n",
        "        outputs = model(patient_tensor)\n",
        "        _, predicted = torch.max(outputs, 1)\n",
        "\n",
        "    # Return predicted drug type\n",
        "    return predicted.item()\n",
        "\n",
        "# Example: Predict drug for a new patient\n",
        "# Note: Use categorical values that match our original data\n",
        "# For example, if 'Sex' was encoded from ['F', 'M'], use one of these values\n",
        "example_age = 40\n",
        "example_sex = 'F'  # Use original categorical value\n",
        "example_bp = 'HIGH'  # Use original categorical value\n",
        "example_cholesterol = 'HIGH'  # Use original categorical value\n",
        "example_na_to_k = 15.0\n",
        "\n",
        "predicted_drug = predict_drug(example_age, example_sex, example_bp, example_cholesterol, example_na_to_k)\n",
        "print(f'Predicted drug type: {predicted_drug}')\n",
        "# Great! :))"
      ],
      "metadata": {
        "colab": {
          "base_uri": "https://localhost:8080/"
        },
        "id": "3KS2FtH6mZSt",
        "outputId": "af9e5097-1156-4c22-9775-f89d73fd3e9c"
      },
      "execution_count": 40,
      "outputs": [
        {
          "output_type": "stream",
          "name": "stdout",
          "text": [
            "Predicted drug type: 1\n"
          ]
        }
      ]
    },
    {
      "cell_type": "markdown",
      "source": [
        "### Conclusion\n",
        "In this tutorial, we've built a complete machine learning pipeline for drug classification using PyTorch:\n",
        "\n",
        "- We loaded and preprocessed the data\n",
        "- We prepared the data for PyTorch by converting it to tensors\n",
        "- We built a neural network model\n",
        "- We trained and evaluated the model\n",
        "- We visualized the results\n",
        "- We made predictions on new data\n",
        "\n",
        "There are many ways to improve this model, such as:\n",
        "\n",
        "* Trying different neural network architectures\n",
        "* Tuning hyperparameters like learning rate and batch size\n",
        "* Using regularization techniques like dropout to prevent overfitting\n",
        "* Trying different optimization algorithms\n",
        "\n",
        "- Remember that machine learning is an iterative process, and it often takes several attempts to build a good model!"
      ],
      "metadata": {
        "id": "2CQDfDTMm30v"
      }
    },
    {
      "cell_type": "markdown",
      "source": [
        "### Task\n",
        "\n",
        "* Enhance the model evaluation process by introducing a validation set and updating performance visualizations to assess model behavior."
      ],
      "metadata": {
        "id": "lfVfyKdMoUXR"
      }
    },
    {
      "cell_type": "code",
      "source": [
        "# import HappyCoding\n",
        "# From Pejman import 15.04.2025"
      ],
      "metadata": {
        "id": "TAQhHITNmp7t"
      },
      "execution_count": 43,
      "outputs": []
    },
    {
      "cell_type": "code",
      "source": [],
      "metadata": {
        "id": "Ws2Hgf7qp7jm"
      },
      "execution_count": null,
      "outputs": []
    }
  ]
}