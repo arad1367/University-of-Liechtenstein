{
  "nbformat": 4,
  "nbformat_minor": 0,
  "metadata": {
    "colab": {
      "provenance": []
    },
    "kernelspec": {
      "name": "python3",
      "display_name": "Python 3"
    },
    "language_info": {
      "name": "python"
    }
  },
  "cells": [
    {
      "cell_type": "markdown",
      "source": [
        "## Introduction\n",
        "\n",
        "> Welcome to this comprehensive Python course! This notebook will guide you through learning Python from fundamentals to advanced concepts. Each section builds upon previous knowledge, and includes explanations, examples, and exercises to reinforce your learning.\n",
        "\n",
        "* By the end of this course, you'll have a solid understanding of Python programming and be able to build and deploy your own applications.\n",
        "\n",
        "* Let's begin our Python journey in 3 hours!\n",
        "\n",
        "* Created by Pejman (`pejman.ebrahimi@uni.li`)"
      ],
      "metadata": {
        "id": "DlUDsAsCkuVy"
      }
    },
    {
      "cell_type": "markdown",
      "source": [
        "# Session 1: Python Fundamentals I\n",
        "## Data Types, Operators, Variables, Strings, and Lists"
      ],
      "metadata": {
        "id": "sDIUSTLMlLTL"
      }
    },
    {
      "cell_type": "code",
      "execution_count": 1,
      "metadata": {
        "colab": {
          "base_uri": "https://localhost:8080/"
        },
        "id": "6eL6OMMRjxoT",
        "outputId": "38d27fd4-6c19-40cf-b833-5ce3cfc142a3"
      },
      "outputs": [
        {
          "output_type": "stream",
          "name": "stdout",
          "text": [
            "Hello World!\n"
          ]
        }
      ],
      "source": [
        "### 1.1 Getting Started with Python\n",
        "\n",
        "\"\"\"\n",
        "Python is a high-level, interpreted programming language known for its readability and versatility.\n",
        "It's widely used in data science, ML, Deep learning, web development, automation, AI applications, and more.\n",
        "Let's start by printing the classic \"Hello, World!\" message:\n",
        "\"\"\"\n",
        "\n",
        "print(\"Hello World!\")"
      ]
    },
    {
      "cell_type": "code",
      "source": [
        "### 1.2 Variables and Basic Data Types\n",
        "\n",
        "\"\"\"\n",
        "Variables are containers for storing data values.\n",
        "Python has no command for declaring a variable - a variable is created the moment you first assign a value to it.\n",
        "\"\"\"\n",
        "\n",
        "# Variable assignment\n",
        "name = \"Elina\"\n",
        "age = 33\n",
        "height = 1.77\n",
        "is_student = True\n",
        "\n",
        "# Printing variables\n",
        "print(name)\n",
        "print(age)\n",
        "print(height)\n",
        "print(is_student)\n",
        "\n",
        "# Check the type of a variable\n",
        "print(type(name))      # <class 'str'>\n",
        "print(type(age))       # <class 'int'>\n",
        "print(type(height))    # <class 'float'>\n",
        "print(type(is_student))  # <class 'bool'>\n",
        "\n",
        "\n",
        "\n",
        "#### Basic Data Types in Python:\n",
        "\"\"\"\n",
        "- **Integers (int)**: Whole numbers like 3, 42, -7\n",
        "- **Floating-point numbers (float)**: Decimal numbers like 3.14, -0.001\n",
        "- **Strings (str)**: Text enclosed in quotes like \"hello\", 'world'\n",
        "- **Booleans (bool)**: True or False values\n",
        "- **None**: Represents absence of value\n",
        "\"\"\""
      ],
      "metadata": {
        "colab": {
          "base_uri": "https://localhost:8080/",
          "height": 199
        },
        "id": "RICM3uV9kofX",
        "outputId": "529cabbf-784d-44e9-aca3-99d46aebc76a"
      },
      "execution_count": 3,
      "outputs": [
        {
          "output_type": "stream",
          "name": "stdout",
          "text": [
            "Elina\n",
            "33\n",
            "1.77\n",
            "True\n",
            "<class 'str'>\n",
            "<class 'int'>\n",
            "<class 'float'>\n",
            "<class 'bool'>\n"
          ]
        },
        {
          "output_type": "execute_result",
          "data": {
            "text/plain": [
              "'\\n- **Integers (int)**: Whole numbers like 3, 42, -7\\n- **Floating-point numbers (float)**: Decimal numbers like 3.14, -0.001\\n- **Strings (str)**: Text enclosed in quotes like \"hello\", \\'world\\'\\n- **Booleans (bool)**: True or False values\\n- **None**: Represents absence of value\\n'"
            ],
            "application/vnd.google.colaboratory.intrinsic+json": {
              "type": "string"
            }
          },
          "metadata": {},
          "execution_count": 3
        }
      ]
    },
    {
      "cell_type": "code",
      "source": [
        "### 1.3 Basic Operators\n",
        "\n",
        "\"\"\"\n",
        "Python supports various operators for performing operations on variables and values:\n",
        "\"\"\"\n",
        "\n",
        "#### Arithmetic Operators\n",
        "\n",
        "# Addition\n",
        "a = 5 + 3    # 8\n",
        "# Subtraction\n",
        "b = 10 - 4   # 6\n",
        "# Multiplication\n",
        "c = 4 * 3    # 12\n",
        "# Division (returns float)\n",
        "d = 8 / 4    # 2.0\n",
        "# Integer division (returns int)\n",
        "e = 7 // 3   # 2\n",
        "# Modulus (remainder)\n",
        "f = 7 % 3    # 1\n",
        "# Exponentiation\n",
        "g = 2 ** 3   # 8\n",
        "\n",
        "print(a, b, c, d, e, f, g)\n",
        "\n",
        "\n",
        "#### Comparison Operators\n",
        "x = 5\n",
        "y = 10\n",
        "\n",
        "print(x == y)  # Equal to: False\n",
        "print(x != y)  # Not equal to: True\n",
        "print(x > y)   # Greater than: False\n",
        "print(x < y)   # Less than: True\n",
        "print(x >= y)  # Greater than or equal to: False\n",
        "print(x <= y)  # Less than or equal to: True\n",
        "\n",
        "\n",
        "#### Logical Operators\n",
        "p = True\n",
        "q = False\n",
        "\n",
        "print(p and q)  # Logical AND: False\n",
        "print(p or q)   # Logical OR: True\n",
        "print(not p)    # Logical NOT: False\n",
        "\n",
        "\n",
        "#### Assignment Operators\n",
        "# Simple assignment\n",
        "x = 10\n",
        "\n",
        "# Compound assignment\n",
        "x += 5   # Same as x = x + 5\n",
        "print(x)  # 15\n",
        "\n",
        "x -= 3   # Same as x = x - 3\n",
        "print(x)  # 12\n",
        "\n",
        "x *= 2   # Same as x = x * 2\n",
        "print(x)  # 24\n",
        "\n",
        "x /= 6   # Same as x = x / 6\n",
        "print(x)  # 4.0"
      ],
      "metadata": {
        "colab": {
          "base_uri": "https://localhost:8080/"
        },
        "id": "1Tiwnh1Rkoc4",
        "outputId": "51cad4e8-26e4-4e44-8775-ab3625d357d4"
      },
      "execution_count": 4,
      "outputs": [
        {
          "output_type": "stream",
          "name": "stdout",
          "text": [
            "8 6 12 2.0 2 1 8\n",
            "False\n",
            "True\n",
            "False\n",
            "True\n",
            "False\n",
            "True\n",
            "False\n",
            "True\n",
            "False\n",
            "15\n",
            "12\n",
            "24\n",
            "4.0\n"
          ]
        }
      ]
    },
    {
      "cell_type": "code",
      "source": [
        "### 1.4 Working with Strings\n",
        "\n",
        "\"\"\"\n",
        "Strings are sequences of characters enclosed in quotes (single, double, or triple quotes).\n",
        "\"\"\"\n",
        "\n",
        "# String creation\n",
        "single_quoted = 'Hello'\n",
        "double_quoted = \"World\"\n",
        "triple_quoted = \"\"\"This is a\n",
        "multi-line string\"\"\"\n",
        "\n",
        "print(single_quoted)\n",
        "print(double_quoted)\n",
        "print(triple_quoted)\n",
        "\n",
        "#### String Operations and Methods\n",
        "\n",
        "# String concatenation\n",
        "first_name = \"John\"\n",
        "last_name = \"Doe\"\n",
        "full_name = first_name + \" \" + last_name\n",
        "print(full_name)  # John Doe\n",
        "\n",
        "# String repetition\n",
        "repeated = \"Ha\" * 3\n",
        "print(repeated)  # HaHaHa\n",
        "\n",
        "# String length\n",
        "message = \"Hello, Python!\"\n",
        "print(len(message))  # 14\n",
        "\n",
        "# Accessing characters by index (0-based)\n",
        "print(message[0])   # H\n",
        "print(message[7])   # P\n",
        "\n",
        "# Slicing\n",
        "print(message[0:5])  # Hello\n",
        "print(message[7:])   # Python!\n",
        "print(message[:5])   # Hello\n",
        "print(message[-7:])  # Python!\n",
        "\n",
        "# Common string methods\n",
        "sample = \"  Python Programming  \"\n",
        "\n",
        "print(sample.upper())         # PYTHON PROGRAMMING\n",
        "print(sample.lower())         # python programming\n",
        "print(sample.strip())         # \"Python Programming\"\n",
        "print(sample.replace(\"P\", \"J\"))  # \"  Jython Jrogramming  \"\n",
        "print(sample.split(\" \"))      # ['', '', 'Python', 'Programming', '', '']\n",
        "print(\"programming\" in sample.lower())  # True"
      ],
      "metadata": {
        "colab": {
          "base_uri": "https://localhost:8080/"
        },
        "id": "QDqEK_9tkoaH",
        "outputId": "5fdcbf95-42d3-4d59-c5f2-0e54b7d7bb57"
      },
      "execution_count": 5,
      "outputs": [
        {
          "output_type": "stream",
          "name": "stdout",
          "text": [
            "Hello\n",
            "World\n",
            "This is a \n",
            "multi-line string\n",
            "John Doe\n",
            "HaHaHa\n",
            "14\n",
            "H\n",
            "P\n",
            "Hello\n",
            "Python!\n",
            "Hello\n",
            "Python!\n",
            "  PYTHON PROGRAMMING  \n",
            "  python programming  \n",
            "Python Programming\n",
            "  Jython Jrogramming  \n",
            "['', '', 'Python', 'Programming', '', '']\n",
            "True\n"
          ]
        }
      ]
    },
    {
      "cell_type": "code",
      "source": [
        "### 1.5 Formatted Strings (f-strings)\n",
        "\n",
        "\"\"\"\n",
        "F-strings provide an easy way to embed expressions inside string literals.\n",
        "\"\"\"\n",
        "\n",
        "name = \"Alwin\"\n",
        "age = 23\n",
        "height = 1.75\n",
        "\n",
        "# Old style formatting\n",
        "old_style = \"Name: %s, Age: %d, Height: %.2f\" % (name, age, height)\n",
        "print(old_style)\n",
        "\n",
        "# str.format() method\n",
        "format_method = \"Name: {}, Age: {}, Height: {:.2f}\".format(name, age, height)\n",
        "print(format_method)\n",
        "\n",
        "# f-strings (Python 3.6+)\n",
        "f_string = f\"Name: {name}, Age: {age}, Height: {height:.2f}\"\n",
        "print(f_string)\n",
        "\n",
        "# f-strings with expressions\n",
        "a = 5\n",
        "b = 10\n",
        "print(f\"The sum of {a} and {b} is {a + b}\")"
      ],
      "metadata": {
        "colab": {
          "base_uri": "https://localhost:8080/"
        },
        "id": "hVKHeW4KkoXX",
        "outputId": "4e2dbcc0-de94-4db2-f528-a45f7c11b9b2"
      },
      "execution_count": 6,
      "outputs": [
        {
          "output_type": "stream",
          "name": "stdout",
          "text": [
            "Name: Alwin, Age: 23, Height: 1.75\n",
            "Name: Alwin, Age: 23, Height: 1.75\n",
            "Name: Alwin, Age: 23, Height: 1.75\n",
            "The sum of 5 and 10 is 15\n"
          ]
        }
      ]
    },
    {
      "cell_type": "code",
      "source": [
        "# Data Structures in Python\n",
        "### 1.6 Lists\n",
        "\n",
        "\"\"\"\n",
        "Lists are ordered, mutable collections that can store items of different types.\n",
        "\"\"\"\n",
        "\n",
        "# Creating lists\n",
        "empty_list = []\n",
        "numbers = [1, 2, 3, 4, 5]\n",
        "mixed = [1, \"Hello\", 3.14, True]\n",
        "nested = [1, [2, 3], [4, 5, 6]]\n",
        "\n",
        "print(numbers)\n",
        "print(mixed)\n",
        "print(nested)\n",
        "\n",
        "# Accessing elements (0-based indexing)\n",
        "print(numbers[0])       # 1\n",
        "print(numbers[-1])      # 5\n",
        "print(nested[1][0])     # 2\n",
        "\n",
        "# Slicing lists\n",
        "print(numbers[1:4])     # [2, 3, 4]\n",
        "print(numbers[:3])      # [1, 2, 3]\n",
        "print(numbers[2:])      # [3, 4, 5]\n",
        "\n",
        "# List operations\n",
        "a = [1, 2, 3]\n",
        "b = [4, 5, 6]\n",
        "\n",
        "# Concatenation\n",
        "c = a + b\n",
        "print(c)  # [1, 2, 3, 4, 5, 6]\n",
        "\n",
        "# Repetition\n",
        "d = a * 2\n",
        "print(d)  # [1, 2, 3, 1, 2, 3]\n",
        "\n",
        "# Length\n",
        "print(len(a))  # 3\n",
        "\n",
        "# Membership\n",
        "print(2 in a)  # True\n",
        "print(5 in a)  # False\n",
        "\n",
        "#### List Methods\n",
        "fruits = [\"apple\", \"banana\", \"cherry\"]\n",
        "\n",
        "# Adding elements\n",
        "fruits.append(\"orange\")  # Add to the end\n",
        "print(fruits)  # ['apple', 'banana', 'cherry', 'orange']\n",
        "\n",
        "fruits.insert(1, \"blueberry\")  # Insert at position\n",
        "print(fruits)  # ['apple', 'blueberry', 'banana', 'cherry', 'orange']\n",
        "\n",
        "# Removing elements\n",
        "fruits.remove(\"banana\")  # Remove specific item\n",
        "print(fruits)  # ['apple', 'blueberry', 'cherry', 'orange']\n",
        "\n",
        "popped = fruits.pop()  # Remove and return last item\n",
        "print(popped)  # orange\n",
        "print(fruits)  # ['apple', 'blueberry', 'cherry']\n",
        "\n",
        "# Other useful methods\n",
        "numbers = [3, 1, 4, 1, 5, 9, 2, 6]\n",
        "numbers.sort()  # Sort in-place\n",
        "print(numbers)  # [1, 1, 2, 3, 4, 5, 6, 9]\n",
        "\n",
        "numbers.reverse()  # Reverse in-place\n",
        "print(numbers)  # [9, 6, 5, 4, 3, 2, 1, 1]\n",
        "\n",
        "print(numbers.count(1))  # Count occurrences: 2\n",
        "\n",
        "numbers.clear()  # Empty the list\n",
        "print(numbers)  # []"
      ],
      "metadata": {
        "colab": {
          "base_uri": "https://localhost:8080/"
        },
        "id": "5W67gwfmkoUv",
        "outputId": "af717426-6625-4e28-9b07-d68d9651bb50"
      },
      "execution_count": 7,
      "outputs": [
        {
          "output_type": "stream",
          "name": "stdout",
          "text": [
            "[1, 2, 3, 4, 5]\n",
            "[1, 'Hello', 3.14, True]\n",
            "[1, [2, 3], [4, 5, 6]]\n",
            "1\n",
            "5\n",
            "2\n",
            "[2, 3, 4]\n",
            "[1, 2, 3]\n",
            "[3, 4, 5]\n",
            "[1, 2, 3, 4, 5, 6]\n",
            "[1, 2, 3, 1, 2, 3]\n",
            "3\n",
            "True\n",
            "False\n",
            "['apple', 'banana', 'cherry', 'orange']\n",
            "['apple', 'blueberry', 'banana', 'cherry', 'orange']\n",
            "['apple', 'blueberry', 'cherry', 'orange']\n",
            "orange\n",
            "['apple', 'blueberry', 'cherry']\n",
            "[1, 1, 2, 3, 4, 5, 6, 9]\n",
            "[9, 6, 5, 4, 3, 2, 1, 1]\n",
            "2\n",
            "[]\n"
          ]
        }
      ]
    },
    {
      "cell_type": "code",
      "source": [
        "### Exercise 1.1: Variables and Data Types\n",
        "\"\"\"\n",
        "Create variables of different types and print their values and types.\n",
        "\"\"\"\n",
        "\n",
        "# Your code here\n",
        "# Create an integer, float, string, and boolean variable\n",
        "# Print each variable and its type\n",
        "\n",
        "### Exercise 1.2: String Manipulation\n",
        "\"\"\"\n",
        "Write code to perform the following tasks:\n",
        "1. Create a string variable with your full name\n",
        "2. Print the length of your name\n",
        "3. Convert your name to uppercase\n",
        "4. Extract your first name using slicing\n",
        "5. Check if the letter 'a' is in your name\n",
        "\"\"\"\n",
        "# Your code here\n",
        "\n",
        "### Exercise 1.3: List Operations\n",
        "\"\"\"\n",
        "Create a list of your favorite movies and perform the following operations:\n",
        "1. Add a new movie to the end of the list\n",
        "2. Insert a movie at the beginning of the list\n",
        "3. Remove a movie from the list\n",
        "4. Sort the list alphabetically\n",
        "5. Create a new list with the first 3 movies\n",
        "\"\"\"\n",
        "# Your code here"
      ],
      "metadata": {
        "colab": {
          "base_uri": "https://localhost:8080/",
          "height": 54
        },
        "id": "O7yYqMlNkoR_",
        "outputId": "1c1f149f-ac89-496e-b6ac-b7bd482e29f9"
      },
      "execution_count": 10,
      "outputs": [
        {
          "output_type": "execute_result",
          "data": {
            "text/plain": [
              "'\\nCreate a list of your favorite movies and perform the following operations:\\n1. Add a new movie to the end of the list\\n2. Insert a movie at the beginning of the list\\n3. Remove a movie from the list\\n4. Sort the list alphabetically\\n5. Create a new list with the first 3 movies\\n'"
            ],
            "application/vnd.google.colaboratory.intrinsic+json": {
              "type": "string"
            }
          },
          "metadata": {},
          "execution_count": 10
        }
      ]
    },
    {
      "cell_type": "code",
      "source": [
        "### Challenge 1: Temperature Converter\n",
        "\n",
        "\"\"\"\n",
        "Write a program that converts temperatures between Celsius and Fahrenheit. The program should:\n",
        "1. Ask the user for a temperature value\n",
        "2. Ask the user for the unit (C or F)\n",
        "3. Convert the temperature to the other unit\n",
        "4. Display the result with 2 decimal places\n",
        "\n",
        "Remember:\n",
        "- F = (C × 9/5) + 32\n",
        "- C = (F - 32) × 5/9\n",
        "\n",
        "\"\"\""
      ],
      "metadata": {
        "colab": {
          "base_uri": "https://localhost:8080/",
          "height": 54
        },
        "id": "16hXxuGKkoPX",
        "outputId": "622f4e35-bd48-4fe5-f3f6-957ffa68852e"
      },
      "execution_count": 11,
      "outputs": [
        {
          "output_type": "execute_result",
          "data": {
            "text/plain": [
              "'\\nWrite a program that converts temperatures between Celsius and Fahrenheit. The program should:\\n1. Ask the user for a temperature value\\n2. Ask the user for the unit (C or F)\\n3. Convert the temperature to the other unit\\n4. Display the result with 2 decimal places\\n\\nRemember: \\n- F = (C × 9/5) + 32\\n- C = (F - 32) × 5/9\\n\\n'"
            ],
            "application/vnd.google.colaboratory.intrinsic+json": {
              "type": "string"
            }
          },
          "metadata": {},
          "execution_count": 11
        }
      ]
    }
  ]
}