{
 "cells": [
  {
   "cell_type": "markdown",
   "metadata": {},
   "source": [
    "# Polars Tutorial\n",
    "\n",
    "<img src=\"https://raw.githubusercontent.com/arad1367/UniLi_sources/main/IMG/logo.jpg\" \n",
    "     alt=\"University of Liechtenstein\" \n",
    "     width=\"350\" \n",
    "     height=\"auto\">\n",
    "\n",
    "### About This Tutorial\n",
    "\n",
    "This tutorial is prepared by **Dr. Pejman Ebrahimi** for the \"Deep Learning and Advanced AI Techniques\" course at the University of Liechtenstein. \n",
    "\n",
    "For more resources and notebooks related to this course, please visit Moodle or GitHub repository: [Course Materials](https://github.com/arad1367/University-of-Liechtenstein/tree/main/Deep%20Learning%20and%20Advanced%20AI).\n",
    "\n",
    "You can reach out to Dr. Pejman Ebrahimi via email: [pejman.ebrahimi@uni.li](mailto:pejman.ebrahimi@uni.li)."
   ]
  },
  {
   "cell_type": "markdown",
   "metadata": {},
   "source": [
    "### 1. Introduction to Polars\n",
    "\n",
    "> Polars is a modern, high-performance DataFrame library written in Rust. It is designed for speed and efficiency, making it an excellent alternative to Pandas for handling large datasets. Polars leverages multithreading and lazy evaluation to optimize performance.\n",
    "\n",
    "Key Features:\n",
    "- Extremely fast compared to Pandas (up to 10x faster in some cases).\n",
    "- Supports lazy evaluation for optimizing query execution.\n",
    "- Handles missing data efficiently.\n",
    "- Provides SQL-like syntax for data manipulation.\n",
    "- Integrates well with other libraries like NumPy and Matplotlib."
   ]
  },
  {
   "cell_type": "markdown",
   "metadata": {},
   "source": [
    "### 2. Installation and Import"
   ]
  },
  {
   "cell_type": "code",
   "execution_count": null,
   "metadata": {},
   "outputs": [
    {
     "name": "stdout",
     "output_type": "stream",
     "text": [
      "Collecting polars\n",
      "  Downloading polars-1.26.0-cp39-abi3-win_amd64.whl.metadata (15 kB)\n",
      "Downloading polars-1.26.0-cp39-abi3-win_amd64.whl (35.6 MB)\n",
      "   ---------------------------------------- 0.0/35.6 MB ? eta -:--:--\n",
      "   ---------------------------------------- 0.2/35.6 MB 3.1 MB/s eta 0:00:12\n",
      "    --------------------------------------- 0.8/35.6 MB 8.8 MB/s eta 0:00:04\n",
      "   - -------------------------------------- 1.8/35.6 MB 12.4 MB/s eta 0:00:03\n",
      "   -- ------------------------------------- 2.2/35.6 MB 12.9 MB/s eta 0:00:03\n",
      "   --- ------------------------------------ 2.7/35.6 MB 11.7 MB/s eta 0:00:03\n",
      "   ---- ----------------------------------- 3.9/35.6 MB 13.8 MB/s eta 0:00:03\n",
      "   ----- ---------------------------------- 4.8/35.6 MB 14.5 MB/s eta 0:00:03\n",
      "   ------ --------------------------------- 5.9/35.6 MB 15.7 MB/s eta 0:00:02\n",
      "   ------- -------------------------------- 6.6/35.6 MB 15.7 MB/s eta 0:00:02\n",
      "   -------- ------------------------------- 7.6/35.6 MB 16.2 MB/s eta 0:00:02\n",
      "   --------- ------------------------------ 8.5/35.6 MB 16.5 MB/s eta 0:00:02\n",
      "   --------- ------------------------------ 8.8/35.6 MB 16.5 MB/s eta 0:00:02\n",
      "   ---------- ----------------------------- 9.5/35.6 MB 15.5 MB/s eta 0:00:02\n",
      "   ----------- ---------------------------- 10.2/35.6 MB 15.6 MB/s eta 0:00:02\n",
      "   ------------ --------------------------- 11.2/35.6 MB 17.2 MB/s eta 0:00:02\n",
      "   ------------- -------------------------- 12.1/35.6 MB 17.2 MB/s eta 0:00:02\n",
      "   -------------- ------------------------- 12.6/35.6 MB 17.7 MB/s eta 0:00:02\n",
      "   --------------- ------------------------ 13.4/35.6 MB 17.7 MB/s eta 0:00:02\n",
      "   ---------------- ----------------------- 14.5/35.6 MB 17.2 MB/s eta 0:00:02\n",
      "   ---------------- ----------------------- 14.7/35.6 MB 17.7 MB/s eta 0:00:02\n",
      "   ----------------- ---------------------- 15.6/35.6 MB 16.4 MB/s eta 0:00:02\n",
      "   ------------------ --------------------- 16.7/35.6 MB 16.4 MB/s eta 0:00:02\n",
      "   ------------------- -------------------- 17.7/35.6 MB 16.8 MB/s eta 0:00:02\n",
      "   --------------------- ------------------ 18.8/35.6 MB 16.8 MB/s eta 0:00:02\n",
      "   ---------------------- ----------------- 19.8/35.6 MB 18.2 MB/s eta 0:00:01\n",
      "   ----------------------- ---------------- 20.9/35.6 MB 18.7 MB/s eta 0:00:01\n",
      "   ------------------------ --------------- 21.6/35.6 MB 18.7 MB/s eta 0:00:01\n",
      "   ------------------------ --------------- 21.6/35.6 MB 18.7 MB/s eta 0:00:01\n",
      "   ------------------------- -------------- 22.6/35.6 MB 17.7 MB/s eta 0:00:01\n",
      "   ------------------------- -------------- 22.8/35.6 MB 18.2 MB/s eta 0:00:01\n",
      "   -------------------------- ------------- 23.3/35.6 MB 16.0 MB/s eta 0:00:01\n",
      "   --------------------------- ------------ 24.3/35.6 MB 16.4 MB/s eta 0:00:01\n",
      "   ---------------------------- ----------- 25.1/35.6 MB 17.3 MB/s eta 0:00:01\n",
      "   ----------------------------- ---------- 26.1/35.6 MB 17.3 MB/s eta 0:00:01\n",
      "   ------------------------------ --------- 27.0/35.6 MB 17.2 MB/s eta 0:00:01\n",
      "   ------------------------------ --------- 27.0/35.6 MB 17.2 MB/s eta 0:00:01\n",
      "   ------------------------------- -------- 27.9/35.6 MB 15.6 MB/s eta 0:00:01\n",
      "   -------------------------------- ------- 28.9/35.6 MB 15.6 MB/s eta 0:00:01\n",
      "   --------------------------------- ------ 29.9/35.6 MB 16.0 MB/s eta 0:00:01\n",
      "   ---------------------------------- ----- 30.8/35.6 MB 15.6 MB/s eta 0:00:01\n",
      "   ----------------------------------- ---- 31.8/35.6 MB 15.6 MB/s eta 0:00:01\n",
      "   ------------------------------------ --- 32.5/35.6 MB 16.8 MB/s eta 0:00:01\n",
      "   ------------------------------------- -- 33.6/35.6 MB 18.7 MB/s eta 0:00:01\n",
      "   ------------------------------------- -- 33.6/35.6 MB 17.3 MB/s eta 0:00:01\n",
      "   -------------------------------------- - 34.6/35.6 MB 17.3 MB/s eta 0:00:01\n",
      "   ---------------------------------------  35.1/35.6 MB 17.2 MB/s eta 0:00:01\n",
      "   ---------------------------------------  35.6/35.6 MB 16.4 MB/s eta 0:00:01\n",
      "   ---------------------------------------- 35.6/35.6 MB 15.2 MB/s eta 0:00:00\n",
      "Installing collected packages: polars\n",
      "Successfully installed polars-1.26.0\n",
      "Note: you may need to restart the kernel to use updated packages.\n"
     ]
    },
    {
     "name": "stderr",
     "output_type": "stream",
     "text": [
      "\n",
      "[notice] A new release of pip is available: 24.0 -> 25.0.1\n",
      "[notice] To update, run: C:\\Users\\Pejman\\AppData\\Local\\Microsoft\\WindowsApps\\PythonSoftwareFoundation.Python.3.10_qbz5n2kfra8p0\\python.exe -m pip install --upgrade pip\n"
     ]
    },
    {
     "name": "stdout",
     "output_type": "stream",
     "text": [
      "Polars version: 1.26.0\n"
     ]
    }
   ],
   "source": [
    "# Install Polars (if not already installed)\n",
    "%pip install polars\n",
    "# !pip install polars   -> Colab \n",
    "\n",
    "# Import Polars\n",
    "import polars as pl\n",
    "print(f\"Polars version: {pl.__version__}\")"
   ]
  },
  {
   "cell_type": "code",
   "execution_count": 4,
   "metadata": {},
   "outputs": [
    {
     "name": "stdout",
     "output_type": "stream",
     "text": [
      "Polars version in this notebook is 1.26.0\n"
     ]
    }
   ],
   "source": [
    "print(f\"Polars version in this notebook is {pl.__version__}\")"
   ]
  },
  {
   "cell_type": "markdown",
   "metadata": {},
   "source": [
    "### 3. Core Data Structures in Polars\n",
    "\n",
    "* A Series in Polars is a one-dimensional array capable of holding any data type.\n",
    "* A DataFrame in Polars is a two-dimensional tabular data structure with rows and columns."
   ]
  },
  {
   "cell_type": "code",
   "execution_count": 5,
   "metadata": {},
   "outputs": [
    {
     "name": "stdout",
     "output_type": "stream",
     "text": [
      "shape: (4,)\n",
      "Series: '' [i64]\n",
      "[\n",
      "\t10\n",
      "\t20\n",
      "\t30\n",
      "\t40\n",
      "]\n"
     ]
    }
   ],
   "source": [
    "# Creating a Series\n",
    "data = pl.Series([10, 20, 30, 40])\n",
    "print(data)"
   ]
  },
  {
   "cell_type": "code",
   "execution_count": 6,
   "metadata": {},
   "outputs": [
    {
     "name": "stdout",
     "output_type": "stream",
     "text": [
      "shape: (3, 3)\n",
      "┌────────────┬───────┬───────┐\n",
      "│ Product    ┆ Price ┆ Stock │\n",
      "│ ---        ┆ ---   ┆ ---   │\n",
      "│ str        ┆ i64   ┆ i64   │\n",
      "╞════════════╪═══════╪═══════╡\n",
      "│ Laptop     ┆ 1200  ┆ 50    │\n",
      "│ Smartphone ┆ 800   ┆ 200   │\n",
      "│ Tablet     ┆ 400   ┆ 100   │\n",
      "└────────────┴───────┴───────┘\n"
     ]
    }
   ],
   "source": [
    "# Creating a DataFrame\n",
    "data = {\n",
    "    'Product': ['Laptop', 'Smartphone', 'Tablet'],\n",
    "    'Price': [1200, 800, 400],\n",
    "    'Stock': [50, 200, 100]\n",
    "}\n",
    "df = pl.DataFrame(data)\n",
    "print(df)"
   ]
  },
  {
   "cell_type": "markdown",
   "metadata": {},
   "source": [
    "### 4. Loading Real Datasets"
   ]
  },
  {
   "cell_type": "code",
   "execution_count": 12,
   "metadata": {},
   "outputs": [
    {
     "name": "stdout",
     "output_type": "stream",
     "text": [
      "Employee Data:\n",
      "shape: (5, 7)\n",
      "┌────────────┬────────────────┬─────┬─────────────┬────────┬─────────────┬───────────────────┐\n",
      "│ EmployeeID ┆ Name           ┆ Age ┆ Department  ┆ Salary ┆ JoiningDate ┆ PerformanceRating │\n",
      "│ ---        ┆ ---            ┆ --- ┆ ---         ┆ ---    ┆ ---         ┆ ---               │\n",
      "│ i64        ┆ str            ┆ i64 ┆ str         ┆ i64    ┆ str         ┆ f64               │\n",
      "╞════════════╪════════════════╪═════╪═════════════╪════════╪═════════════╪═══════════════════╡\n",
      "│ 1          ┆ John Doe       ┆ 30  ┆ Engineering ┆ 75000  ┆ 5/15/2020   ┆ 4.5               │\n",
      "│ 2          ┆ Jane Smith     ┆ 28  ┆ Marketing   ┆ 60000  ┆ 10/20/2019  ┆ 3.8               │\n",
      "│ 3          ┆ Bob Johnson    ┆ 35  ┆ Finance     ┆ 80000  ┆ 2/10/2021   ┆ 4.2               │\n",
      "│ 4          ┆ Alice Williams ┆ 32  ┆ Engineering ┆ 82000  ┆ 9/5/2018    ┆ 4.7               │\n",
      "│ 5          ┆ Chris Brown    ┆ 28  ┆ Finance     ┆ 75000  ┆ 1/12/2022   ┆ 3.5               │\n",
      "└────────────┴────────────────┴─────┴─────────────┴────────┴─────────────┴───────────────────┘\n",
      "\n",
      "Drug Data:\n",
      "shape: (5, 6)\n",
      "┌─────┬─────┬────────┬─────────────┬─────────┬───────┐\n",
      "│ Age ┆ Sex ┆ BP     ┆ Cholesterol ┆ Na_to_K ┆ Drug  │\n",
      "│ --- ┆ --- ┆ ---    ┆ ---         ┆ ---     ┆ ---   │\n",
      "│ i64 ┆ str ┆ str    ┆ str         ┆ f64     ┆ str   │\n",
      "╞═════╪═════╪════════╪═════════════╪═════════╪═══════╡\n",
      "│ 23  ┆ F   ┆ HIGH   ┆ HIGH        ┆ 25.355  ┆ DrugY │\n",
      "│ 47  ┆ M   ┆ LOW    ┆ HIGH        ┆ 13.093  ┆ drugC │\n",
      "│ 47  ┆ M   ┆ LOW    ┆ HIGH        ┆ 10.114  ┆ drugC │\n",
      "│ 28  ┆ F   ┆ NORMAL ┆ HIGH        ┆ 7.798   ┆ drugX │\n",
      "│ 61  ┆ F   ┆ LOW    ┆ HIGH        ┆ 18.043  ┆ DrugY │\n",
      "└─────┴─────┴────────┴─────────────┴─────────┴───────┘\n"
     ]
    }
   ],
   "source": [
    "# Load Employee Data\n",
    "employee_data_url = \"https://raw.githubusercontent.com/arad1367/WAC_November-2023/refs/heads/main/Employee_Data_missing.csv\"\n",
    "employee_df = pl.read_csv(employee_data_url)\n",
    "print(\"Employee Data:\")\n",
    "print(employee_df.head())\n",
    "\n",
    "# Load Drug Data\n",
    "drug_data_url = \"https://raw.githubusercontent.com/arad1367/WAC_November-2023/refs/heads/main/drug200_missing.csv\"\n",
    "drug_df = pl.read_csv(drug_data_url)\n",
    "print(\"\\nDrug Data:\")\n",
    "print(drug_df.head())"
   ]
  },
  {
   "cell_type": "markdown",
   "metadata": {},
   "source": [
    "### 5. Data Exploration with Expressions\n",
    "\n",
    "* Polars uses expressions for efficient and concise data exploration."
   ]
  },
  {
   "cell_type": "code",
   "execution_count": 9,
   "metadata": {},
   "outputs": [
    {
     "name": "stdout",
     "output_type": "stream",
     "text": [
      "shape: (1, 1)\n",
      "┌──────────────┐\n",
      "│ Salary       │\n",
      "│ ---          │\n",
      "│ f64          │\n",
      "╞══════════════╡\n",
      "│ 77520.833333 │\n",
      "└──────────────┘\n"
     ]
    }
   ],
   "source": [
    "# Calculate the average salary across all employees\n",
    "average_salary = employee_df.select(pl.col('Salary').mean())\n",
    "print(average_salary)"
   ]
  },
  {
   "cell_type": "markdown",
   "metadata": {},
   "source": [
    "### 6. Data Cleaning with Polars\n",
    "\n",
    "* Polars provides robust tools for handling missing or inconsistent data."
   ]
  },
  {
   "cell_type": "code",
   "execution_count": 11,
   "metadata": {},
   "outputs": [
    {
     "name": "stdout",
     "output_type": "stream",
     "text": [
      "Missing Values in Employee Data:\n",
      "shape: (1, 7)\n",
      "┌────────────┬──────┬─────┬────────────┬────────┬─────────────┬───────────────────┐\n",
      "│ EmployeeID ┆ Name ┆ Age ┆ Department ┆ Salary ┆ JoiningDate ┆ PerformanceRating │\n",
      "│ ---        ┆ ---  ┆ --- ┆ ---        ┆ ---    ┆ ---         ┆ ---               │\n",
      "│ u32        ┆ u32  ┆ u32 ┆ u32        ┆ u32    ┆ u32         ┆ u32               │\n",
      "╞════════════╪══════╪═════╪════════════╪════════╪═════════════╪═══════════════════╡\n",
      "│ 0          ┆ 0    ┆ 0   ┆ 2          ┆ 2      ┆ 1           ┆ 1                 │\n",
      "└────────────┴──────┴─────┴────────────┴────────┴─────────────┴───────────────────┘\n",
      "\n",
      "Cleaned Employee Data:\n",
      "shape: (47, 7)\n",
      "┌────────────┬────────────────┬─────┬─────────────┬────────┬─────────────┬───────────────────┐\n",
      "│ EmployeeID ┆ Name           ┆ Age ┆ Department  ┆ Salary ┆ JoiningDate ┆ PerformanceRating │\n",
      "│ ---        ┆ ---            ┆ --- ┆ ---         ┆ ---    ┆ ---         ┆ ---               │\n",
      "│ i64        ┆ str            ┆ i64 ┆ str         ┆ i64    ┆ str         ┆ f64               │\n",
      "╞════════════╪════════════════╪═════╪═════════════╪════════╪═════════════╪═══════════════════╡\n",
      "│ 1          ┆ John Doe       ┆ 30  ┆ Engineering ┆ 75000  ┆ 5/15/2020   ┆ 4.5               │\n",
      "│ 2          ┆ Jane Smith     ┆ 28  ┆ Marketing   ┆ 60000  ┆ 10/20/2019  ┆ 3.8               │\n",
      "│ 3          ┆ Bob Johnson    ┆ 35  ┆ Finance     ┆ 80000  ┆ 2/10/2021   ┆ 4.2               │\n",
      "│ 4          ┆ Alice Williams ┆ 32  ┆ Engineering ┆ 82000  ┆ 9/5/2018    ┆ 4.7               │\n",
      "│ 5          ┆ Chris Brown    ┆ 28  ┆ Finance     ┆ 75000  ┆ 1/12/2022   ┆ 3.5               │\n",
      "│ …          ┆ …              ┆ …   ┆ …           ┆ …      ┆ …           ┆ …                 │\n",
      "│ 45         ┆ Aiden Anderson ┆ 26  ┆ Marketing   ┆ 70000  ┆ 4/25/2022   ┆ 4.5               │\n",
      "│ 46         ┆ Emma Taylor    ┆ 37  ┆ Finance     ┆ 90000  ┆ 10/10/2019  ┆ 4.2               │\n",
      "│ 47         ┆ Lucas White    ┆ 28  ┆ Engineering ┆ 84000  ┆ 5/6/2021    ┆ 4.1               │\n",
      "│ 49         ┆ Mia Davis      ┆ 36  ┆ Marketing   ┆ 71000  ┆ 9/14/2018   ┆ 4.7               │\n",
      "│ 50         ┆ Logan Clark    ┆ 30  ┆ Finance     ┆ 92000  ┆ 1/1/2022    ┆ 4.2               │\n",
      "└────────────┴────────────────┴─────┴─────────────┴────────┴─────────────┴───────────────────┘\n"
     ]
    }
   ],
   "source": [
    "# Check for missing values\n",
    "print(\"Missing Values in Employee Data:\")\n",
    "print(employee_df.null_count())\n",
    "\n",
    "# Drop rows with missing values\n",
    "cleaned_employee_df = employee_df.drop_nulls()\n",
    "print(\"\\nCleaned Employee Data:\")\n",
    "print(cleaned_employee_df)"
   ]
  },
  {
   "cell_type": "code",
   "execution_count": 14,
   "metadata": {},
   "outputs": [
    {
     "name": "stdout",
     "output_type": "stream",
     "text": [
      "\n",
      "Filled Drug Data:\n",
      "shape: (200, 6)\n",
      "┌─────┬─────┬────────┬─────────────┬─────────┬───────┐\n",
      "│ Age ┆ Sex ┆ BP     ┆ Cholesterol ┆ Na_to_K ┆ Drug  │\n",
      "│ --- ┆ --- ┆ ---    ┆ ---         ┆ ---     ┆ ---   │\n",
      "│ i64 ┆ str ┆ str    ┆ str         ┆ f64     ┆ str   │\n",
      "╞═════╪═════╪════════╪═════════════╪═════════╪═══════╡\n",
      "│ 23  ┆ F   ┆ HIGH   ┆ HIGH        ┆ 25.355  ┆ DrugY │\n",
      "│ 47  ┆ M   ┆ LOW    ┆ HIGH        ┆ 13.093  ┆ drugC │\n",
      "│ 47  ┆ M   ┆ LOW    ┆ HIGH        ┆ 10.114  ┆ drugC │\n",
      "│ 28  ┆ F   ┆ NORMAL ┆ HIGH        ┆ 7.798   ┆ drugX │\n",
      "│ 61  ┆ F   ┆ LOW    ┆ HIGH        ┆ 18.043  ┆ DrugY │\n",
      "│ …   ┆ …   ┆ …      ┆ …           ┆ …       ┆ …     │\n",
      "│ 56  ┆ F   ┆ LOW    ┆ HIGH        ┆ 11.567  ┆ drugC │\n",
      "│ 16  ┆ M   ┆ LOW    ┆ HIGH        ┆ 12.006  ┆ drugC │\n",
      "│ 52  ┆ M   ┆ NORMAL ┆ HIGH        ┆ 9.894   ┆ drugX │\n",
      "│ 23  ┆ M   ┆ NORMAL ┆ NORMAL      ┆ 14.02   ┆ drugX │\n",
      "│ 40  ┆ F   ┆ LOW    ┆ NORMAL      ┆ 11.349  ┆ drugX │\n",
      "└─────┴─────┴────────┴─────────────┴─────────┴───────┘\n"
     ]
    }
   ],
   "source": [
    "# Fill missing values in 'Cholesterol' with 'Unknown' and 'Na_to_K' with 0\n",
    "filled_drug_df = drug_df.with_columns(\n",
    "    pl.col('Cholesterol').fill_null('Unknown'),\n",
    "    pl.col('Na_to_K').fill_null(0)\n",
    ")\n",
    "print(\"\\nFilled Drug Data:\")\n",
    "print(filled_drug_df)"
   ]
  },
  {
   "cell_type": "markdown",
   "metadata": {},
   "source": [
    "### 7. Data Manipulation Using Expressions\n",
    "\n",
    "* Polars expressions allow you to perform complex transformations efficiently."
   ]
  },
  {
   "cell_type": "code",
   "execution_count": 15,
   "metadata": {},
   "outputs": [
    {
     "name": "stdout",
     "output_type": "stream",
     "text": [
      "shape: (50, 8)\n",
      "┌────────────┬────────────────┬─────┬─────────────┬────────┬─────────────┬────────────────┬────────┐\n",
      "│ EmployeeID ┆ Name           ┆ Age ┆ Department  ┆ Salary ┆ JoiningDate ┆ PerformanceRat ┆ Bonus  │\n",
      "│ ---        ┆ ---            ┆ --- ┆ ---         ┆ ---    ┆ ---         ┆ ing            ┆ ---    │\n",
      "│ i64        ┆ str            ┆ i64 ┆ str         ┆ i64    ┆ str         ┆ ---            ┆ f64    │\n",
      "│            ┆                ┆     ┆             ┆        ┆             ┆ f64            ┆        │\n",
      "╞════════════╪════════════════╪═════╪═════════════╪════════╪═════════════╪════════════════╪════════╡\n",
      "│ 1          ┆ John Doe       ┆ 30  ┆ Engineering ┆ 75000  ┆ 5/15/2020   ┆ 4.5            ┆ 7500.0 │\n",
      "│ 2          ┆ Jane Smith     ┆ 28  ┆ Marketing   ┆ 60000  ┆ 10/20/2019  ┆ 3.8            ┆ 6000.0 │\n",
      "│ 3          ┆ Bob Johnson    ┆ 35  ┆ Finance     ┆ 80000  ┆ 2/10/2021   ┆ 4.2            ┆ 8000.0 │\n",
      "│ 4          ┆ Alice Williams ┆ 32  ┆ Engineering ┆ 82000  ┆ 9/5/2018    ┆ 4.7            ┆ 8200.0 │\n",
      "│ 5          ┆ Chris Brown    ┆ 28  ┆ Finance     ┆ 75000  ┆ 1/12/2022   ┆ 3.5            ┆ 7500.0 │\n",
      "│ …          ┆ …              ┆ …   ┆ …           ┆ …      ┆ …           ┆ …              ┆ …      │\n",
      "│ 46         ┆ Emma Taylor    ┆ 37  ┆ Finance     ┆ 90000  ┆ 10/10/2019  ┆ 4.2            ┆ 9000.0 │\n",
      "│ 47         ┆ Lucas White    ┆ 28  ┆ Engineering ┆ 84000  ┆ 5/6/2021    ┆ 4.1            ┆ 8400.0 │\n",
      "│ 48         ┆ Ava Smith      ┆ 29  ┆ null        ┆ null   ┆ 2/19/2020   ┆ null           ┆ null   │\n",
      "│ 49         ┆ Mia Davis      ┆ 36  ┆ Marketing   ┆ 71000  ┆ 9/14/2018   ┆ 4.7            ┆ 7100.0 │\n",
      "│ 50         ┆ Logan Clark    ┆ 30  ┆ Finance     ┆ 92000  ┆ 1/1/2022    ┆ 4.2            ┆ 9200.0 │\n",
      "└────────────┴────────────────┴─────┴─────────────┴────────┴─────────────┴────────────────┴────────┘\n",
      "shape: (48, 8)\n",
      "┌────────────┬────────────────┬─────┬─────────────┬────────┬─────────────┬────────────────┬────────┐\n",
      "│ EmployeeID ┆ Name           ┆ Age ┆ Department  ┆ Salary ┆ JoiningDate ┆ PerformanceRat ┆ Bonus  │\n",
      "│ ---        ┆ ---            ┆ --- ┆ ---         ┆ ---    ┆ ---         ┆ ing            ┆ ---    │\n",
      "│ i64        ┆ str            ┆ i64 ┆ str         ┆ i64    ┆ str         ┆ ---            ┆ f64    │\n",
      "│            ┆                ┆     ┆             ┆        ┆             ┆ f64            ┆        │\n",
      "╞════════════╪════════════════╪═════╪═════════════╪════════╪═════════════╪════════════════╪════════╡\n",
      "│ 1          ┆ John Doe       ┆ 30  ┆ Engineering ┆ 75000  ┆ 5/15/2020   ┆ 4.5            ┆ 7500.0 │\n",
      "│ 2          ┆ Jane Smith     ┆ 28  ┆ Marketing   ┆ 60000  ┆ 10/20/2019  ┆ 3.8            ┆ 6000.0 │\n",
      "│ 3          ┆ Bob Johnson    ┆ 35  ┆ Finance     ┆ 80000  ┆ 2/10/2021   ┆ 4.2            ┆ 8000.0 │\n",
      "│ 4          ┆ Alice Williams ┆ 32  ┆ Engineering ┆ 82000  ┆ 9/5/2018    ┆ 4.7            ┆ 8200.0 │\n",
      "│ 5          ┆ Chris Brown    ┆ 28  ┆ Finance     ┆ 75000  ┆ 1/12/2022   ┆ 3.5            ┆ 7500.0 │\n",
      "│ …          ┆ …              ┆ …   ┆ …           ┆ …      ┆ …           ┆ …              ┆ …      │\n",
      "│ 45         ┆ Aiden Anderson ┆ 26  ┆ Marketing   ┆ 70000  ┆ 4/25/2022   ┆ 4.5            ┆ 7000.0 │\n",
      "│ 46         ┆ Emma Taylor    ┆ 37  ┆ Finance     ┆ 90000  ┆ 10/10/2019  ┆ 4.2            ┆ 9000.0 │\n",
      "│ 47         ┆ Lucas White    ┆ 28  ┆ Engineering ┆ 84000  ┆ 5/6/2021    ┆ 4.1            ┆ 8400.0 │\n",
      "│ 49         ┆ Mia Davis      ┆ 36  ┆ Marketing   ┆ 71000  ┆ 9/14/2018   ┆ 4.7            ┆ 7100.0 │\n",
      "│ 50         ┆ Logan Clark    ┆ 30  ┆ Finance     ┆ 92000  ┆ 1/1/2022    ┆ 4.2            ┆ 9200.0 │\n",
      "└────────────┴────────────────┴─────┴─────────────┴────────┴─────────────┴────────────────┴────────┘\n"
     ]
    }
   ],
   "source": [
    "# Add a new column: Bonus (10% of Salary)\n",
    "employee_df = employee_df.with_columns((pl.col('Salary') * 0.1).alias('Bonus'))\n",
    "print(employee_df)\n",
    "\n",
    "# Filter employees with a bonus greater than 5000\n",
    "high_bonus_employees = employee_df.filter(pl.col('Bonus') > 5000)\n",
    "print(high_bonus_employees)"
   ]
  },
  {
   "cell_type": "markdown",
   "metadata": {},
   "source": [
    "### 8. GroupBy and Aggregations\n",
    "\n",
    "* GroupBy operations in Polars are highly optimized and expressive."
   ]
  },
  {
   "cell_type": "code",
   "execution_count": null,
   "metadata": {},
   "outputs": [
    {
     "name": "stdout",
     "output_type": "stream",
     "text": [
      "shape: (5, 3)\n",
      "┌─────────────┬──────────────┬─────────────┐\n",
      "│ Department  ┆ Total_Salary ┆ Average_Age │\n",
      "│ ---         ┆ ---          ┆ ---         │\n",
      "│ str         ┆ i64          ┆ f64         │\n",
      "╞═════════════╪══════════════╪═════════════╡\n",
      "│ null        ┆ 0            ┆ 31.5        │\n",
      "│ Engineering ┆ 1228000      ┆ 30.733333   │\n",
      "│ Finance     ┆ 1116000      ┆ 32.384615   │\n",
      "│ Marketing   ┆ 873000       ┆ 30.692308   │\n",
      "│ HR          ┆ 504000       ┆ 32.0        │\n",
      "└─────────────┴──────────────┴─────────────┘\n"
     ]
    }
   ],
   "source": [
    "# Group employees by Department and calculate total salary and average age\n",
    "grouped_data = (\n",
    "    employee_df.group_by('Department')  # Use 'group_by' (polars) instead of 'groupby' (pandas)\n",
    "    .agg([\n",
    "        pl.col('Salary').sum().alias('Total_Salary'),\n",
    "        pl.col('Age').mean().alias('Average_Age')\n",
    "    ])\n",
    ")\n",
    "print(grouped_data)"
   ]
  },
  {
   "cell_type": "markdown",
   "metadata": {},
   "source": [
    "### 9. Joins and Concatenation\n",
    "\n",
    "* Polars supports efficient joins and concatenation of DataFrames."
   ]
  },
  {
   "cell_type": "code",
   "execution_count": 18,
   "metadata": {},
   "outputs": [
    {
     "name": "stdout",
     "output_type": "stream",
     "text": [
      "shape: (1, 3)\n",
      "┌────────────┬───────┬───────┐\n",
      "│ Product    ┆ Price ┆ Stock │\n",
      "│ ---        ┆ ---   ┆ ---   │\n",
      "│ str        ┆ i64   ┆ i64   │\n",
      "╞════════════╪═══════╪═══════╡\n",
      "│ Smartphone ┆ 800   ┆ 200   │\n",
      "└────────────┴───────┴───────┘\n"
     ]
    }
   ],
   "source": [
    "# Create two DataFrames\n",
    "df1 = pl.DataFrame({'Product': ['Laptop', 'Smartphone'], 'Price': [1200, 800]})\n",
    "df2 = pl.DataFrame({'Product': ['Smartphone', 'Tablet'], 'Stock': [200, 100]})\n",
    "\n",
    "# Inner join\n",
    "merged_df = df1.join(df2, on='Product', how='inner')\n",
    "print(merged_df)"
   ]
  },
  {
   "cell_type": "markdown",
   "metadata": {},
   "source": [
    "### 10. Lazy Evaluation in Polars\n",
    "\n",
    "* Lazy evaluation optimizes query execution by building a query plan before executing it.\n",
    "* My favorite!"
   ]
  },
  {
   "cell_type": "code",
   "execution_count": 20,
   "metadata": {},
   "outputs": [
    {
     "name": "stdout",
     "output_type": "stream",
     "text": [
      "shape: (4, 2)\n",
      "┌─────────────┬──────────────┐\n",
      "│ Department  ┆ Salary       │\n",
      "│ ---         ┆ ---          │\n",
      "│ str         ┆ f64          │\n",
      "╞═════════════╪══════════════╡\n",
      "│ Engineering ┆ 81866.666667 │\n",
      "│ HR          ┆ 73000.0      │\n",
      "│ Finance     ┆ 85846.153846 │\n",
      "│ Marketing   ┆ 78666.666667 │\n",
      "└─────────────┴──────────────┘\n"
     ]
    }
   ],
   "source": [
    "# Use lazy evaluation\n",
    "lazy_df = employee_df.lazy()\n",
    "\n",
    "# Perform multiple operations in a single query\n",
    "result = (\n",
    "    lazy_df\n",
    "    .filter(pl.col('Salary') > 70000)\n",
    "    .group_by('Department')\n",
    "    .agg(pl.col('Salary').mean())\n",
    "    .collect()  # Execute the query\n",
    ")\n",
    "print(result)"
   ]
  },
  {
   "cell_type": "markdown",
   "metadata": {},
   "source": [
    "### 11. SQL-like Queries in Polars\n",
    "\n",
    "* Polars supports SQL-like syntax for querying DataFrames."
   ]
  },
  {
   "cell_type": "code",
   "execution_count": 22,
   "metadata": {},
   "outputs": [
    {
     "name": "stdout",
     "output_type": "stream",
     "text": [
      "shape: (5, 2)\n",
      "┌─────────────┬────────────────┐\n",
      "│ Department  ┆ Average_Salary │\n",
      "│ ---         ┆ ---            │\n",
      "│ str         ┆ f64            │\n",
      "╞═════════════╪════════════════╡\n",
      "│ Finance     ┆ 85846.153846   │\n",
      "│ HR          ┆ 72000.0        │\n",
      "│ Engineering ┆ 81866.666667   │\n",
      "│ null        ┆ null           │\n",
      "│ Marketing   ┆ 67153.846154   │\n",
      "└─────────────┴────────────────┘\n"
     ]
    }
   ],
   "source": [
    "# Import the SQLContext from Polars\n",
    "from polars import SQLContext\n",
    "\n",
    "# Create a SQLContext and register the DataFrame as a table\n",
    "sql_context = SQLContext()\n",
    "sql_context.register(\"employee_table\", employee_df)  # Register the DataFrame as \"employee_table\"\n",
    "\n",
    "# Query using SQL syntax\n",
    "query_result = sql_context.execute(\"\"\"\n",
    "    SELECT Department, AVG(Salary) AS Average_Salary\n",
    "    FROM employee_table\n",
    "    GROUP BY Department\n",
    "\"\"\").collect()  # Use .collect() to execute the query and return the result\n",
    "\n",
    "print(query_result)"
   ]
  },
  {
   "cell_type": "markdown",
   "metadata": {},
   "source": [
    "### 12. Visualization with Polars\n",
    "\n",
    "* Polars integrates with Matplotlib and Seaborn for visualizations."
   ]
  },
  {
   "cell_type": "code",
   "execution_count": 23,
   "metadata": {},
   "outputs": [
    {
     "data": {
      "image/png": "[encoded data removed]",
      "text/plain": [
       "<Figure size 640x480 with 1 Axes>"
      ]
     },
     "metadata": {},
     "output_type": "display_data"
    }
   ],
   "source": [
    "import matplotlib.pyplot as plt\n",
    "\n",
    "# Convert Polars DataFrame to Pandas for visualization\n",
    "grouped_data_pandas = grouped_data.to_pandas()\n",
    "\n",
    "# Plot a bar chart\n",
    "grouped_data_pandas.plot(kind='bar', x='Department', y='Total_Salary', title='Total Salary by Department')\n",
    "plt.show()"
   ]
  },
  {
   "cell_type": "markdown",
   "metadata": {},
   "source": [
    "### 13. Practice Exercises\n",
    "\n",
    "1. Load the `drug200_missing.csv` dataset using Polars and display the first 10 rows.\n",
    "2. Filter drugs with `Na_to_K` > 15 and calculate the average `Na_to_K` for each drug.\n",
    "3. Add a new column to the `Employee_Data_missing.csv` dataset: `Is_High_Performer` (True if PerformanceRating > 4, else False).\n",
    "4. Group the `drug200_missing.csv` dataset by `BP` (Blood Pressure) and calculate the average `Na_to_K` for each group.\n",
    "5. Use lazy evaluation to filter employees with Salary > 70000 and calculate the total salary by Department.\n",
    "6. Write a SQL-like query to find the top 3 highest-paid employees."
   ]
  },
  {
   "cell_type": "markdown",
   "metadata": {},
   "source": [
    "### 14. Main source and more practice\n",
    "\n",
    "* https://docs.pola.rs/user-guide/getting-started/"
   ]
  }
 ],
 "metadata": {
  "kernelspec": {
   "display_name": "Python 3",
   "language": "python",
   "name": "python3"
  },
  "language_info": {
   "codemirror_mode": {
    "name": "ipython",
    "version": 3
   },
   "file_extension": ".py",
   "mimetype": "text/x-python",
   "name": "python",
   "nbconvert_exporter": "python",
   "pygments_lexer": "ipython3",
   "version": "3.10.11"
  }
 },
 "nbformat": 4,
 "nbformat_minor": 2
}
