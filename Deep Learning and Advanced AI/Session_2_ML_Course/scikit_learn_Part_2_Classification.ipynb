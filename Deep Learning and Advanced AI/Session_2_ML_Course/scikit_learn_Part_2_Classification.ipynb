{
  "nbformat": 4,
  "nbformat_minor": 0,
  "metadata": {
    "colab": {
      "provenance": []
    },
    "kernelspec": {
      "name": "python3",
      "display_name": "Python 3"
    },
    "language_info": {
      "name": "python"
    }
  },
  "cells": [
    {
      "cell_type": "markdown",
      "source": [
        "# scikit-learn Tutorial (Part 2 - Classification) - Students Task\n",
        "\n",
        "<img src=\"https://raw.githubusercontent.com/arad1367/UniLi_sources/main/IMG/logo.jpg\"\n",
        "     alt=\"University of Liechtenstein\"\n",
        "     width=\"350\"\n",
        "     height=\"auto\">\n",
        "\n",
        "### About This Tutorial\n",
        "\n",
        "This tutorial is prepared by **Dr. Pejman Ebrahimi** for the \"Deep Learning and Advanced AI Techniques\" course at the University of Liechtenstein.\n",
        "\n",
        "For more resources and notebooks related to this course, please visit Moodle or GitHub repository: [Course Materials](https://github.com/arad1367/University-of-Liechtenstein/tree/main/Deep%20Learning%20and%20Advanced%20AI).\n",
        "\n",
        "You can reach out to Dr. Pejman Ebrahimi via email: [pejman.ebrahimi@uni.li](mailto:pejman.ebrahimi@uni.li).\n",
        "\n",
        "---\n",
        "\n",
        "### Student Task: Classification Problem\n",
        "\n",
        "This notebook is **Part 2 - Classification**, and it is designed as a hands-on exercise for students. Your task is to follow the workflow demonstrated in **Part 1 - Regression** and apply it to a classification problem using scikit-learn.\n",
        "\n",
        "#### Instructions:\n",
        "1. Replace the placeholders below with your group's details.\n",
        "2. Use a classification dataset from scikit-learn (e.g., `load_iris`, `load_digits`) or any other suitable dataset.\n",
        "3. Follow the same steps outlined in Part 1, adapting them for classification:\n",
        "   - Data preprocessing and EDA.\n",
        "   - Splitting data into training and testing sets.\n",
        "   - Training and evaluating classification models.\n",
        "   - Using appropriate metrics (e.g., accuracy, precision, recall, F1-score).\n",
        "   - Experimenting with hyperparameter tuning.\n",
        "4. Save the best model using `pickle` and deploy it with a simple Gradio app.\n",
        "\n",
        "#### Group Details:\n",
        "- **Group Name**: [Insert Your Group Name Here]\n",
        "- **Members**:\n",
        "  - [Insert Member 1 Name]\n",
        "  - [Insert Member 2 Name]\n",
        "  - [Insert Member 3 Name]\n",
        "\n",
        "#### Dataset:\n",
        "- **Dataset Name**: [Insert Dataset Name Here]\n",
        "- **Problem Type**: Classification\n",
        "\n",
        "#### Models to Explore:\n",
        "- SVC\n",
        "- KNeighborsClassifier\n",
        "- Random Forest Classifier\n",
        "- (Optional) XGBoost or LightGBM for advanced exploration\n",
        "\n",
        "#### Deliverables:\n",
        "1. A completed Jupyter Notebook with all sections filled out.\n",
        "2. A brief report summarizing your findings, including:\n",
        "   - Model performance comparison.\n",
        "   - Insights from the classification task.\n",
        "3. A deployed Gradio app for real-time predictions.\n",
        "\n",
        "Good luck, and happy learning!\n",
        "\n",
        "Pejman"
      ],
      "metadata": {
        "id": "Amv6rWKjV6yc"
      }
    },
    {
      "cell_type": "code",
      "source": [],
      "metadata": {
        "id": "9SOSE9DjWgVq"
      },
      "execution_count": null,
      "outputs": []
    }
  ]
}